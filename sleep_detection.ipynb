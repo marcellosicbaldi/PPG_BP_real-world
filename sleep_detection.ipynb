{
 "cells": [
  {
   "cell_type": "code",
   "execution_count": 1,
   "metadata": {},
   "outputs": [],
   "source": [
    "import numpy as np\n",
    "import pandas as pd\n",
    "import matplotlib.pyplot as plt \n",
    "import seaborn as sns\n",
    "import os\n",
    "import matplotlib as mpl\n",
    "mpl.rcParams[\"lines.linewidth\"] = 0.96\n",
    "%matplotlib qt\n",
    "\n",
    "# from sleep import *\n",
    "from load_utils import * "
   ]
  },
  {
   "cell_type": "code",
   "execution_count": 2,
   "metadata": {},
   "outputs": [
    {
     "data": {
      "text/plain": [
       "['10_AC',\n",
       " '11_EC',\n",
       " '12_FN',\n",
       " '13_MS',\n",
       " '14_AD',\n",
       " '15_ER',\n",
       " '16_PD',\n",
       " '17_EG',\n",
       " '18_MV',\n",
       " '19_FI',\n",
       " '1_ID',\n",
       " '20_AC',\n",
       " '21_CK',\n",
       " '22_CM',\n",
       " '23_PP',\n",
       " '24_SM',\n",
       " '25_LP',\n",
       " '26_CB',\n",
       " '27_CM',\n",
       " '28_GM',\n",
       " '29_LT',\n",
       " '30_LN',\n",
       " '31_FB',\n",
       " '32_CD',\n",
       " '33_NM',\n",
       " '34_AS',\n",
       " '35_AA',\n",
       " '36_GS',\n",
       " '37_IC',\n",
       " '38_GC',\n",
       " '39_NB',\n",
       " '3_JF',\n",
       " '40_SQ',\n",
       " '4_MF',\n",
       " '5_PD',\n",
       " '6_SS',\n",
       " '7_GM',\n",
       " '8_MB',\n",
       " '9_BC']"
      ]
     },
     "execution_count": 2,
     "metadata": {},
     "output_type": "execute_result"
    }
   ],
   "source": [
    "HOM_path = '/Users/marcellosicbaldi/Library/CloudStorage/OneDrive-AlmaMaterStudiorumUniversitàdiBologna/Acq/HOM/'\n",
    "data_path = '/Users/marcellosicbaldi/Library/CloudStorage/OneDrive-AlmaMaterStudiorumUniversitàdiBologna/Acq/NewAnalysis2023/CinC/Data_24hPulses/baseline/'\n",
    "sub_names = sorted([f for f in os.listdir(data_path) if not f.startswith('.')])\n",
    "sub_names"
   ]
  },
  {
   "cell_type": "code",
   "execution_count": 43,
   "metadata": {},
   "outputs": [
    {
     "data": {
      "text/plain": [
       "['5_PD', '6_SS', '7_GM', '8_MB', '9_BC']"
      ]
     },
     "execution_count": 43,
     "metadata": {},
     "output_type": "execute_result"
    }
   ],
   "source": [
    "sub_names[-5:]"
   ]
  },
  {
   "cell_type": "code",
   "execution_count": 19,
   "metadata": {},
   "outputs": [],
   "source": [
    "import glob"
   ]
  },
  {
   "cell_type": "code",
   "execution_count": 11,
   "metadata": {},
   "outputs": [
    {
     "data": {
      "text/html": [
       "<div>\n",
       "<style scoped>\n",
       "    .dataframe tbody tr th:only-of-type {\n",
       "        vertical-align: middle;\n",
       "    }\n",
       "\n",
       "    .dataframe tbody tr th {\n",
       "        vertical-align: top;\n",
       "    }\n",
       "\n",
       "    .dataframe thead th {\n",
       "        text-align: right;\n",
       "    }\n",
       "</style>\n",
       "<table border=\"1\" class=\"dataframe\">\n",
       "  <thead>\n",
       "    <tr style=\"text-align: right;\">\n",
       "      <th></th>\n",
       "      <th>x</th>\n",
       "      <th>y</th>\n",
       "      <th>z</th>\n",
       "    </tr>\n",
       "  </thead>\n",
       "  <tbody>\n",
       "    <tr>\n",
       "      <th>2019-11-21 10:21:49.000000</th>\n",
       "      <td>0.968750</td>\n",
       "      <td>0.109375</td>\n",
       "      <td>-0.171875</td>\n",
       "    </tr>\n",
       "    <tr>\n",
       "      <th>2019-11-21 10:21:49.031250</th>\n",
       "      <td>0.953125</td>\n",
       "      <td>0.109375</td>\n",
       "      <td>-0.171875</td>\n",
       "    </tr>\n",
       "    <tr>\n",
       "      <th>2019-11-21 10:21:49.062500</th>\n",
       "      <td>0.953125</td>\n",
       "      <td>0.109375</td>\n",
       "      <td>-0.171875</td>\n",
       "    </tr>\n",
       "    <tr>\n",
       "      <th>2019-11-21 10:21:49.093750</th>\n",
       "      <td>0.953125</td>\n",
       "      <td>0.093750</td>\n",
       "      <td>-0.171875</td>\n",
       "    </tr>\n",
       "    <tr>\n",
       "      <th>2019-11-21 10:21:49.125000</th>\n",
       "      <td>0.968750</td>\n",
       "      <td>0.093750</td>\n",
       "      <td>-0.171875</td>\n",
       "    </tr>\n",
       "  </tbody>\n",
       "</table>\n",
       "</div>"
      ],
      "text/plain": [
       "                                   x         y         z\n",
       "2019-11-21 10:21:49.000000  0.968750  0.109375 -0.171875\n",
       "2019-11-21 10:21:49.031250  0.953125  0.109375 -0.171875\n",
       "2019-11-21 10:21:49.062500  0.953125  0.109375 -0.171875\n",
       "2019-11-21 10:21:49.093750  0.953125  0.093750 -0.171875\n",
       "2019-11-21 10:21:49.125000  0.968750  0.093750 -0.171875"
      ]
     },
     "execution_count": 11,
     "metadata": {},
     "output_type": "execute_result"
    }
   ],
   "source": [
    "acc = pd.read_csv(f\"/Volumes/Untitled/Hom3ostasis/CinC/Data_24hPulses/baseline/11_EC/acc.csv\", index_col=0)\n",
    "acc.head()"
   ]
  },
  {
   "cell_type": "code",
   "execution_count": 13,
   "metadata": {},
   "outputs": [
    {
     "name": "stdout",
     "output_type": "stream",
     "text": [
      "10_AC\n",
      "11_EC\n",
      "12_FN\n",
      "13_MS\n",
      "14_AD\n",
      "15_ER\n",
      "16_PD\n",
      "17_EG\n",
      "18_MV\n",
      "19_FI\n",
      "1_ID\n",
      "20_AC\n",
      "21_CK\n",
      "22_CM\n",
      "23_PP\n",
      "24_SM\n",
      "25_LP\n",
      "26_CB\n",
      "27_CM\n",
      "28_GM\n",
      "29_LT\n",
      "30_LN\n",
      "31_FB\n",
      "32_CD\n",
      "33_NM\n",
      "34_AS\n",
      "35_AA\n",
      "36_GS\n",
      "37_IC\n",
      "38_GC\n",
      "39_NB\n",
      "3_JF\n",
      "40_SQ\n",
      "4_MF\n",
      "5_PD\n",
      "6_SS\n",
      "7_GM\n",
      "8_MB\n",
      "9_BC\n"
     ]
    }
   ],
   "source": [
    "sleep_periods = pd.DataFrame()\n",
    "for i, sub_ID in enumerate(sub_names): \n",
    "    print(sub_ID)\n",
    "    # filename_acc = glob.glob(HOM_path + sub_ID + '/**/ACC.csv', recursive=True)[0]\n",
    "    # filename_ppg = glob.glob(HOM_path + sub_ID + '/**/BVP.csv', recursive=True)[0]\n",
    "    # ppg = pd.read_csv(filename_ppg, header = None)[2:].to_numpy().squeeze()\n",
    "    acc = pd.read_csv(f\"/Volumes/Untitled/Hom3ostasis/CinC/Data_24hPulses/baseline/{sub_ID}/acc.csv\", index_col=0)\n",
    "    acc.to_csv(f\"/Volumes/Untitled/Hom3ostasis/CinC/Data_24hPulses/baseline/{sub_ID}/input_GGIR/acc.csv\")\n",
    "    # plt.figure()\n",
    "    # plt.plot(ppg)\n",
    "    # sleep_periods_sub = sleep(filename_acc, sampling_rate = 32, E4 = True, plot_bool=True)\n",
    "    # # sleep_periods_sub[sleep_periods_sub[\"end\"] - sleep_periods_sub[\"start\"] < pd.Timedelta(\"1h\")] = np.nan\n",
    "    # # sleep_periods_sub.dropna(inplace=True)  \n",
    "    # sleep_periods_sub[\"sub_ID\"] = sub_ID\n",
    "    # sleep_periods = pd.concat([sleep_periods, sleep_periods_sub])"
   ]
  },
  {
   "cell_type": "code",
   "execution_count": 21,
   "metadata": {},
   "outputs": [
    {
     "data": {
      "text/plain": [
       "39"
      ]
     },
     "execution_count": 21,
     "metadata": {},
     "output_type": "execute_result"
    }
   ],
   "source": [
    "HOM_path = '/Users/marcellosicbaldi/Library/CloudStorage/OneDrive-AlmaMaterStudiorumUniversitàdiBologna/Acq/HOM2/'\n",
    "data_path = '/Users/marcellosicbaldi/Library/CloudStorage/OneDrive-AlmaMaterStudiorumUniversitàdiBologna/Acq/NewAnalysis2023/CinC/Data_24hPulses/followup/'\n",
    "sub_names = sorted([f for f in os.listdir(data_path) if not f.startswith('.')])\n",
    "len(sub_names)"
   ]
  },
  {
   "cell_type": "code",
   "execution_count": 22,
   "metadata": {},
   "outputs": [],
   "source": [
    "sub_names.remove('11_EC')"
   ]
  },
  {
   "cell_type": "code",
   "execution_count": 4,
   "metadata": {},
   "outputs": [],
   "source": [
    "# create a folder called output inside the folder of each subject\n",
    "for i, sub_ID in enumerate(sub_names):\n",
    "    os.mkdir(f\"/Volumes/Untitled/Hom3ostasis/CinC/Data_24hPulses/followup/{sub_ID}/input_GGIR\")"
   ]
  },
  {
   "cell_type": "code",
   "execution_count": 20,
   "metadata": {},
   "outputs": [],
   "source": [
    "filename_acc = glob.glob(HOM_path + \"11_EC\" + '/**/ACC.csv', recursive=True)[0]\n",
    "acc = load_csv(filename_acc, E4=True)\n",
    "acc.to_csv(f\"/Volumes/Untitled/Hom3ostasis/CinC/Data_24hPulses/followup/11_EC/input_GGIR/acc.csv\")"
   ]
  },
  {
   "cell_type": "code",
   "execution_count": 23,
   "metadata": {},
   "outputs": [
    {
     "name": "stdout",
     "output_type": "stream",
     "text": [
      "10_AC\n",
      "12_FN\n",
      "13_MS\n",
      "14_AD\n",
      "15_ER\n",
      "16_PD\n",
      "17_EG\n",
      "18_MV\n",
      "19_FI\n",
      "1_ID\n",
      "20_AC\n",
      "21_CK\n",
      "22_CM\n",
      "23_PP\n",
      "24_SM\n",
      "25_LP\n",
      "26_CB\n",
      "27_CM\n",
      "28_GM\n",
      "29_LT\n",
      "30_LN\n",
      "31_FB\n",
      "32_CD\n",
      "33_NM\n",
      "34_AS\n",
      "35_AA\n",
      "36_GS\n",
      "37_IC\n",
      "38_GC\n",
      "39_NB\n",
      "3_JF\n",
      "40_SQ\n",
      "4_MF\n",
      "5_PD\n",
      "6_SS\n",
      "7_GM\n",
      "8_MB\n",
      "9_BC\n"
     ]
    }
   ],
   "source": [
    "sleep_periods = pd.DataFrame()\n",
    "for i, sub_ID in enumerate(sub_names): \n",
    "    print(sub_ID)\n",
    "    # filename_acc = glob.glob(HOM_path + sub_ID + '/**/ACC.csv', recursive=True)[0]\n",
    "    # filename_ppg = glob.glob(HOM_path + sub_ID + '/**/BVP.csv', recursive=True)[0]\n",
    "    # ppg = pd.read_csv(filename_ppg, header = None)[2:].to_numpy().squeeze()\n",
    "    acc = pd.read_csv(f\"/Volumes/Untitled/Hom3ostasis/CinC/Data_24hPulses/followup/{sub_ID}/acc.csv\", index_col=0)\n",
    "    acc.to_csv(f\"/Volumes/Untitled/Hom3ostasis/CinC/Data_24hPulses/followup/{sub_ID}/input_GGIR/acc.csv\")\n",
    "    # plt.figure()\n",
    "    # plt.plot(ppg)\n",
    "    # sleep_periods_sub = sleep(filename_acc, sampling_rate = 32, E4 = True, plot_bool=True)\n",
    "    # # sleep_periods_sub[sleep_periods_sub[\"end\"] - sleep_periods_sub[\"start\"] < pd.Timedelta(\"1h\")] = np.nan\n",
    "    # # sleep_periods_sub.dropna(inplace=True)  \n",
    "    # sleep_periods_sub[\"sub_ID\"] = sub_ID\n",
    "    # sleep_periods = pd.concat([sleep_periods, sleep_periods_sub])"
   ]
  },
  {
   "cell_type": "code",
   "execution_count": 11,
   "metadata": {},
   "outputs": [],
   "source": []
  },
  {
   "cell_type": "code",
   "execution_count": 8,
   "metadata": {},
   "outputs": [
    {
     "data": {
      "text/plain": [
       "[<matplotlib.lines.Line2D at 0x7fb1edb45a50>,\n",
       " <matplotlib.lines.Line2D at 0x7fb1edb9de40>,\n",
       " <matplotlib.lines.Line2D at 0x7fb1edb9dba0>]"
      ]
     },
     "execution_count": 8,
     "metadata": {},
     "output_type": "execute_result"
    }
   ],
   "source": [
    "plt.figure()\n",
    "plt.plot(acc)"
   ]
  },
  {
   "cell_type": "code",
   "execution_count": 34,
   "metadata": {},
   "outputs": [
    {
     "data": {
      "text/html": [
       "<div>\n",
       "<style scoped>\n",
       "    .dataframe tbody tr th:only-of-type {\n",
       "        vertical-align: middle;\n",
       "    }\n",
       "\n",
       "    .dataframe tbody tr th {\n",
       "        vertical-align: top;\n",
       "    }\n",
       "\n",
       "    .dataframe thead th {\n",
       "        text-align: right;\n",
       "    }\n",
       "</style>\n",
       "<table border=\"1\" class=\"dataframe\">\n",
       "  <thead>\n",
       "    <tr style=\"text-align: right;\">\n",
       "      <th></th>\n",
       "      <th>start</th>\n",
       "      <th>end</th>\n",
       "    </tr>\n",
       "  </thead>\n",
       "  <tbody>\n",
       "    <tr>\n",
       "      <th>0</th>\n",
       "      <td>2019-11-21 17:02:45</td>\n",
       "      <td>2019-11-21 17:36:55</td>\n",
       "    </tr>\n",
       "    <tr>\n",
       "      <th>1</th>\n",
       "      <td>2019-11-21 19:44:05</td>\n",
       "      <td>2019-11-21 20:16:15</td>\n",
       "    </tr>\n",
       "    <tr>\n",
       "      <th>2</th>\n",
       "      <td>NaT</td>\n",
       "      <td>NaT</td>\n",
       "    </tr>\n",
       "  </tbody>\n",
       "</table>\n",
       "</div>"
      ],
      "text/plain": [
       "                start                 end\n",
       "0 2019-11-21 17:02:45 2019-11-21 17:36:55\n",
       "1 2019-11-21 19:44:05 2019-11-21 20:16:15\n",
       "2                 NaT                 NaT"
      ]
     },
     "execution_count": 34,
     "metadata": {},
     "output_type": "execute_result"
    }
   ],
   "source": [
    "# sleep_periods[sleep_periods[\"end\"] - sleep_periods[\"start\"] > pd.Timedelta(\"1h\")] = np.nan\n",
    "sleep_periods"
   ]
  },
  {
   "cell_type": "code",
   "execution_count": 28,
   "metadata": {},
   "outputs": [
    {
     "data": {
      "text/html": [
       "<div>\n",
       "<style scoped>\n",
       "    .dataframe tbody tr th:only-of-type {\n",
       "        vertical-align: middle;\n",
       "    }\n",
       "\n",
       "    .dataframe tbody tr th {\n",
       "        vertical-align: top;\n",
       "    }\n",
       "\n",
       "    .dataframe thead th {\n",
       "        text-align: right;\n",
       "    }\n",
       "</style>\n",
       "<table border=\"1\" class=\"dataframe\">\n",
       "  <thead>\n",
       "    <tr style=\"text-align: right;\">\n",
       "      <th></th>\n",
       "      <th>start</th>\n",
       "      <th>end</th>\n",
       "    </tr>\n",
       "  </thead>\n",
       "  <tbody>\n",
       "    <tr>\n",
       "      <th>0</th>\n",
       "      <td>2019-11-21 17:02:45</td>\n",
       "      <td>2019-11-21 17:36:55</td>\n",
       "    </tr>\n",
       "    <tr>\n",
       "      <th>1</th>\n",
       "      <td>2019-11-21 19:44:05</td>\n",
       "      <td>2019-11-21 20:16:15</td>\n",
       "    </tr>\n",
       "    <tr>\n",
       "      <th>2</th>\n",
       "      <td>2019-11-21 21:56:15</td>\n",
       "      <td>2019-11-22 04:40:30</td>\n",
       "    </tr>\n",
       "  </tbody>\n",
       "</table>\n",
       "</div>"
      ],
      "text/plain": [
       "                start                 end\n",
       "0 2019-11-21 17:02:45 2019-11-21 17:36:55\n",
       "1 2019-11-21 19:44:05 2019-11-21 20:16:15\n",
       "2 2019-11-21 21:56:15 2019-11-22 04:40:30"
      ]
     },
     "execution_count": 28,
     "metadata": {},
     "output_type": "execute_result"
    }
   ],
   "source": [
    "sleep_periods"
   ]
  },
  {
   "cell_type": "code",
   "execution_count": 24,
   "metadata": {},
   "outputs": [],
   "source": [
    "sleep_periods[sleep_periods[\"end\"] - sleep_periods[\"start\"] > pd.Timedelta(\"1h\")][\"start\"] = np.nan"
   ]
  },
  {
   "cell_type": "code",
   "execution_count": 25,
   "metadata": {},
   "outputs": [
    {
     "data": {
      "text/plain": [
       "0   0 days 10:31:05\n",
       "dtype: timedelta64[ns]"
      ]
     },
     "execution_count": 25,
     "metadata": {},
     "output_type": "execute_result"
    }
   ],
   "source": [
    "sleep_periods[\"end\"] - sleep_periods[\"start\"]"
   ]
  },
  {
   "cell_type": "code",
   "execution_count": null,
   "metadata": {},
   "outputs": [],
   "source": [
    "acc_data.index.get_loc(sleep_periods[\"start\"])"
   ]
  },
  {
   "attachments": {},
   "cell_type": "markdown",
   "metadata": {},
   "source": [
    "### test GGIR output"
   ]
  },
  {
   "cell_type": "code",
   "execution_count": 39,
   "metadata": {},
   "outputs": [
    {
     "data": {
      "text/html": [
       "<div>\n",
       "<style scoped>\n",
       "    .dataframe tbody tr th:only-of-type {\n",
       "        vertical-align: middle;\n",
       "    }\n",
       "\n",
       "    .dataframe tbody tr th {\n",
       "        vertical-align: top;\n",
       "    }\n",
       "\n",
       "    .dataframe thead th {\n",
       "        text-align: right;\n",
       "    }\n",
       "</style>\n",
       "<table border=\"1\" class=\"dataframe\">\n",
       "  <thead>\n",
       "    <tr style=\"text-align: right;\">\n",
       "      <th></th>\n",
       "      <th>time</th>\n",
       "      <th>x</th>\n",
       "      <th>y</th>\n",
       "      <th>z</th>\n",
       "    </tr>\n",
       "  </thead>\n",
       "  <tbody>\n",
       "    <tr>\n",
       "      <th>0</th>\n",
       "      <td>2019-12-11 11:43:15.000000</td>\n",
       "      <td>0.875000</td>\n",
       "      <td>0.125</td>\n",
       "      <td>-0.4375</td>\n",
       "    </tr>\n",
       "    <tr>\n",
       "      <th>1</th>\n",
       "      <td>2019-12-11 11:43:15.031250</td>\n",
       "      <td>0.859375</td>\n",
       "      <td>0.125</td>\n",
       "      <td>-0.4375</td>\n",
       "    </tr>\n",
       "    <tr>\n",
       "      <th>2</th>\n",
       "      <td>2019-12-11 11:43:15.062500</td>\n",
       "      <td>0.875000</td>\n",
       "      <td>0.125</td>\n",
       "      <td>-0.4375</td>\n",
       "    </tr>\n",
       "    <tr>\n",
       "      <th>3</th>\n",
       "      <td>2019-12-11 11:43:15.093750</td>\n",
       "      <td>0.875000</td>\n",
       "      <td>0.125</td>\n",
       "      <td>-0.4375</td>\n",
       "    </tr>\n",
       "    <tr>\n",
       "      <th>4</th>\n",
       "      <td>2019-12-11 11:43:15.125000</td>\n",
       "      <td>0.875000</td>\n",
       "      <td>0.125</td>\n",
       "      <td>-0.4375</td>\n",
       "    </tr>\n",
       "  </tbody>\n",
       "</table>\n",
       "</div>"
      ],
      "text/plain": [
       "                         time         x      y       z\n",
       "0  2019-12-11 11:43:15.000000  0.875000  0.125 -0.4375\n",
       "1  2019-12-11 11:43:15.031250  0.859375  0.125 -0.4375\n",
       "2  2019-12-11 11:43:15.062500  0.875000  0.125 -0.4375\n",
       "3  2019-12-11 11:43:15.093750  0.875000  0.125 -0.4375\n",
       "4  2019-12-11 11:43:15.125000  0.875000  0.125 -0.4375"
      ]
     },
     "execution_count": 39,
     "metadata": {},
     "output_type": "execute_result"
    }
   ],
   "source": [
    "acc_15_ER.head()"
   ]
  },
  {
   "cell_type": "code",
   "execution_count": 2,
   "metadata": {},
   "outputs": [],
   "source": [
    "import glob\n",
    "\n",
    "sub_ID = \"32_CD\"\n",
    "HOM_path = '/Users/marcellosicbaldi/Library/CloudStorage/OneDrive-AlmaMaterStudiorumUniversitàdiBologna/Acq/HOM_mod/'\n",
    "ppg_path = glob.glob(HOM_path + sub_ID + '/**/BVP.csv', recursive=True)[0]"
   ]
  },
  {
   "cell_type": "code",
   "execution_count": 5,
   "metadata": {},
   "outputs": [
    {
     "data": {
      "text/plain": [
       "[<matplotlib.lines.Line2D at 0x7fae45099ab0>]"
      ]
     },
     "execution_count": 5,
     "metadata": {},
     "output_type": "execute_result"
    }
   ],
   "source": [
    "ppg = pd.read_csv(ppg_path, header = None)[2:].to_numpy().squeeze()\n",
    "\n",
    "plt.figure()\n",
    "plt.plot(ppg)"
   ]
  },
  {
   "cell_type": "code",
   "execution_count": 49,
   "metadata": {},
   "outputs": [],
   "source": [
    "HOM_path = '/Users/marcellosicbaldi/Library/CloudStorage/OneDrive-AlmaMaterStudiorumUniversitàdiBologna/Acq/HOM2/'"
   ]
  },
  {
   "cell_type": "code",
   "execution_count": 50,
   "metadata": {},
   "outputs": [
    {
     "data": {
      "text/plain": [
       "0    1.573631e+09\n",
       "Name: 0, dtype: float64"
      ]
     },
     "execution_count": 50,
     "metadata": {},
     "output_type": "execute_result"
    }
   ],
   "source": [
    "ppg_data.iloc[0]"
   ]
  },
  {
   "cell_type": "code",
   "execution_count": 51,
   "metadata": {},
   "outputs": [
    {
     "data": {
      "text/html": [
       "<div>\n",
       "<style scoped>\n",
       "    .dataframe tbody tr th:only-of-type {\n",
       "        vertical-align: middle;\n",
       "    }\n",
       "\n",
       "    .dataframe tbody tr th {\n",
       "        vertical-align: top;\n",
       "    }\n",
       "\n",
       "    .dataframe thead th {\n",
       "        text-align: right;\n",
       "    }\n",
       "</style>\n",
       "<table border=\"1\" class=\"dataframe\">\n",
       "  <thead>\n",
       "    <tr style=\"text-align: right;\">\n",
       "      <th></th>\n",
       "      <th>x</th>\n",
       "      <th>y</th>\n",
       "      <th>z</th>\n",
       "    </tr>\n",
       "    <tr>\n",
       "      <th>time</th>\n",
       "      <th></th>\n",
       "      <th></th>\n",
       "      <th></th>\n",
       "    </tr>\n",
       "  </thead>\n",
       "  <tbody>\n",
       "    <tr>\n",
       "      <th>2019-11-13 07:42:10.000000</th>\n",
       "      <td>0.921875</td>\n",
       "      <td>0.109375</td>\n",
       "      <td>-0.296875</td>\n",
       "    </tr>\n",
       "    <tr>\n",
       "      <th>2019-11-13 07:42:10.031250</th>\n",
       "      <td>0.921875</td>\n",
       "      <td>0.109375</td>\n",
       "      <td>-0.296875</td>\n",
       "    </tr>\n",
       "    <tr>\n",
       "      <th>2019-11-13 07:42:10.062500</th>\n",
       "      <td>0.921875</td>\n",
       "      <td>0.109375</td>\n",
       "      <td>-0.296875</td>\n",
       "    </tr>\n",
       "    <tr>\n",
       "      <th>2019-11-13 07:42:10.093750</th>\n",
       "      <td>0.921875</td>\n",
       "      <td>0.109375</td>\n",
       "      <td>-0.296875</td>\n",
       "    </tr>\n",
       "    <tr>\n",
       "      <th>2019-11-13 07:42:10.125000</th>\n",
       "      <td>0.921875</td>\n",
       "      <td>0.109375</td>\n",
       "      <td>-0.296875</td>\n",
       "    </tr>\n",
       "  </tbody>\n",
       "</table>\n",
       "</div>"
      ],
      "text/plain": [
       "                                   x         y         z\n",
       "time                                                    \n",
       "2019-11-13 07:42:10.000000  0.921875  0.109375 -0.296875\n",
       "2019-11-13 07:42:10.031250  0.921875  0.109375 -0.296875\n",
       "2019-11-13 07:42:10.062500  0.921875  0.109375 -0.296875\n",
       "2019-11-13 07:42:10.093750  0.921875  0.109375 -0.296875\n",
       "2019-11-13 07:42:10.125000  0.921875  0.109375 -0.296875"
      ]
     },
     "execution_count": 51,
     "metadata": {},
     "output_type": "execute_result"
    }
   ],
   "source": [
    "sub_ID = \"7_GM\"\n",
    "ppg_path = glob.glob(HOM_path + sub_ID + '/**/BVP.csv', recursive=True)[0]\n",
    "ppg_data = pd.read_csv(ppg_path, header = None)#[2:].to_numpy().squeeze()\n",
    "ppg_start = pd.to_datetime(ppg_data.iloc[0], unit='s')\n",
    "ppg = ppg_data[2:].to_numpy().squeeze()\n",
    "t_ppg = pd.date_range(start=ppg_start.iloc[0], periods = len(ppg), freq = '0.015625s')\n",
    "\n",
    "ppg_df = pd.DataFrame(ppg, index=t_ppg, columns=[\"ppg\"])\n",
    "\n",
    "acc_15_ER = load_csv(f\"/Volumes/Untitled/Hom3ostasis/CinC/Data_24hPulses/mod_newQuality/\" + sub_ID + \"/input_GGIR/acc.csv\", E4=False)\n",
    "acc_15_ER.index = pd.to_datetime(acc_15_ER[\"time\"])\n",
    "acc_15_ER.drop(columns=\"time\", inplace=True)\n",
    "acc_15_ER.head()"
   ]
  },
  {
   "cell_type": "code",
   "execution_count": 48,
   "metadata": {},
   "outputs": [
    {
     "data": {
      "text/html": [
       "<div>\n",
       "<style scoped>\n",
       "    .dataframe tbody tr th:only-of-type {\n",
       "        vertical-align: middle;\n",
       "    }\n",
       "\n",
       "    .dataframe tbody tr th {\n",
       "        vertical-align: top;\n",
       "    }\n",
       "\n",
       "    .dataframe thead th {\n",
       "        text-align: right;\n",
       "    }\n",
       "</style>\n",
       "<table border=\"1\" class=\"dataframe\">\n",
       "  <thead>\n",
       "    <tr style=\"text-align: right;\">\n",
       "      <th></th>\n",
       "      <th>ppg</th>\n",
       "    </tr>\n",
       "  </thead>\n",
       "  <tbody>\n",
       "    <tr>\n",
       "      <th>2019-11-13 07:42:10.000000</th>\n",
       "      <td>-0.0</td>\n",
       "    </tr>\n",
       "    <tr>\n",
       "      <th>2019-11-13 07:42:10.015625</th>\n",
       "      <td>-0.0</td>\n",
       "    </tr>\n",
       "    <tr>\n",
       "      <th>2019-11-13 07:42:10.031250</th>\n",
       "      <td>-0.0</td>\n",
       "    </tr>\n",
       "    <tr>\n",
       "      <th>2019-11-13 07:42:10.046875</th>\n",
       "      <td>-0.0</td>\n",
       "    </tr>\n",
       "    <tr>\n",
       "      <th>2019-11-13 07:42:10.062500</th>\n",
       "      <td>-0.0</td>\n",
       "    </tr>\n",
       "  </tbody>\n",
       "</table>\n",
       "</div>"
      ],
      "text/plain": [
       "                            ppg\n",
       "2019-11-13 07:42:10.000000 -0.0\n",
       "2019-11-13 07:42:10.015625 -0.0\n",
       "2019-11-13 07:42:10.031250 -0.0\n",
       "2019-11-13 07:42:10.046875 -0.0\n",
       "2019-11-13 07:42:10.062500 -0.0"
      ]
     },
     "execution_count": 48,
     "metadata": {},
     "output_type": "execute_result"
    }
   ],
   "source": [
    "ppg_df.head()"
   ]
  },
  {
   "cell_type": "code",
   "execution_count": 52,
   "metadata": {},
   "outputs": [
    {
     "data": {
      "text/plain": [
       "[<matplotlib.lines.Line2D at 0x7fad813c1870>]"
      ]
     },
     "execution_count": 52,
     "metadata": {},
     "output_type": "execute_result"
    }
   ],
   "source": [
    "plt.figure()\n",
    "plt.plot(ppg_df)"
   ]
  },
  {
   "cell_type": "code",
   "execution_count": 31,
   "metadata": {},
   "outputs": [
    {
     "data": {
      "text/plain": [
       "(Timestamp('2021-09-23 22:10:45'), Timestamp('2021-09-24 04:44:55'))"
      ]
     },
     "execution_count": 31,
     "metadata": {},
     "output_type": "execute_result"
    }
   ],
   "source": [
    "output_GGIR_path = \"/Volumes/Untitled/Hom3ostasis/CinC/Data_24hPulses/mod_newQuality/\" + sub + \"/output_GGIR/output_input_GGIR/results/QC/\"\n",
    "\n",
    "output_GGIR = pd.read_csv(output_GGIR_path + \"part4_nightsummary_sleep_full.csv\")\n",
    "\n",
    "if output_GGIR[\"sleeponset_ts\"].iloc[0][0] == '0':\n",
    "    sleep_onset = pd.to_datetime(str(ppg_df.index[0].date()+ pd.Timedelta(\"1d\")) + \" \" + output_GGIR[\"sleeponset_ts\"].iloc[0])\n",
    "else: \n",
    "    sleep_onset = pd.to_datetime(str(ppg_df.index[0].date())  + \" \" + output_GGIR[\"sleeponset_ts\"].iloc[0])\n",
    "\n",
    "wake_onset = pd.to_datetime(str(ppg_df.index[0].date() + pd.Timedelta(\"1d\")) + \" \" + output_GGIR[\"wakeup_ts\"].iloc[0])\n",
    "sleep_onset, wake_onset"
   ]
  },
  {
   "cell_type": "code",
   "execution_count": 32,
   "metadata": {},
   "outputs": [],
   "source": [
    "ppg_day1 = ppg_df.loc[ppg_df.index[0]:sleep_onset]\n",
    "ppg_night = ppg_df.loc[sleep_onset:wake_onset]\n",
    "ppg_day2 = ppg_df.loc[wake_onset:ppg_df.index[-1]]"
   ]
  },
  {
   "cell_type": "code",
   "execution_count": 33,
   "metadata": {},
   "outputs": [
    {
     "data": {
      "text/plain": [
       "[<matplotlib.lines.Line2D at 0x7fadd9ced8a0>]"
      ]
     },
     "execution_count": 33,
     "metadata": {},
     "output_type": "execute_result"
    }
   ],
   "source": [
    "plt.figure()\n",
    "plt.plot(ppg_night)\n",
    "plt.figure()\n",
    "plt.plot(ppg_day1)\n",
    "plt.figure()\n",
    "plt.plot(ppg_day2)"
   ]
  },
  {
   "cell_type": "code",
   "execution_count": 53,
   "metadata": {},
   "outputs": [
    {
     "data": {
      "text/plain": [
       "<matplotlib.legend.Legend at 0x7fc194663340>"
      ]
     },
     "execution_count": 53,
     "metadata": {},
     "output_type": "execute_result"
    }
   ],
   "source": [
    "plt.figure()\n",
    "plt.plot(acc_15_ER)\n",
    "plt.axvspan(sleep_onset, wake_onset, color='red', alpha=0.5, label = \"Sleep\")\n",
    "plt.xticks(fontsize = 16, rotation = 18)\n",
    "plt.yticks(fontsize = 12)\n",
    "plt.ylabel(\"Acceleration [g]\", fontsize = 16)\n",
    "plt.legend(fontsize = 21, loc = \"upper right\")"
   ]
  },
  {
   "cell_type": "code",
   "execution_count": 56,
   "metadata": {},
   "outputs": [
    {
     "data": {
      "text/plain": [
       "39"
      ]
     },
     "execution_count": 56,
     "metadata": {},
     "output_type": "execute_result"
    }
   ],
   "source": [
    "HOM_path = \"/Users/marcellosicbaldi/Library/CloudStorage/OneDrive-AlmaMaterStudiorumUniversitàdiBologna/Acq/HOM_mod/\"\n",
    "# data_path = '/Users/marcellosicbaldi/Library/CloudStorage/OneDrive-AlmaMaterStudiorumUniversitàdiBologna/Acq/NewAnalysis2023/CinC/Data_24hPulses/baseline/'\n",
    "sub_names = sorted([f for f in os.listdir(HOM_path) if not f.startswith('.')])\n",
    "len(sub_names)"
   ]
  },
  {
   "cell_type": "code",
   "execution_count": 57,
   "metadata": {},
   "outputs": [
    {
     "name": "stdout",
     "output_type": "stream",
     "text": [
      "10_AC\n",
      "0 days 13:05:52\n",
      "0 days 06:34:10\n",
      "0 days 05:20:16.484375\n",
      "11_EC\n",
      "0 days 11:37:21\n",
      "0 days 06:26:05\n",
      "0 days 06:10:11.265625\n",
      "12_FN\n",
      "0 days 10:36:25\n",
      "0 days 09:26:55\n",
      "0 days 04:19:56.656250\n",
      "13_MS\n",
      "0 days 10:27:57\n",
      "0 days 08:33:45\n",
      "0 days 06:00:53.984375\n",
      "14_AD\n",
      "0 days 10:37:34\n",
      "0 days 04:18:50\n",
      "0 days 07:41:29.890625\n",
      "15_ER\n",
      "0 days 15:16:29\n",
      "0 days 06:35:15\n",
      "0 days 02:52:29.062500\n",
      "16_PD\n",
      "0 days 09:05:05\n",
      "0 days 08:29:00\n",
      "0 days 06:04:42.781250\n",
      "17_EG\n",
      "0 days 17:23:28\n",
      "0 days 04:44:55\n",
      "0 days 02:56:37.875000\n",
      "18_MV\n",
      "0 days 12:18:29\n",
      "0 days 07:28:10\n",
      "0 days 05:09:14.968750\n",
      "19_FI\n",
      "0 days 10:49:34\n",
      "0 days 06:41:10\n",
      "0 days 06:31:49.312500\n",
      "1_ID\n",
      "0 days 17:24:48\n",
      "0 days 02:54:05\n",
      "0 days 01:05:05.484375\n",
      "20_AC\n",
      "0 days 10:46:11\n",
      "0 days 05:11:50\n",
      "0 days 08:10:27.062500\n",
      "21_CK\n",
      "0 days 13:12:46\n",
      "0 days 08:22:05\n",
      "0 days 02:17:30.781250\n",
      "22_CM\n",
      "0 days 11:51:19\n",
      "1 days 02:54:15\n",
      "-1 days +00:20:31.593750\n",
      "23_PP\n",
      "0 days 14:51:06\n",
      "0 days 06:07:45\n",
      "0 days 05:23:04.203125\n",
      "24_SM\n",
      "0 days 14:26:32\n",
      "0 days 06:43:10\n",
      "0 days 05:46:51.859375\n",
      "25_LP\n",
      "0 days 14:08:28\n",
      "0 days 05:25:55\n",
      "0 days 05:13:31.093750\n",
      "26_CB\n",
      "0 days 09:31:35\n",
      "0 days 08:02:20\n",
      "0 days 09:28:02.328125\n",
      "27_CM\n",
      "0 days 14:01:44\n",
      "0 days 03:49:40\n",
      "0 days 21:12:56.250000\n",
      "28_GM\n",
      "0 days 14:02:45\n",
      "0 days 06:02:25\n",
      "1 days 00:18:50.296875\n",
      "29_LT\n",
      "0 days 12:01:30\n",
      "0 days 07:35:45\n",
      "0 days 19:49:25.359375\n",
      "30_LN\n",
      "0 days 11:16:10\n",
      "0 days 08:05:40\n",
      "0 days 05:45:18.406250\n",
      "31_FB\n",
      "0 days 16:55:31\n",
      "0 days 04:00:25\n",
      "0 days 02:29:31.015625\n",
      "32_CD\n",
      "0 days 09:16:37\n",
      "0 days 06:34:10\n",
      "0 days 16:11:27.125000\n",
      "33_NM\n",
      "0 days 15:27:17\n",
      "0 days 07:56:05\n",
      "0 days 00:19:39.468750\n",
      "34_AS\n",
      "0 days 11:17:54\n",
      "0 days 05:38:35\n",
      "0 days 11:09:40.390625\n",
      "35_AA\n",
      "0 days 14:51:46\n",
      "0 days 07:30:05\n",
      "0 days 04:52:03.046875\n",
      "36_GS\n",
      "0 days 10:43:07\n",
      "0 days 08:55:30\n",
      "0 days 04:14:08.671875\n",
      "37_IC\n",
      "0 days 13:33:44\n",
      "0 days 07:00:00\n",
      "0 days 13:43:03.781250\n",
      "38_GC\n",
      "0 days 12:16:33\n",
      "0 days 07:51:45\n",
      "0 days 07:41:38.921875\n",
      "39_NB\n",
      "0 days 11:34:22\n",
      "0 days 07:55:45\n",
      "0 days 07:27:51.593750\n",
      "3_JF\n",
      "0 days 09:55:08\n",
      "0 days 06:38:10\n",
      "1 days 05:53:46.906250\n",
      "40_SQ\n",
      "0 days 07:12:00\n",
      "0 days 09:56:00\n",
      "0 days 14:32:13.093750\n",
      "4_MF\n",
      "0 days 10:01:14\n",
      "0 days 07:40:15\n",
      "0 days 07:08:44.828125\n",
      "5_PD\n",
      "0 days 11:42:29\n",
      "0 days 06:38:05\n",
      "0 days 12:49:41.281250\n",
      "6_SS\n",
      "0 days 10:21:09\n",
      "0 days 07:59:50\n",
      "0 days 06:45:34.859375\n",
      "7_GM\n",
      "0 days 09:52:19\n",
      "0 days 07:00:35\n",
      "0 days 02:25:08.171875\n",
      "8_MB\n",
      "0 days 09:11:21\n",
      "0 days 08:46:50\n",
      "0 days 06:05:19.203125\n",
      "9_BC\n",
      "0 days 09:12:03\n",
      "0 days 08:25:35\n",
      "0 days 07:17:00.859375\n"
     ]
    }
   ],
   "source": [
    "for i, sub_ID in enumerate(sub_names): \n",
    "\n",
    "    print(sub_ID)\n",
    "    ppg_path = glob.glob(HOM_path + sub_ID + '/**/BVP.csv', recursive=True)[0]\n",
    "    \n",
    "    # acc_path = glob.glob(HOM_path + sub_ID + '/**/ACC.csv', recursive=True)[0]\n",
    "    # acc = pd.read_csv(acc_path, header = None)[2:].to_numpy().squeeze()\n",
    "\n",
    "    ppg_data = pd.read_csv(ppg_path, header = None)#[2:].to_numpy().squeeze()\n",
    "    ppg_start = pd.to_datetime(ppg_data.iloc[0], unit='s')\n",
    "    ppg = ppg_data[2:].to_numpy().squeeze()\n",
    "    t_ppg = pd.date_range(start=ppg_start.iloc[0], periods = len(ppg), freq = '0.015625s')\n",
    "    ppg_df = pd.DataFrame(ppg, index=t_ppg, columns=[\"ppg\"])\n",
    "\n",
    "    output_GGIR_path = \"/Volumes/Untitled/Hom3ostasis/CinC/Data_24hPulses/mod_newQuality/\" + sub_ID + \"/output_GGIR/output_input_GGIR/results/QC/\"\n",
    "\n",
    "    output_GGIR = pd.read_csv(output_GGIR_path + \"part4_nightsummary_sleep_full.csv\")\n",
    "\n",
    "    if output_GGIR[\"sleeponset_ts\"].iloc[0][0] == '0':\n",
    "        sleep_onset = pd.to_datetime(str(ppg_df.index[0].date()+ pd.Timedelta(\"1d\")) + \" \" + output_GGIR[\"sleeponset_ts\"].iloc[0])\n",
    "    else: \n",
    "        sleep_onset = pd.to_datetime(str(ppg_df.index[0].date())  + \" \" + output_GGIR[\"sleeponset_ts\"].iloc[0])\n",
    "\n",
    "    wake_onset = pd.to_datetime(str(ppg_df.index[0].date() + pd.Timedelta(\"1d\")) + \" \" + output_GGIR[\"wakeup_ts\"].iloc[0])\n",
    "    \n",
    "    print(sleep_onset - ppg_df.index[0])\n",
    "    print(wake_onset - sleep_onset)\n",
    "    print(ppg_df.index[-1] - wake_onset)"
   ]
  }
 ],
 "metadata": {
  "kernelspec": {
   "display_name": "base",
   "language": "python",
   "name": "python3"
  },
  "language_info": {
   "codemirror_mode": {
    "name": "ipython",
    "version": 3
   },
   "file_extension": ".py",
   "mimetype": "text/x-python",
   "name": "python",
   "nbconvert_exporter": "python",
   "pygments_lexer": "ipython3",
   "version": "3.10.13"
  },
  "orig_nbformat": 4
 },
 "nbformat": 4,
 "nbformat_minor": 2
}
