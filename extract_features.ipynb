{
 "cells": [
  {
   "attachments": {},
   "cell_type": "markdown",
   "metadata": {},
   "source": [
    "## Try to resample each pulse to 100 samples\n"
   ]
  },
  {
   "cell_type": "code",
   "execution_count": 4,
   "metadata": {},
   "outputs": [],
   "source": [
    "import numpy as np\n",
    "import pandas as pd\n",
    "import matplotlib.pyplot as plt \n",
    "import matplotlib as mpl\n",
    "import os\n",
    "import glob\n",
    "mpl.rcParams[\"lines.linewidth\"] = 0.96\n",
    "%matplotlib qt\n",
    "\n",
    "from ppg_fiducials import *"
   ]
  },
  {
   "cell_type": "code",
   "execution_count": 57,
   "metadata": {},
   "outputs": [
    {
     "data": {
      "text/plain": [
       "39"
      ]
     },
     "execution_count": 57,
     "metadata": {},
     "output_type": "execute_result"
    }
   ],
   "source": [
    "HOM_path = '/Users/marcellosicbaldi/Library/CloudStorage/OneDrive-AlmaMaterStudiorumUniversitàdiBologna/Acq/HOM/'\n",
    "# data_path = \"/Volumes/Untitled/Hom3ostasis/CinC/Data_24hPulses/baseline/\"\n",
    "data_path = \"/Volumes/Untitled/Hom3ostasis/CinC/Data_24hPulses/mod/\"\n",
    "sub_names = sorted([f for f in os.listdir(data_path) if not f.startswith('.')])\n",
    "len(sub_names)"
   ]
  },
  {
   "cell_type": "code",
   "execution_count": 58,
   "metadata": {},
   "outputs": [
    {
     "data": {
      "text/plain": [
       "'10_AC'"
      ]
     },
     "execution_count": 58,
     "metadata": {},
     "output_type": "execute_result"
    }
   ],
   "source": [
    "sub_ID = sub_names[0]\n",
    "sub_ID"
   ]
  },
  {
   "cell_type": "code",
   "execution_count": 59,
   "metadata": {},
   "outputs": [
    {
     "data": {
      "text/plain": [
       "'/Volumes/Untitled/Hom3ostasis/CinC/Data_24hPulses/mod/'"
      ]
     },
     "execution_count": 59,
     "metadata": {},
     "output_type": "execute_result"
    }
   ],
   "source": [
    "data_path"
   ]
  },
  {
   "cell_type": "code",
   "execution_count": 60,
   "metadata": {},
   "outputs": [],
   "source": [
    "ppg_path = glob.glob(HOM_path + sub_ID + '/**/BVP.csv', recursive=True)[0]\n",
    "acc_path = glob.glob(HOM_path + sub_ID + '/**/ACC.csv', recursive=True)[0]\n",
    "ppg = pd.read_csv(ppg_path, header = None)[2:].to_numpy().squeeze()\n",
    "# acc = pd.read_csv(acc_path, header = None)[2:].to_numpy().squeeze()\n",
    "y_basic = pd.read_csv(data_path + sub_ID + '/' + '/y_basic.csv', header = None).to_numpy().squeeze()\n",
    "y_diagnostic = pd.read_csv(data_path + sub_ID + '/' + '/y_diagnostic.csv', header = None).to_numpy().squeeze()\n",
    "I_foot = pd.read_csv(data_path + sub_ID + '/' + '/I_foot.csv', header=None).to_numpy().squeeze() - 1 # -1 because matlab is 1-indexed\n",
    "I_peak = pd.read_csv(data_path + sub_ID + '/' + '/I_peak.csv', header=None).to_numpy().squeeze() - 1\n",
    "if I_peak[0] < I_foot[0]:\n",
    "    I_peak = I_peak[1:]\n",
    "if I_foot[-1] > I_peak[-1]:\n",
    "    I_foot = I_foot[:-1]"
   ]
  },
  {
   "cell_type": "code",
   "execution_count": 63,
   "metadata": {},
   "outputs": [
    {
     "data": {
      "text/plain": [
       "1221"
      ]
     },
     "execution_count": 63,
     "metadata": {},
     "output_type": "execute_result"
    }
   ],
   "source": [
    "np.sum(y_diagnostic == 2)"
   ]
  },
  {
   "cell_type": "code",
   "execution_count": 66,
   "metadata": {},
   "outputs": [],
   "source": [
    "plt.figure(figsize = (10, 5))\n",
    "plt.plot(ppg)\n",
    "for i in range(y_basic.shape[0]):\n",
    "    if y_basic[i] == 1:\n",
    "        plt.plot(np.arange(I_foot[i],I_foot[i+1]), ppg[np.arange(I_foot[i],I_foot[i+1])], 'r')"
   ]
  },
  {
   "cell_type": "code",
   "execution_count": 35,
   "metadata": {},
   "outputs": [],
   "source": [
    "# Segment the single pulses\n",
    "ppg_pulses = [ppg[I_foot[i]:I_foot[i+1]] for i in range(len(I_foot)-1)]\n",
    "len_pulses = [len(pulse) for pulse in ppg_pulses]\n",
    "\n",
    "# Interpolate each pulse to 100 samples with cubic spline\n",
    "ppg_pulses_interp = [np.interp(np.linspace(0, 1, 100), np.linspace(0, 1, len(pulse)), pulse) for pulse in ppg_pulses]\n",
    "# offset_I_foot = [100 - l for l in len_pulses]\n",
    "# I_foot_int = I_foot[:-1] + offset_I_foot\n",
    "\n",
    "# Reconstruct the overall ppg using the interpolated pulses\n",
    "I_foot_int = np.concatenate([[0], np.cumsum([len(pulse) for pulse in ppg_pulses_interp])])\n",
    "I_peak_int = [np.argmax(ppg_pulses_interp[i]) + I_foot_int[i] for i in range(len(ppg_pulses_interp))]\n",
    "ppg_int = np.concatenate(ppg_pulses_interp)\n",
    "# plt.figure()\n",
    "# plt.plot(ppg_int)\n",
    "# plt.plot(I_foot_int[:-1], ppg_int[I_foot_int[:-1]], 'ro')\n",
    "# plt.plot(I_peak_int, ppg_int[I_peak_int], 'go')"
   ]
  },
  {
   "cell_type": "code",
   "execution_count": 34,
   "metadata": {},
   "outputs": [
    {
     "data": {
      "text/plain": [
       "(105142, 105141)"
      ]
     },
     "execution_count": 34,
     "metadata": {},
     "output_type": "execute_result"
    }
   ],
   "source": [
    "len(I_foot_int), len(I_peak_int)"
   ]
  },
  {
   "cell_type": "code",
   "execution_count": 39,
   "metadata": {},
   "outputs": [
    {
     "name": "stderr",
     "output_type": "stream",
     "text": [
      "/Users/marcellosicbaldi/Library/CloudStorage/OneDrive-AlmaMaterStudiorumUniversitàdiBologna/Acq/NewAnalysis2023/CinC/Code/ppg_fiducials.py:51: RuntimeWarning: divide by zero encountered in divide\n",
      "  tau=(t-t_Pmax)/(T_beat-t_Pmax)\n",
      "/Users/marcellosicbaldi/Library/CloudStorage/OneDrive-AlmaMaterStudiorumUniversitàdiBologna/Acq/NewAnalysis2023/CinC/Code/ppg_fiducials.py:51: RuntimeWarning: invalid value encountered in divide\n",
      "  tau=(t-t_Pmax)/(T_beat-t_Pmax)\n",
      "/Users/marcellosicbaldi/Library/CloudStorage/OneDrive-AlmaMaterStudiorumUniversitàdiBologna/Acq/NewAnalysis2023/CinC/Code/ppg_fiducials.py:61: RuntimeWarning: divide by zero encountered in scalar divide\n",
      "  tau_wmax=(t_w-t_Pmax)/(T_beat-t_Pmax)\n",
      "/Users/marcellosicbaldi/Library/CloudStorage/OneDrive-AlmaMaterStudiorumUniversitàdiBologna/Acq/NewAnalysis2023/CinC/Code/ppg_fiducials.py:65: RuntimeWarning: invalid value encountered in scalar subtract\n",
      "  alfa=(beta*tau_wmax-2*tau_wmax+1)/(1-tau_wmax)\n"
     ]
    }
   ],
   "source": [
    "dn = get_dicrotic_notch(ppg_int, 64, np.array(I_peak_int), list(I_foot_int[:-1]))\n",
    "dn_diag = np.array(dn)[y_diagnostic[:-1] == 1]"
   ]
  },
  {
   "cell_type": "code",
   "execution_count": null,
   "metadata": {},
   "outputs": [],
   "source": [
    "apg_fp = get_apg_fiducials(ppg_int, list(I_foot), I_peak)\n",
    "e_diag = apg_fp[\"e\"][y_diagnostic == 1].values.astype(int)\n",
    "a_diag = apg_fp[\"a\"][y_diagnostic == 1].values.astype(int)\n",
    "b_diag = apg_fp[\"b\"][y_diagnostic == 1].values.astype(int)\n",
    "\n",
    "vpg_fp = get_vpg_fiducials(ppg_int, list(I_foot))\n",
    "u_diag = vpg_fp[\"u\"][y_diagnostic == 1].values.astype(int)\n",
    "v_diag = vpg_fp[\"v\"][y_diagnostic == 1].values.astype(int)\n",
    "dp_diag = get_diastolic_peak(ppg_int, diag_pulses, dn_diag, e_diag)\n",
    "fiducials_diag = pd.DataFrame({\"onset\": diag_pulses[::2], \"offset\": diag_pulses[1::2]-1, \"sp\": I_peak_diag, \"dn\": dn_diag, \"dp\": dp_diag, \"u\": u_diag, \"v\": v_diag, \"a\": a_diag, \"b\": b_diag})\n",
    "fiducials_diag.dropna(inplace=True)\n",
    "fiducials_diag = fiducials_diag.astype(int)\n",
    "fiducials_diag.head()"
   ]
  },
  {
   "cell_type": "code",
   "execution_count": 40,
   "metadata": {},
   "outputs": [],
   "source": [
    "plt.figure()\n",
    "plt.plot(ppg_int)\n",
    "plt.plot(dn_diag, ppg_int[dn_diag], 'g*', markersize=6)\n",
    "for i in range(y_diagnostic.shape[0]):\n",
    "    if y_diagnostic[i] == 1:\n",
    "        plt.plot(np.arange(I_foot_int[i],I_foot_int[i+1]), ppg_int[np.arange(I_foot_int[i],I_foot_int[i+1])], 'r')"
   ]
  },
  {
   "attachments": {},
   "cell_type": "markdown",
   "metadata": {},
   "source": [
    "## Analysis on 24h"
   ]
  },
  {
   "cell_type": "code",
   "execution_count": 2,
   "metadata": {},
   "outputs": [],
   "source": [
    "import numpy as np\n",
    "import pandas as pd\n",
    "import matplotlib.pyplot as plt \n",
    "import matplotlib as mpl\n",
    "import os\n",
    "mpl.rcParams[\"lines.linewidth\"] = 0.96\n",
    "%matplotlib qt\n",
    "\n",
    "from ppg_fiducials import *"
   ]
  },
  {
   "cell_type": "code",
   "execution_count": 7,
   "metadata": {},
   "outputs": [],
   "source": [
    "# create a folder for each sub name\n",
    "data_path =  '/Users/marcellosicbaldi/Library/CloudStorage/OneDrive-AlmaMaterStudiorumUniversitàdiBologna/Acq/NewAnalysis2023/CinC/Data_24hPulses/followup'\n",
    "for sub in sub_names:\n",
    "    sub_path = os.path.join(data_path, sub)\n",
    "    if not os.path.exists(sub_path):\n",
    "        os.makedirs(sub_path)"
   ]
  },
  {
   "cell_type": "code",
   "execution_count": 45,
   "metadata": {},
   "outputs": [
    {
     "data": {
      "text/plain": [
       "39"
      ]
     },
     "execution_count": 45,
     "metadata": {},
     "output_type": "execute_result"
    }
   ],
   "source": [
    "HOM_path = '/Users/marcellosicbaldi/Library/CloudStorage/OneDrive-AlmaMaterStudiorumUniversitàdiBologna/Acq/HOM_mod/'\n",
    "# data_path = '/Users/marcellosicbaldi/Library/CloudStorage/OneDrive-AlmaMaterStudiorumUniversitàdiBologna/Acq/NewAnalysis2023/CinC/Data_24hPulses/baseline/'\n",
    "sub_names = sorted([f for f in os.listdir(HOM_path) if not f.startswith('.')])\n",
    "len(sub_names)"
   ]
  },
  {
   "cell_type": "code",
   "execution_count": 46,
   "metadata": {},
   "outputs": [],
   "source": [
    "# make a folder for each sub inside path\n",
    "path = \"/Volumes/Untitled/Hom3ostasis/CinC/Data_24hPulses/mod/\"\n",
    "\n",
    "for sub in sub_names:\n",
    "    sub_path = os.path.join(path, sub)\n",
    "    if not os.path.exists(sub_path):\n",
    "        os.makedirs(sub_path)"
   ]
  },
  {
   "cell_type": "code",
   "execution_count": 3,
   "metadata": {},
   "outputs": [
    {
     "data": {
      "text/plain": [
       "'/Users/marcellosicbaldi/Library/CloudStorage/OneDrive-AlmaMaterStudiorumUniversitàdiBologna/Acq/HOM/10_AC/1574158703_A01C3E/BVP.csv'"
      ]
     },
     "execution_count": 3,
     "metadata": {},
     "output_type": "execute_result"
    }
   ],
   "source": [
    "import glob\n",
    "\n",
    "glob.glob(HOM_path + '10_AC/' + '**/BVP.csv', recursive=True)[0]"
   ]
  },
  {
   "cell_type": "code",
   "execution_count": 58,
   "metadata": {},
   "outputs": [
    {
     "name": "stdout",
     "output_type": "stream",
     "text": [
      "10_AC\n",
      "11_EC\n",
      "12_FN\n",
      "13_MS\n",
      "14_AD\n",
      "15_ER\n",
      "16_PD\n",
      "17_EG\n",
      "18_MV\n",
      "19_FI\n",
      "1_ID\n",
      "20_AC\n",
      "21_CK\n",
      "22_CM\n",
      "23_PP\n",
      "24_SM\n",
      "25_LP\n",
      "26_CB\n",
      "27_CM\n",
      "28_GM\n",
      "29_LT\n",
      "30_LN\n",
      "31_FB\n",
      "32_CD\n",
      "33_NM\n",
      "34_AS\n",
      "35_AA\n",
      "36_GS\n",
      "37_IC\n",
      "38_GC\n",
      "39_NB\n",
      "3_JF\n",
      "40_SQ\n",
      "4_MF\n",
      "5_PD\n",
      "6_SS\n",
      "7_GM\n",
      "8_MB\n",
      "9_BC\n"
     ]
    }
   ],
   "source": [
    "perc_pulses_basic = {} \n",
    "perc_pulses_diagnostic = {} \n",
    "n_pulse_basic = {} \n",
    "n_pulse_diagnostic = {} \n",
    "for i, sub_ID in enumerate(sub_names): \n",
    "    print(sub_ID)\n",
    "    perc_pulses_basic[sub_ID] = {}\n",
    "    perc_pulses_diagnostic[sub_ID] = {}\n",
    "    n_pulse_basic[sub_ID] = {}\n",
    "    n_pulse_diagnostic[sub_ID] = {}\n",
    "    # ppg_path = glob.glob(HOM_path + '10_AC/' + '**/BVP.csv', recursive=True)[0]\n",
    "    # acc_path = glob.glob(HOM_path + '10_AC/' + '**/ACC.csv', recursive=True)[0]\n",
    "    # ppg = pd.read_csv(ppg_path, header = None)[2:].to_numpy().squeeze()\n",
    "    # acc = pd.read_csv(acc_path, header = None)[2:].to_numpy().squeeze()\n",
    "    y_basic = pd.read_csv(data_path + sub_ID + '/' + '/y_basic.csv', header = None).to_numpy().squeeze()\n",
    "    y_diagnostic = pd.read_csv(data_path + sub_ID + '/' + '/y_diagnostic.csv', header = None).to_numpy().squeeze()\n",
    "    I_foot = pd.read_csv(data_path + sub_ID + '/' + '/I_foot.csv', header=None).to_numpy().squeeze() - 1 # -1 because matlab is 1-indexed\n",
    "    I_peak = pd.read_csv(data_path + sub_ID + '/' + '/I_peak.csv', header=None).to_numpy().squeeze() - 1\n",
    "    perc_pulses_basic[sub_ID] = np.sum(y_basic)/len(y_basic)\n",
    "    n_pulse_basic[sub_ID] = np.sum(y_basic)\n",
    "    perc_pulses_diagnostic[sub_ID] = len(np.nonzero(y_diagnostic)[0])/len(y_diagnostic)\n",
    "    n_pulse_diagnostic[sub_ID] = len(np.nonzero(y_diagnostic)[0])\n",
    "    # plt.figure(figsize=(10,5))\n",
    "    # plt.plot(ppg)\n",
    "    # for i in range(y_diagnostic.shape[0]):\n",
    "    #     if y_diagnostic[i] == 1:\n",
    "    #         plt.plot(np.arange(I_foot[i],I_foot[i+1]), ppg[np.arange(I_foot[i],I_foot[i+1])], 'r')\n",
    "    # plt.plot(I_foot, ppg[I_foot], 'k*', markersize=2)\n",
    "    # plt.plot(I_peak, ppg[I_peak], 'g*', markersize=2)"
   ]
  },
  {
   "cell_type": "code",
   "execution_count": 59,
   "metadata": {},
   "outputs": [
    {
     "name": "stderr",
     "output_type": "stream",
     "text": [
      "/Users/marcellosicbaldi/anaconda3/lib/python3.10/site-packages/seaborn/_oldcore.py:1119: FutureWarning: use_inf_as_na option is deprecated and will be removed in a future version. Convert inf values to NaN before operating instead.\n",
      "  with pd.option_context('mode.use_inf_as_na', True):\n",
      "/Users/marcellosicbaldi/anaconda3/lib/python3.10/site-packages/seaborn/_oldcore.py:1119: FutureWarning: use_inf_as_na option is deprecated and will be removed in a future version. Convert inf values to NaN before operating instead.\n",
      "  with pd.option_context('mode.use_inf_as_na', True):\n",
      "/Users/marcellosicbaldi/anaconda3/lib/python3.10/site-packages/seaborn/_oldcore.py:1075: FutureWarning: When grouping with a length-1 list-like, you will need to pass a length-1 tuple to get_group in a future version of pandas. Pass `(name,)` instead of `name` to silence this warning.\n",
      "  data_subset = grouped_data.get_group(pd_key)\n",
      "/Users/marcellosicbaldi/anaconda3/lib/python3.10/site-packages/seaborn/_oldcore.py:1119: FutureWarning: use_inf_as_na option is deprecated and will be removed in a future version. Convert inf values to NaN before operating instead.\n",
      "  with pd.option_context('mode.use_inf_as_na', True):\n",
      "/Users/marcellosicbaldi/anaconda3/lib/python3.10/site-packages/seaborn/_oldcore.py:1119: FutureWarning: use_inf_as_na option is deprecated and will be removed in a future version. Convert inf values to NaN before operating instead.\n",
      "  with pd.option_context('mode.use_inf_as_na', True):\n",
      "/Users/marcellosicbaldi/anaconda3/lib/python3.10/site-packages/seaborn/_oldcore.py:1075: FutureWarning: When grouping with a length-1 list-like, you will need to pass a length-1 tuple to get_group in a future version of pandas. Pass `(name,)` instead of `name` to silence this warning.\n",
      "  data_subset = grouped_data.get_group(pd_key)\n",
      "/Users/marcellosicbaldi/anaconda3/lib/python3.10/site-packages/seaborn/_oldcore.py:1119: FutureWarning: use_inf_as_na option is deprecated and will be removed in a future version. Convert inf values to NaN before operating instead.\n",
      "  with pd.option_context('mode.use_inf_as_na', True):\n",
      "/Users/marcellosicbaldi/anaconda3/lib/python3.10/site-packages/seaborn/_oldcore.py:1119: FutureWarning: use_inf_as_na option is deprecated and will be removed in a future version. Convert inf values to NaN before operating instead.\n",
      "  with pd.option_context('mode.use_inf_as_na', True):\n",
      "/Users/marcellosicbaldi/anaconda3/lib/python3.10/site-packages/seaborn/_oldcore.py:1075: FutureWarning: When grouping with a length-1 list-like, you will need to pass a length-1 tuple to get_group in a future version of pandas. Pass `(name,)` instead of `name` to silence this warning.\n",
      "  data_subset = grouped_data.get_group(pd_key)\n",
      "/Users/marcellosicbaldi/anaconda3/lib/python3.10/site-packages/seaborn/_oldcore.py:1119: FutureWarning: use_inf_as_na option is deprecated and will be removed in a future version. Convert inf values to NaN before operating instead.\n",
      "  with pd.option_context('mode.use_inf_as_na', True):\n",
      "/Users/marcellosicbaldi/anaconda3/lib/python3.10/site-packages/seaborn/_oldcore.py:1119: FutureWarning: use_inf_as_na option is deprecated and will be removed in a future version. Convert inf values to NaN before operating instead.\n",
      "  with pd.option_context('mode.use_inf_as_na', True):\n",
      "/Users/marcellosicbaldi/anaconda3/lib/python3.10/site-packages/seaborn/_oldcore.py:1075: FutureWarning: When grouping with a length-1 list-like, you will need to pass a length-1 tuple to get_group in a future version of pandas. Pass `(name,)` instead of `name` to silence this warning.\n",
      "  data_subset = grouped_data.get_group(pd_key)\n"
     ]
    },
    {
     "data": {
      "text/plain": [
       "([0,\n",
       "  1,\n",
       "  2,\n",
       "  3,\n",
       "  4,\n",
       "  5,\n",
       "  6,\n",
       "  7,\n",
       "  8,\n",
       "  9,\n",
       "  10,\n",
       "  11,\n",
       "  12,\n",
       "  13,\n",
       "  14,\n",
       "  15,\n",
       "  16,\n",
       "  17,\n",
       "  18,\n",
       "  19,\n",
       "  20,\n",
       "  21,\n",
       "  22,\n",
       "  23,\n",
       "  24,\n",
       "  25,\n",
       "  26,\n",
       "  27,\n",
       "  28,\n",
       "  29,\n",
       "  30,\n",
       "  31,\n",
       "  32,\n",
       "  33,\n",
       "  34,\n",
       "  35,\n",
       "  36,\n",
       "  37,\n",
       "  38],\n",
       " [Text(0, 0, '10_AC'),\n",
       "  Text(1, 0, '11_EC'),\n",
       "  Text(2, 0, '12_FN'),\n",
       "  Text(3, 0, '13_MS'),\n",
       "  Text(4, 0, '14_AD'),\n",
       "  Text(5, 0, '15_ER'),\n",
       "  Text(6, 0, '16_PD'),\n",
       "  Text(7, 0, '17_EG'),\n",
       "  Text(8, 0, '18_MV'),\n",
       "  Text(9, 0, '19_FI'),\n",
       "  Text(10, 0, '1_ID'),\n",
       "  Text(11, 0, '20_AC'),\n",
       "  Text(12, 0, '21_CK'),\n",
       "  Text(13, 0, '22_CM'),\n",
       "  Text(14, 0, '23_PP'),\n",
       "  Text(15, 0, '24_SM'),\n",
       "  Text(16, 0, '25_LP'),\n",
       "  Text(17, 0, '26_CB'),\n",
       "  Text(18, 0, '27_CM'),\n",
       "  Text(19, 0, '28_GM'),\n",
       "  Text(20, 0, '29_LT'),\n",
       "  Text(21, 0, '30_LN'),\n",
       "  Text(22, 0, '31_FB'),\n",
       "  Text(23, 0, '32_CD'),\n",
       "  Text(24, 0, '33_NM'),\n",
       "  Text(25, 0, '34_AS'),\n",
       "  Text(26, 0, '35_AA'),\n",
       "  Text(27, 0, '36_GS'),\n",
       "  Text(28, 0, '37_IC'),\n",
       "  Text(29, 0, '38_GC'),\n",
       "  Text(30, 0, '39_NB'),\n",
       "  Text(31, 0, '3_JF'),\n",
       "  Text(32, 0, '40_SQ'),\n",
       "  Text(33, 0, '4_MF'),\n",
       "  Text(34, 0, '5_PD'),\n",
       "  Text(35, 0, '6_SS'),\n",
       "  Text(36, 0, '7_GM'),\n",
       "  Text(37, 0, '8_MB'),\n",
       "  Text(38, 0, '9_BC')])"
      ]
     },
     "execution_count": 59,
     "metadata": {},
     "output_type": "execute_result"
    }
   ],
   "source": [
    "import seaborn as sns\n",
    "\n",
    "perc_pulses_basic_df = pd.DataFrame.from_dict(perc_pulses_basic, orient = \"index\")\n",
    "perc_pulses_diagnostic_df = pd.DataFrame.from_dict(perc_pulses_diagnostic, orient = \"index\")\n",
    "\n",
    "plt.figure(figsize = (10,6))\n",
    "sns.stripplot(perc_pulses_basic_df.T*100, size = 6, alpha = 0.6)#, jitter = 0.25)\n",
    "plt.xticks(rotation=12)\n",
    "# plt.xticks(size=12)\n",
    "# plt.yticks(size = 12)\n",
    "plt.ylabel('Basic Quality Pulses (%)')\n",
    "# plt.savefig('figures/BasicQualityPulses.png', dpi=300, bbox_inches='tight')\n",
    "\n",
    "n_pulse_basic_df = pd.DataFrame.from_dict(n_pulse_basic, orient = \"index\")  \n",
    "plt.figure(figsize = (12,7))\n",
    "sns.swarmplot(n_pulse_basic_df.T, size = 6)\n",
    "plt.xticks(rotation=12)\n",
    "\n",
    "plt.figure(figsize = (10,6))\n",
    "sns.stripplot(perc_pulses_diagnostic_df.T*100, size = 6, alpha = 0.8, jitter = 0.25)\n",
    "plt.xticks(rotation=12)\n",
    "# plt.xticks(size=12)\n",
    "# plt.yticks(size = 12)\n",
    "plt.ylabel('Diagnostic Quality Pulses (%)')\n",
    "# plt.savefig('figures/DagnosticQualityPulses.png', dpi=300, bbox_inches='tight')\n",
    "\n",
    "n_pulse_diag_df = pd.DataFrame.from_dict(n_pulse_diagnostic, orient = \"index\")  \n",
    "plt.figure(figsize = (12,7))\n",
    "sns.stripplot(n_pulse_diag_df.T, size = 6)\n",
    "plt.xticks(rotation=12)"
   ]
  },
  {
   "cell_type": "code",
   "execution_count": 44,
   "metadata": {},
   "outputs": [],
   "source": [
    "plt.close(\"all\")"
   ]
  },
  {
   "cell_type": "code",
   "execution_count": 42,
   "metadata": {},
   "outputs": [
    {
     "name": "stdout",
     "output_type": "stream",
     "text": [
      "(6207600, 3) (6207608,)\n"
     ]
    },
    {
     "data": {
      "text/plain": [
       "[<matplotlib.lines.Line2D at 0x7f7b1dd2c970>]"
      ]
     },
     "execution_count": 42,
     "metadata": {},
     "output_type": "execute_result"
    }
   ],
   "source": [
    "# interpolate acc from 32 to 64 Hz\n",
    "acc_int = np.zeros((acc.shape[0]*2, acc.shape[1]))\n",
    "for i in range(acc.shape[1]):\n",
    "    acc_int[:, i] = np.interp(np.arange(0, len(acc), 0.5), np.arange(0, len(acc)), acc[:, i])\n",
    "\n",
    "print(acc_int.shape, ppg.shape) \n",
    "\n",
    "plt.figure(figsize = (18, 10))\n",
    "plt.subplot(2, 1, 1)\n",
    "plt.plot(acc_int)\n",
    "plt.subplot(2, 1, 2, sharex = plt.subplot(2, 1, 1))\n",
    "plt.plot(ppg)"
   ]
  },
  {
   "cell_type": "code",
   "execution_count": 4,
   "metadata": {},
   "outputs": [],
   "source": [
    "if I_peak[0] < I_foot[0]:\n",
    "    I_peak = I_peak[1:]\n",
    "if I_foot[-1] > I_peak[-1]:\n",
    "    I_foot = I_foot[:-1]"
   ]
  },
  {
   "cell_type": "code",
   "execution_count": 5,
   "metadata": {},
   "outputs": [
    {
     "data": {
      "text/plain": [
       "((27820,), (27820,))"
      ]
     },
     "execution_count": 5,
     "metadata": {},
     "output_type": "execute_result"
    }
   ],
   "source": [
    "I_peak_diag = I_peak[:-1][y_diagnostic == 1]\n",
    "start_diag = I_foot[:-1][y_diagnostic == 1]\n",
    "end_diag = I_foot[1:][y_diagnostic == 1]\n",
    "# join the start and end of the diagnostic pulses, and sort them\n",
    "diag_pulses = np.sort(np.concatenate((start_diag, end_diag)))\n",
    "diag_pulses[::2].shape, I_peak_diag.shape"
   ]
  },
  {
   "cell_type": "code",
   "execution_count": 6,
   "metadata": {},
   "outputs": [],
   "source": [
    "dn = get_dicrotic_notch(ppg, 64, I_peak, list(I_foot))\n",
    "dn_diag = np.array(dn)[y_diagnostic == 1]"
   ]
  },
  {
   "cell_type": "code",
   "execution_count": 7,
   "metadata": {},
   "outputs": [],
   "source": [
    "apg_fp = get_apg_fiducials(ppg, list(I_foot), I_peak)\n",
    "e_diag = apg_fp[\"e\"][y_diagnostic == 1].values.astype(int)\n",
    "a_diag = apg_fp[\"a\"][y_diagnostic == 1].values.astype(int)\n",
    "b_diag = apg_fp[\"b\"][y_diagnostic == 1].values.astype(int)\n",
    "\n",
    "vpg_fp = get_vpg_fiducials(ppg, list(I_foot))\n",
    "u_diag = vpg_fp[\"u\"][y_diagnostic == 1].values.astype(int)\n",
    "v_diag = vpg_fp[\"v\"][y_diagnostic == 1].values.astype(int)"
   ]
  },
  {
   "cell_type": "code",
   "execution_count": 8,
   "metadata": {},
   "outputs": [],
   "source": [
    "dp_diag = get_diastolic_peak(ppg, diag_pulses, dn_diag, e_diag)"
   ]
  },
  {
   "cell_type": "code",
   "execution_count": 18,
   "metadata": {},
   "outputs": [],
   "source": [
    "fiducials_diag = pd.DataFrame({\"onset\": diag_pulses[::2], \"offset\": diag_pulses[1::2]-1, \"sp\": I_peak_diag, \"dn\": dn_diag, \"dp\": dp_diag, \"u\": u_diag, \"v\": v_diag, \"a\": a_diag, \"b\": b_diag})"
   ]
  },
  {
   "cell_type": "code",
   "execution_count": 19,
   "metadata": {},
   "outputs": [
    {
     "data": {
      "text/html": [
       "<div>\n",
       "<style scoped>\n",
       "    .dataframe tbody tr th:only-of-type {\n",
       "        vertical-align: middle;\n",
       "    }\n",
       "\n",
       "    .dataframe tbody tr th {\n",
       "        vertical-align: top;\n",
       "    }\n",
       "\n",
       "    .dataframe thead th {\n",
       "        text-align: right;\n",
       "    }\n",
       "</style>\n",
       "<table border=\"1\" class=\"dataframe\">\n",
       "  <thead>\n",
       "    <tr style=\"text-align: right;\">\n",
       "      <th></th>\n",
       "      <th>onset</th>\n",
       "      <th>offset</th>\n",
       "      <th>sp</th>\n",
       "      <th>dn</th>\n",
       "      <th>dp</th>\n",
       "      <th>u</th>\n",
       "      <th>v</th>\n",
       "      <th>a</th>\n",
       "      <th>b</th>\n",
       "    </tr>\n",
       "  </thead>\n",
       "  <tbody>\n",
       "    <tr>\n",
       "      <th>0</th>\n",
       "      <td>413</td>\n",
       "      <td>463</td>\n",
       "      <td>424</td>\n",
       "      <td>434</td>\n",
       "      <td>441</td>\n",
       "      <td>418</td>\n",
       "      <td>429</td>\n",
       "      <td>417</td>\n",
       "      <td>429</td>\n",
       "    </tr>\n",
       "    <tr>\n",
       "      <th>1</th>\n",
       "      <td>464</td>\n",
       "      <td>513</td>\n",
       "      <td>474</td>\n",
       "      <td>484</td>\n",
       "      <td>490</td>\n",
       "      <td>468</td>\n",
       "      <td>478</td>\n",
       "      <td>467</td>\n",
       "      <td>478</td>\n",
       "    </tr>\n",
       "    <tr>\n",
       "      <th>2</th>\n",
       "      <td>514</td>\n",
       "      <td>563</td>\n",
       "      <td>525</td>\n",
       "      <td>537</td>\n",
       "      <td>540</td>\n",
       "      <td>518</td>\n",
       "      <td>529</td>\n",
       "      <td>517</td>\n",
       "      <td>529</td>\n",
       "    </tr>\n",
       "    <tr>\n",
       "      <th>3</th>\n",
       "      <td>564</td>\n",
       "      <td>614</td>\n",
       "      <td>576</td>\n",
       "      <td>588</td>\n",
       "      <td>591</td>\n",
       "      <td>569</td>\n",
       "      <td>580</td>\n",
       "      <td>568</td>\n",
       "      <td>580</td>\n",
       "    </tr>\n",
       "    <tr>\n",
       "      <th>4</th>\n",
       "      <td>875</td>\n",
       "      <td>927</td>\n",
       "      <td>886</td>\n",
       "      <td>898</td>\n",
       "      <td>903</td>\n",
       "      <td>880</td>\n",
       "      <td>907</td>\n",
       "      <td>879</td>\n",
       "      <td>891</td>\n",
       "    </tr>\n",
       "  </tbody>\n",
       "</table>\n",
       "</div>"
      ],
      "text/plain": [
       "   onset  offset   sp   dn   dp    u    v    a    b\n",
       "0    413     463  424  434  441  418  429  417  429\n",
       "1    464     513  474  484  490  468  478  467  478\n",
       "2    514     563  525  537  540  518  529  517  529\n",
       "3    564     614  576  588  591  569  580  568  580\n",
       "4    875     927  886  898  903  880  907  879  891"
      ]
     },
     "execution_count": 19,
     "metadata": {},
     "output_type": "execute_result"
    }
   ],
   "source": [
    "fiducials_diag.dropna(inplace=True)\n",
    "fiducials_diag = fiducials_diag.astype(int)\n",
    "fiducials_diag.head()"
   ]
  },
  {
   "cell_type": "code",
   "execution_count": 13,
   "metadata": {},
   "outputs": [],
   "source": [
    "plt.figure()\n",
    "plt.plot(ppg)\n",
    "plt.plot(fiducials_diag[\"dp\"], ppg[fiducials_diag[\"dp\"]], 'k*', markersize=6)\n",
    "plt.plot(fiducials_diag[\"dn\"], ppg[fiducials_diag[\"dn\"]], 'g*', markersize=6)\n",
    "for i in range(y_diagnostic.shape[0]):\n",
    "    if y_diagnostic[i] == 1:\n",
    "        plt.plot(np.arange(I_foot[i],I_foot[i+1]), ppg[np.arange(I_foot[i],I_foot[i+1])], 'r')"
   ]
  },
  {
   "attachments": {},
   "cell_type": "markdown",
   "metadata": {},
   "source": [
    "### Biomarkers extraction"
   ]
  },
  {
   "cell_type": "code",
   "execution_count": 20,
   "metadata": {},
   "outputs": [],
   "source": [
    "fs = 64"
   ]
  },
  {
   "cell_type": "code",
   "execution_count": 21,
   "metadata": {},
   "outputs": [
    {
     "data": {
      "text/html": [
       "<div>\n",
       "<style scoped>\n",
       "    .dataframe tbody tr th:only-of-type {\n",
       "        vertical-align: middle;\n",
       "    }\n",
       "\n",
       "    .dataframe tbody tr th {\n",
       "        vertical-align: top;\n",
       "    }\n",
       "\n",
       "    .dataframe thead th {\n",
       "        text-align: right;\n",
       "    }\n",
       "</style>\n",
       "<table border=\"1\" class=\"dataframe\">\n",
       "  <thead>\n",
       "    <tr style=\"text-align: right;\">\n",
       "      <th></th>\n",
       "      <th>Tpi</th>\n",
       "      <th>Tsys</th>\n",
       "      <th>Tdia</th>\n",
       "      <th>Tsp</th>\n",
       "      <th>Tdp</th>\n",
       "      <th>dT</th>\n",
       "      <th>Asp</th>\n",
       "      <th>Adn</th>\n",
       "      <th>Adp</th>\n",
       "      <th>AUCpi</th>\n",
       "      <th>...</th>\n",
       "      <th>Tsp/Tpi</th>\n",
       "      <th>Adp/Asp</th>\n",
       "      <th>IPA</th>\n",
       "      <th>Tsp/Asp</th>\n",
       "      <th>Asp/dT</th>\n",
       "      <th>Asp/(Tpi-Tsp)</th>\n",
       "      <th>Tu</th>\n",
       "      <th>Tv</th>\n",
       "      <th>Ta</th>\n",
       "      <th>Tb</th>\n",
       "    </tr>\n",
       "  </thead>\n",
       "  <tbody>\n",
       "    <tr>\n",
       "      <th>0</th>\n",
       "      <td>0.781250</td>\n",
       "      <td>0.328125</td>\n",
       "      <td>0.453125</td>\n",
       "      <td>0.171875</td>\n",
       "      <td>0.437500</td>\n",
       "      <td>0.265625</td>\n",
       "      <td>98.20</td>\n",
       "      <td>66.66</td>\n",
       "      <td>65.80</td>\n",
       "      <td>165.440</td>\n",
       "      <td>...</td>\n",
       "      <td>0.220000</td>\n",
       "      <td>0.670061</td>\n",
       "      <td>-0.491982</td>\n",
       "      <td>0.001750</td>\n",
       "      <td>369.694118</td>\n",
       "      <td>161.148718</td>\n",
       "      <td>0.078125</td>\n",
       "      <td>0.250000</td>\n",
       "      <td>0.062500</td>\n",
       "      <td>0.250000</td>\n",
       "    </tr>\n",
       "    <tr>\n",
       "      <th>1</th>\n",
       "      <td>0.765625</td>\n",
       "      <td>0.312500</td>\n",
       "      <td>0.453125</td>\n",
       "      <td>0.156250</td>\n",
       "      <td>0.406250</td>\n",
       "      <td>0.250000</td>\n",
       "      <td>88.88</td>\n",
       "      <td>56.89</td>\n",
       "      <td>56.35</td>\n",
       "      <td>-64.265</td>\n",
       "      <td>...</td>\n",
       "      <td>0.204082</td>\n",
       "      <td>0.634001</td>\n",
       "      <td>-1.302628</td>\n",
       "      <td>0.001758</td>\n",
       "      <td>355.520000</td>\n",
       "      <td>145.854359</td>\n",
       "      <td>0.062500</td>\n",
       "      <td>0.218750</td>\n",
       "      <td>0.046875</td>\n",
       "      <td>0.218750</td>\n",
       "    </tr>\n",
       "    <tr>\n",
       "      <th>2</th>\n",
       "      <td>0.765625</td>\n",
       "      <td>0.359375</td>\n",
       "      <td>0.406250</td>\n",
       "      <td>0.171875</td>\n",
       "      <td>0.406250</td>\n",
       "      <td>0.234375</td>\n",
       "      <td>105.31</td>\n",
       "      <td>75.43</td>\n",
       "      <td>75.27</td>\n",
       "      <td>113.150</td>\n",
       "      <td>...</td>\n",
       "      <td>0.224490</td>\n",
       "      <td>0.714747</td>\n",
       "      <td>-0.714057</td>\n",
       "      <td>0.001632</td>\n",
       "      <td>449.322667</td>\n",
       "      <td>177.364211</td>\n",
       "      <td>0.062500</td>\n",
       "      <td>0.234375</td>\n",
       "      <td>0.046875</td>\n",
       "      <td>0.234375</td>\n",
       "    </tr>\n",
       "    <tr>\n",
       "      <th>3</th>\n",
       "      <td>0.781250</td>\n",
       "      <td>0.375000</td>\n",
       "      <td>0.406250</td>\n",
       "      <td>0.187500</td>\n",
       "      <td>0.421875</td>\n",
       "      <td>0.234375</td>\n",
       "      <td>111.92</td>\n",
       "      <td>85.65</td>\n",
       "      <td>85.95</td>\n",
       "      <td>135.920</td>\n",
       "      <td>...</td>\n",
       "      <td>0.240000</td>\n",
       "      <td>0.767959</td>\n",
       "      <td>-0.676375</td>\n",
       "      <td>0.001675</td>\n",
       "      <td>477.525333</td>\n",
       "      <td>188.496842</td>\n",
       "      <td>0.078125</td>\n",
       "      <td>0.250000</td>\n",
       "      <td>0.062500</td>\n",
       "      <td>0.250000</td>\n",
       "    </tr>\n",
       "    <tr>\n",
       "      <th>4</th>\n",
       "      <td>0.812500</td>\n",
       "      <td>0.359375</td>\n",
       "      <td>0.453125</td>\n",
       "      <td>0.171875</td>\n",
       "      <td>0.437500</td>\n",
       "      <td>0.265625</td>\n",
       "      <td>118.78</td>\n",
       "      <td>98.03</td>\n",
       "      <td>103.31</td>\n",
       "      <td>123.815</td>\n",
       "      <td>...</td>\n",
       "      <td>0.211538</td>\n",
       "      <td>0.869759</td>\n",
       "      <td>-0.576183</td>\n",
       "      <td>0.001447</td>\n",
       "      <td>447.171765</td>\n",
       "      <td>185.412683</td>\n",
       "      <td>0.078125</td>\n",
       "      <td>0.500000</td>\n",
       "      <td>0.062500</td>\n",
       "      <td>0.250000</td>\n",
       "    </tr>\n",
       "  </tbody>\n",
       "</table>\n",
       "<p>5 rows × 23 columns</p>\n",
       "</div>"
      ],
      "text/plain": [
       "        Tpi      Tsys      Tdia       Tsp       Tdp        dT     Asp    Adn  \\\n",
       "0  0.781250  0.328125  0.453125  0.171875  0.437500  0.265625   98.20  66.66   \n",
       "1  0.765625  0.312500  0.453125  0.156250  0.406250  0.250000   88.88  56.89   \n",
       "2  0.765625  0.359375  0.406250  0.171875  0.406250  0.234375  105.31  75.43   \n",
       "3  0.781250  0.375000  0.406250  0.187500  0.421875  0.234375  111.92  85.65   \n",
       "4  0.812500  0.359375  0.453125  0.171875  0.437500  0.265625  118.78  98.03   \n",
       "\n",
       "      Adp    AUCpi  ...   Tsp/Tpi   Adp/Asp       IPA   Tsp/Asp      Asp/dT  \\\n",
       "0   65.80  165.440  ...  0.220000  0.670061 -0.491982  0.001750  369.694118   \n",
       "1   56.35  -64.265  ...  0.204082  0.634001 -1.302628  0.001758  355.520000   \n",
       "2   75.27  113.150  ...  0.224490  0.714747 -0.714057  0.001632  449.322667   \n",
       "3   85.95  135.920  ...  0.240000  0.767959 -0.676375  0.001675  477.525333   \n",
       "4  103.31  123.815  ...  0.211538  0.869759 -0.576183  0.001447  447.171765   \n",
       "\n",
       "   Asp/(Tpi-Tsp)        Tu        Tv        Ta        Tb  \n",
       "0     161.148718  0.078125  0.250000  0.062500  0.250000  \n",
       "1     145.854359  0.062500  0.218750  0.046875  0.218750  \n",
       "2     177.364211  0.062500  0.234375  0.046875  0.234375  \n",
       "3     188.496842  0.078125  0.250000  0.062500  0.250000  \n",
       "4     185.412683  0.078125  0.500000  0.062500  0.250000  \n",
       "\n",
       "[5 rows x 23 columns]"
      ]
     },
     "execution_count": 21,
     "metadata": {},
     "output_type": "execute_result"
    }
   ],
   "source": [
    "# ----- Time Intervals -----\n",
    "# Tpi: time between the pulse onset and offset\n",
    "# Tsys: time between the pulse onset and dn\n",
    "# Tdia: time between the dn and pulse offset\n",
    "# Tsp: time between the pulse onset and sp\n",
    "# Tdp: time between the pulse onset and dp\n",
    "# dT: time between sp and dp\n",
    "Tpi = fiducials_diag[\"offset\"]/fs - fiducials_diag[\"onset\"]/fs\n",
    "Tsys = fiducials_diag[\"dn\"]/fs - fiducials_diag[\"onset\"]/fs\n",
    "Tdia = fiducials_diag[\"offset\"]/fs - fiducials_diag[\"dn\"]/fs\n",
    "Tsp = fiducials_diag[\"sp\"]/fs - fiducials_diag[\"onset\"]/fs\n",
    "Tdp = fiducials_diag[\"dp\"]/fs - fiducials_diag[\"onset\"]/fs\n",
    "dT = fiducials_diag[\"dp\"]/fs - fiducials_diag[\"sp\"]/fs\n",
    "\n",
    "# ---- Amplitudes -----\n",
    "# Asp: difference in amplitude between onset and sp\n",
    "# Adn: difference in amplitude between onset and dn\n",
    "# Adp: difference in amplitude between onset and dp\n",
    "Asp = ppg[fiducials_diag[\"sp\"]] - ppg[fiducials_diag[\"onset\"]]\n",
    "Adn = ppg[fiducials_diag[\"dn\"]] - ppg[fiducials_diag[\"onset\"]]\n",
    "Adp = ppg[fiducials_diag[\"dp\"]] - ppg[fiducials_diag[\"onset\"]]\n",
    "\n",
    "# ---- Areas -----\n",
    "# AUCpi: area under the whole pulse (between onset and offset)\n",
    "# AUCsys: area under pulse wave between onset and dn\n",
    "# AUCdia: area under pulse wave between dn and offset\n",
    "AUCpi = np.zeros(len(fiducials_diag))\n",
    "AUCsys = np.zeros(len(fiducials_diag))\n",
    "AUCdia = np.zeros(len(fiducials_diag))\n",
    "for i in range(len(fiducials_diag)):\n",
    "    AUCpi[i] = np.trapz(ppg[fiducials_diag[\"onset\"].iloc[i]:fiducials_diag[\"offset\"].iloc[i]])\n",
    "    AUCsys[i] = np.trapz(ppg[fiducials_diag[\"onset\"].iloc[i]:fiducials_diag[\"dn\"].iloc[i]])\n",
    "    AUCdia[i] = np.trapz(ppg[fiducials_diag[\"dn\"].iloc[i]:fiducials_diag[\"offset\"].iloc[i]])\n",
    "\n",
    "# ---- Ratios -----\n",
    "# TsysTdia: ratio between Tsys and Tdia\n",
    "# TspTpi: ratio between Tsp and Tpi\n",
    "# AdpAsp: ratio between Adp and Asp --> reflection index! \n",
    "# IPA: ratio of the area under diastolic curve and the area under systolic curve\n",
    "# TspAsp: ratio between Tsp and Asp\n",
    "# AspdT: ratio between Asp and dT --> Stifness index\n",
    "# AspTpiTsp: ratio between Asp and (Tpi - Tsp)\n",
    "TsysTdia = Tsys/Tdia\n",
    "TspTpi = Tsp/Tpi\n",
    "AdpAsp = Adp/Asp\n",
    "IPA = AUCdia/AUCsys\n",
    "TspAsp = Tsp/Asp\n",
    "AspdT = Asp/dT\n",
    "AspTpiTsp = Asp/(Tpi - Tsp)\n",
    "\n",
    "# ---- Derivatives -----\n",
    "# Tu: time between the pulse onset and u\n",
    "# Tv: time between the pulse onset and v\n",
    "# Ta: time between the pulse onset and a\n",
    "# Tb: time between the pulse onset and b\n",
    "Tu = fiducials_diag[\"u\"]/fs - fiducials_diag[\"onset\"]/fs\n",
    "Tv = fiducials_diag[\"v\"]/fs - fiducials_diag[\"onset\"]/fs\n",
    "Ta = fiducials_diag[\"a\"]/fs - fiducials_diag[\"onset\"]/fs\n",
    "Tb = fiducials_diag[\"b\"]/fs - fiducials_diag[\"onset\"]/fs\n",
    "\n",
    "features = pd.DataFrame({\"Tpi\": Tpi, \"Tsys\": Tsys, \"Tdia\": Tdia, \"Tsp\": Tsp, \"Tdp\": Tdp, \"dT\": dT, \"Asp\": Asp, \"Adn\": Adn, \"Adp\": Adp, \"AUCpi\": AUCpi, \"AUCsys\": AUCsys, \"AUCdia\": AUCdia, \"Tsys/Tdia\": TsysTdia, \"Tsp/Tpi\": TspTpi, \"Adp/Asp\": AdpAsp, \"IPA\": IPA, \"Tsp/Asp\": TspAsp, \"Asp/dT\": AspdT, \"Asp/(Tpi-Tsp)\": AspTpiTsp, \"Tu\": Tu, \"Tv\": Tv, \"Ta\": Ta, \"Tb\": Tb})\n",
    "features.head()"
   ]
  },
  {
   "cell_type": "code",
   "execution_count": 22,
   "metadata": {},
   "outputs": [
    {
     "data": {
      "text/plain": [
       "(27744, 23)"
      ]
     },
     "execution_count": 22,
     "metadata": {},
     "output_type": "execute_result"
    }
   ],
   "source": [
    "features.shape"
   ]
  },
  {
   "cell_type": "code",
   "execution_count": 25,
   "metadata": {},
   "outputs": [
    {
     "data": {
      "text/plain": [
       "<Axes: >"
      ]
     },
     "execution_count": 25,
     "metadata": {},
     "output_type": "execute_result"
    }
   ],
   "source": [
    "# Explore a subset of the features with seaborn\n",
    "import seaborn as sns\n",
    "\n",
    "# Plot the temporal patterns of the features\n",
    "plt.figure(figsize=(18, 10))\n",
    "sns.lineplot(data=features[[\"Tpi\", \"Tsys\", \"Tdia\"]])"
   ]
  },
  {
   "attachments": {},
   "cell_type": "markdown",
   "metadata": {},
   "source": [
    "## Biomarkers extraction -- 24 Hours Diag Old No Int"
   ]
  },
  {
   "cell_type": "code",
   "execution_count": 9,
   "metadata": {},
   "outputs": [],
   "source": [
    "import glob"
   ]
  },
  {
   "cell_type": "code",
   "execution_count": 10,
   "metadata": {},
   "outputs": [
    {
     "data": {
      "text/plain": [
       "39"
      ]
     },
     "execution_count": 10,
     "metadata": {},
     "output_type": "execute_result"
    }
   ],
   "source": [
    "HOM_path = '/Users/marcellosicbaldi/Library/CloudStorage/OneDrive-AlmaMaterStudiorumUniversitàdiBologna/Acq/HOM/'\n",
    "data_path = '/Users/marcellosicbaldi/Library/CloudStorage/OneDrive-AlmaMaterStudiorumUniversitàdiBologna/Acq/NewAnalysis2023/CinC/Data_24hPulses/baseline/'\n",
    "sub_names = sorted([f for f in os.listdir(data_path) if not f.startswith('.')])\n",
    "len(sub_names)"
   ]
  },
  {
   "cell_type": "code",
   "execution_count": 11,
   "metadata": {},
   "outputs": [
    {
     "name": "stdout",
     "output_type": "stream",
     "text": [
      "10_AC\n"
     ]
    },
    {
     "name": "stderr",
     "output_type": "stream",
     "text": [
      "/var/folders/k1/8pz3zwd53cv4xvdj2pstv1440000gn/T/ipykernel_56585/1192103018.py:31: RuntimeWarning: invalid value encountered in cast\n",
      "  v_diag = vpg_fp[\"v\"][y_diagnostic == 1].values.astype(int)\n"
     ]
    },
    {
     "name": "stdout",
     "output_type": "stream",
     "text": [
      "11_EC\n"
     ]
    },
    {
     "name": "stderr",
     "output_type": "stream",
     "text": [
      "/Users/marcellosicbaldi/Library/CloudStorage/OneDrive-AlmaMaterStudiorumUniversitàdiBologna/Acq/NewAnalysis2023/CinC/Code/ppg_fiducials.py:51: RuntimeWarning: divide by zero encountered in divide\n",
      "  tau=(t-t_Pmax)/(T_beat-t_Pmax)\n",
      "/Users/marcellosicbaldi/Library/CloudStorage/OneDrive-AlmaMaterStudiorumUniversitàdiBologna/Acq/NewAnalysis2023/CinC/Code/ppg_fiducials.py:51: RuntimeWarning: invalid value encountered in divide\n",
      "  tau=(t-t_Pmax)/(T_beat-t_Pmax)\n",
      "/Users/marcellosicbaldi/Library/CloudStorage/OneDrive-AlmaMaterStudiorumUniversitàdiBologna/Acq/NewAnalysis2023/CinC/Code/ppg_fiducials.py:61: RuntimeWarning: divide by zero encountered in scalar divide\n",
      "  tau_wmax=(t_w-t_Pmax)/(T_beat-t_Pmax)\n",
      "/Users/marcellosicbaldi/Library/CloudStorage/OneDrive-AlmaMaterStudiorumUniversitàdiBologna/Acq/NewAnalysis2023/CinC/Code/ppg_fiducials.py:65: RuntimeWarning: invalid value encountered in scalar subtract\n",
      "  alfa=(beta*tau_wmax-2*tau_wmax+1)/(1-tau_wmax)\n",
      "/var/folders/k1/8pz3zwd53cv4xvdj2pstv1440000gn/T/ipykernel_56585/1192103018.py:25: RuntimeWarning: invalid value encountered in cast\n",
      "  e_diag = apg_fp[\"e\"][y_diagnostic == 1].values.astype(int)\n",
      "/var/folders/k1/8pz3zwd53cv4xvdj2pstv1440000gn/T/ipykernel_56585/1192103018.py:26: RuntimeWarning: invalid value encountered in cast\n",
      "  a_diag = apg_fp[\"a\"][y_diagnostic == 1].values.astype(int)\n",
      "/var/folders/k1/8pz3zwd53cv4xvdj2pstv1440000gn/T/ipykernel_56585/1192103018.py:27: RuntimeWarning: invalid value encountered in cast\n",
      "  b_diag = apg_fp[\"b\"][y_diagnostic == 1].values.astype(int)\n",
      "/var/folders/k1/8pz3zwd53cv4xvdj2pstv1440000gn/T/ipykernel_56585/1192103018.py:31: RuntimeWarning: invalid value encountered in cast\n",
      "  v_diag = vpg_fp[\"v\"][y_diagnostic == 1].values.astype(int)\n"
     ]
    },
    {
     "name": "stdout",
     "output_type": "stream",
     "text": [
      "12_FN\n",
      "13_MS\n"
     ]
    },
    {
     "name": "stderr",
     "output_type": "stream",
     "text": [
      "/var/folders/k1/8pz3zwd53cv4xvdj2pstv1440000gn/T/ipykernel_56585/1192103018.py:31: RuntimeWarning: invalid value encountered in cast\n",
      "  v_diag = vpg_fp[\"v\"][y_diagnostic == 1].values.astype(int)\n"
     ]
    },
    {
     "name": "stdout",
     "output_type": "stream",
     "text": [
      "14_AD\n"
     ]
    },
    {
     "name": "stderr",
     "output_type": "stream",
     "text": [
      "/Users/marcellosicbaldi/Library/CloudStorage/OneDrive-AlmaMaterStudiorumUniversitàdiBologna/Acq/NewAnalysis2023/CinC/Code/ppg_fiducials.py:51: RuntimeWarning: divide by zero encountered in divide\n",
      "  tau=(t-t_Pmax)/(T_beat-t_Pmax)\n",
      "/Users/marcellosicbaldi/Library/CloudStorage/OneDrive-AlmaMaterStudiorumUniversitàdiBologna/Acq/NewAnalysis2023/CinC/Code/ppg_fiducials.py:51: RuntimeWarning: invalid value encountered in divide\n",
      "  tau=(t-t_Pmax)/(T_beat-t_Pmax)\n",
      "/Users/marcellosicbaldi/Library/CloudStorage/OneDrive-AlmaMaterStudiorumUniversitàdiBologna/Acq/NewAnalysis2023/CinC/Code/ppg_fiducials.py:61: RuntimeWarning: divide by zero encountered in scalar divide\n",
      "  tau_wmax=(t_w-t_Pmax)/(T_beat-t_Pmax)\n",
      "/Users/marcellosicbaldi/Library/CloudStorage/OneDrive-AlmaMaterStudiorumUniversitàdiBologna/Acq/NewAnalysis2023/CinC/Code/ppg_fiducials.py:65: RuntimeWarning: invalid value encountered in scalar subtract\n",
      "  alfa=(beta*tau_wmax-2*tau_wmax+1)/(1-tau_wmax)\n",
      "/var/folders/k1/8pz3zwd53cv4xvdj2pstv1440000gn/T/ipykernel_56585/1192103018.py:31: RuntimeWarning: invalid value encountered in cast\n",
      "  v_diag = vpg_fp[\"v\"][y_diagnostic == 1].values.astype(int)\n"
     ]
    },
    {
     "name": "stdout",
     "output_type": "stream",
     "text": [
      "15_ER\n"
     ]
    },
    {
     "name": "stderr",
     "output_type": "stream",
     "text": [
      "/var/folders/k1/8pz3zwd53cv4xvdj2pstv1440000gn/T/ipykernel_56585/1192103018.py:31: RuntimeWarning: invalid value encountered in cast\n",
      "  v_diag = vpg_fp[\"v\"][y_diagnostic == 1].values.astype(int)\n"
     ]
    },
    {
     "name": "stdout",
     "output_type": "stream",
     "text": [
      "16_PD\n"
     ]
    },
    {
     "name": "stderr",
     "output_type": "stream",
     "text": [
      "/var/folders/k1/8pz3zwd53cv4xvdj2pstv1440000gn/T/ipykernel_56585/1192103018.py:31: RuntimeWarning: invalid value encountered in cast\n",
      "  v_diag = vpg_fp[\"v\"][y_diagnostic == 1].values.astype(int)\n"
     ]
    },
    {
     "name": "stdout",
     "output_type": "stream",
     "text": [
      "17_EG\n"
     ]
    },
    {
     "name": "stderr",
     "output_type": "stream",
     "text": [
      "/var/folders/k1/8pz3zwd53cv4xvdj2pstv1440000gn/T/ipykernel_56585/1192103018.py:31: RuntimeWarning: invalid value encountered in cast\n",
      "  v_diag = vpg_fp[\"v\"][y_diagnostic == 1].values.astype(int)\n"
     ]
    },
    {
     "name": "stdout",
     "output_type": "stream",
     "text": [
      "18_MV\n"
     ]
    },
    {
     "name": "stderr",
     "output_type": "stream",
     "text": [
      "/var/folders/k1/8pz3zwd53cv4xvdj2pstv1440000gn/T/ipykernel_56585/1192103018.py:31: RuntimeWarning: invalid value encountered in cast\n",
      "  v_diag = vpg_fp[\"v\"][y_diagnostic == 1].values.astype(int)\n"
     ]
    },
    {
     "name": "stdout",
     "output_type": "stream",
     "text": [
      "19_FI\n"
     ]
    },
    {
     "name": "stderr",
     "output_type": "stream",
     "text": [
      "/var/folders/k1/8pz3zwd53cv4xvdj2pstv1440000gn/T/ipykernel_56585/1192103018.py:31: RuntimeWarning: invalid value encountered in cast\n",
      "  v_diag = vpg_fp[\"v\"][y_diagnostic == 1].values.astype(int)\n"
     ]
    },
    {
     "name": "stdout",
     "output_type": "stream",
     "text": [
      "1_ID\n"
     ]
    },
    {
     "name": "stderr",
     "output_type": "stream",
     "text": [
      "/var/folders/k1/8pz3zwd53cv4xvdj2pstv1440000gn/T/ipykernel_56585/1192103018.py:31: RuntimeWarning: invalid value encountered in cast\n",
      "  v_diag = vpg_fp[\"v\"][y_diagnostic == 1].values.astype(int)\n"
     ]
    },
    {
     "name": "stdout",
     "output_type": "stream",
     "text": [
      "20_AC\n",
      "21_CK\n"
     ]
    },
    {
     "name": "stderr",
     "output_type": "stream",
     "text": [
      "/var/folders/k1/8pz3zwd53cv4xvdj2pstv1440000gn/T/ipykernel_56585/1192103018.py:31: RuntimeWarning: invalid value encountered in cast\n",
      "  v_diag = vpg_fp[\"v\"][y_diagnostic == 1].values.astype(int)\n"
     ]
    },
    {
     "name": "stdout",
     "output_type": "stream",
     "text": [
      "22_CM\n"
     ]
    },
    {
     "name": "stderr",
     "output_type": "stream",
     "text": [
      "/var/folders/k1/8pz3zwd53cv4xvdj2pstv1440000gn/T/ipykernel_56585/1192103018.py:31: RuntimeWarning: invalid value encountered in cast\n",
      "  v_diag = vpg_fp[\"v\"][y_diagnostic == 1].values.astype(int)\n"
     ]
    },
    {
     "name": "stdout",
     "output_type": "stream",
     "text": [
      "23_PP\n"
     ]
    },
    {
     "name": "stderr",
     "output_type": "stream",
     "text": [
      "/var/folders/k1/8pz3zwd53cv4xvdj2pstv1440000gn/T/ipykernel_56585/1192103018.py:31: RuntimeWarning: invalid value encountered in cast\n",
      "  v_diag = vpg_fp[\"v\"][y_diagnostic == 1].values.astype(int)\n"
     ]
    },
    {
     "name": "stdout",
     "output_type": "stream",
     "text": [
      "24_SM\n"
     ]
    },
    {
     "name": "stderr",
     "output_type": "stream",
     "text": [
      "/var/folders/k1/8pz3zwd53cv4xvdj2pstv1440000gn/T/ipykernel_56585/1192103018.py:31: RuntimeWarning: invalid value encountered in cast\n",
      "  v_diag = vpg_fp[\"v\"][y_diagnostic == 1].values.astype(int)\n"
     ]
    },
    {
     "name": "stdout",
     "output_type": "stream",
     "text": [
      "25_LP\n"
     ]
    },
    {
     "name": "stderr",
     "output_type": "stream",
     "text": [
      "/var/folders/k1/8pz3zwd53cv4xvdj2pstv1440000gn/T/ipykernel_56585/1192103018.py:31: RuntimeWarning: invalid value encountered in cast\n",
      "  v_diag = vpg_fp[\"v\"][y_diagnostic == 1].values.astype(int)\n"
     ]
    },
    {
     "name": "stdout",
     "output_type": "stream",
     "text": [
      "26_CB\n"
     ]
    },
    {
     "name": "stderr",
     "output_type": "stream",
     "text": [
      "/var/folders/k1/8pz3zwd53cv4xvdj2pstv1440000gn/T/ipykernel_56585/1192103018.py:31: RuntimeWarning: invalid value encountered in cast\n",
      "  v_diag = vpg_fp[\"v\"][y_diagnostic == 1].values.astype(int)\n"
     ]
    },
    {
     "name": "stdout",
     "output_type": "stream",
     "text": [
      "27_CM\n"
     ]
    },
    {
     "name": "stderr",
     "output_type": "stream",
     "text": [
      "/var/folders/k1/8pz3zwd53cv4xvdj2pstv1440000gn/T/ipykernel_56585/1192103018.py:31: RuntimeWarning: invalid value encountered in cast\n",
      "  v_diag = vpg_fp[\"v\"][y_diagnostic == 1].values.astype(int)\n"
     ]
    },
    {
     "name": "stdout",
     "output_type": "stream",
     "text": [
      "28_GM\n"
     ]
    },
    {
     "name": "stderr",
     "output_type": "stream",
     "text": [
      "/var/folders/k1/8pz3zwd53cv4xvdj2pstv1440000gn/T/ipykernel_56585/1192103018.py:31: RuntimeWarning: invalid value encountered in cast\n",
      "  v_diag = vpg_fp[\"v\"][y_diagnostic == 1].values.astype(int)\n"
     ]
    },
    {
     "name": "stdout",
     "output_type": "stream",
     "text": [
      "29_LT\n"
     ]
    },
    {
     "name": "stderr",
     "output_type": "stream",
     "text": [
      "/Users/marcellosicbaldi/Library/CloudStorage/OneDrive-AlmaMaterStudiorumUniversitàdiBologna/Acq/NewAnalysis2023/CinC/Code/ppg_fiducials.py:51: RuntimeWarning: divide by zero encountered in divide\n",
      "  tau=(t-t_Pmax)/(T_beat-t_Pmax)\n",
      "/Users/marcellosicbaldi/Library/CloudStorage/OneDrive-AlmaMaterStudiorumUniversitàdiBologna/Acq/NewAnalysis2023/CinC/Code/ppg_fiducials.py:51: RuntimeWarning: invalid value encountered in divide\n",
      "  tau=(t-t_Pmax)/(T_beat-t_Pmax)\n",
      "/Users/marcellosicbaldi/Library/CloudStorage/OneDrive-AlmaMaterStudiorumUniversitàdiBologna/Acq/NewAnalysis2023/CinC/Code/ppg_fiducials.py:61: RuntimeWarning: divide by zero encountered in scalar divide\n",
      "  tau_wmax=(t_w-t_Pmax)/(T_beat-t_Pmax)\n",
      "/Users/marcellosicbaldi/Library/CloudStorage/OneDrive-AlmaMaterStudiorumUniversitàdiBologna/Acq/NewAnalysis2023/CinC/Code/ppg_fiducials.py:65: RuntimeWarning: invalid value encountered in scalar subtract\n",
      "  alfa=(beta*tau_wmax-2*tau_wmax+1)/(1-tau_wmax)\n"
     ]
    },
    {
     "name": "stdout",
     "output_type": "stream",
     "text": [
      "30_LN\n"
     ]
    },
    {
     "name": "stderr",
     "output_type": "stream",
     "text": [
      "/Users/marcellosicbaldi/Library/CloudStorage/OneDrive-AlmaMaterStudiorumUniversitàdiBologna/Acq/NewAnalysis2023/CinC/Code/ppg_fiducials.py:51: RuntimeWarning: divide by zero encountered in divide\n",
      "  tau=(t-t_Pmax)/(T_beat-t_Pmax)\n",
      "/Users/marcellosicbaldi/Library/CloudStorage/OneDrive-AlmaMaterStudiorumUniversitàdiBologna/Acq/NewAnalysis2023/CinC/Code/ppg_fiducials.py:51: RuntimeWarning: invalid value encountered in divide\n",
      "  tau=(t-t_Pmax)/(T_beat-t_Pmax)\n",
      "/Users/marcellosicbaldi/Library/CloudStorage/OneDrive-AlmaMaterStudiorumUniversitàdiBologna/Acq/NewAnalysis2023/CinC/Code/ppg_fiducials.py:61: RuntimeWarning: divide by zero encountered in scalar divide\n",
      "  tau_wmax=(t_w-t_Pmax)/(T_beat-t_Pmax)\n",
      "/Users/marcellosicbaldi/Library/CloudStorage/OneDrive-AlmaMaterStudiorumUniversitàdiBologna/Acq/NewAnalysis2023/CinC/Code/ppg_fiducials.py:65: RuntimeWarning: invalid value encountered in scalar subtract\n",
      "  alfa=(beta*tau_wmax-2*tau_wmax+1)/(1-tau_wmax)\n",
      "/var/folders/k1/8pz3zwd53cv4xvdj2pstv1440000gn/T/ipykernel_56585/1192103018.py:31: RuntimeWarning: invalid value encountered in cast\n",
      "  v_diag = vpg_fp[\"v\"][y_diagnostic == 1].values.astype(int)\n"
     ]
    },
    {
     "name": "stdout",
     "output_type": "stream",
     "text": [
      "31_FB\n"
     ]
    },
    {
     "name": "stderr",
     "output_type": "stream",
     "text": [
      "/var/folders/k1/8pz3zwd53cv4xvdj2pstv1440000gn/T/ipykernel_56585/1192103018.py:25: RuntimeWarning: invalid value encountered in cast\n",
      "  e_diag = apg_fp[\"e\"][y_diagnostic == 1].values.astype(int)\n",
      "/var/folders/k1/8pz3zwd53cv4xvdj2pstv1440000gn/T/ipykernel_56585/1192103018.py:26: RuntimeWarning: invalid value encountered in cast\n",
      "  a_diag = apg_fp[\"a\"][y_diagnostic == 1].values.astype(int)\n",
      "/var/folders/k1/8pz3zwd53cv4xvdj2pstv1440000gn/T/ipykernel_56585/1192103018.py:27: RuntimeWarning: invalid value encountered in cast\n",
      "  b_diag = apg_fp[\"b\"][y_diagnostic == 1].values.astype(int)\n",
      "/var/folders/k1/8pz3zwd53cv4xvdj2pstv1440000gn/T/ipykernel_56585/1192103018.py:31: RuntimeWarning: invalid value encountered in cast\n",
      "  v_diag = vpg_fp[\"v\"][y_diagnostic == 1].values.astype(int)\n"
     ]
    },
    {
     "name": "stdout",
     "output_type": "stream",
     "text": [
      "32_CD\n"
     ]
    },
    {
     "name": "stderr",
     "output_type": "stream",
     "text": [
      "/var/folders/k1/8pz3zwd53cv4xvdj2pstv1440000gn/T/ipykernel_56585/1192103018.py:31: RuntimeWarning: invalid value encountered in cast\n",
      "  v_diag = vpg_fp[\"v\"][y_diagnostic == 1].values.astype(int)\n"
     ]
    },
    {
     "name": "stdout",
     "output_type": "stream",
     "text": [
      "33_NM\n"
     ]
    },
    {
     "name": "stderr",
     "output_type": "stream",
     "text": [
      "/var/folders/k1/8pz3zwd53cv4xvdj2pstv1440000gn/T/ipykernel_56585/1192103018.py:31: RuntimeWarning: invalid value encountered in cast\n",
      "  v_diag = vpg_fp[\"v\"][y_diagnostic == 1].values.astype(int)\n"
     ]
    },
    {
     "name": "stdout",
     "output_type": "stream",
     "text": [
      "34_AS\n"
     ]
    },
    {
     "name": "stderr",
     "output_type": "stream",
     "text": [
      "/var/folders/k1/8pz3zwd53cv4xvdj2pstv1440000gn/T/ipykernel_56585/1192103018.py:31: RuntimeWarning: invalid value encountered in cast\n",
      "  v_diag = vpg_fp[\"v\"][y_diagnostic == 1].values.astype(int)\n"
     ]
    },
    {
     "name": "stdout",
     "output_type": "stream",
     "text": [
      "35_AA\n",
      "36_GS\n"
     ]
    },
    {
     "name": "stderr",
     "output_type": "stream",
     "text": [
      "/var/folders/k1/8pz3zwd53cv4xvdj2pstv1440000gn/T/ipykernel_56585/1192103018.py:31: RuntimeWarning: invalid value encountered in cast\n",
      "  v_diag = vpg_fp[\"v\"][y_diagnostic == 1].values.astype(int)\n"
     ]
    },
    {
     "name": "stdout",
     "output_type": "stream",
     "text": [
      "37_IC\n"
     ]
    },
    {
     "name": "stderr",
     "output_type": "stream",
     "text": [
      "/var/folders/k1/8pz3zwd53cv4xvdj2pstv1440000gn/T/ipykernel_56585/1192103018.py:31: RuntimeWarning: invalid value encountered in cast\n",
      "  v_diag = vpg_fp[\"v\"][y_diagnostic == 1].values.astype(int)\n"
     ]
    },
    {
     "name": "stdout",
     "output_type": "stream",
     "text": [
      "38_GC\n"
     ]
    },
    {
     "name": "stderr",
     "output_type": "stream",
     "text": [
      "/var/folders/k1/8pz3zwd53cv4xvdj2pstv1440000gn/T/ipykernel_56585/1192103018.py:31: RuntimeWarning: invalid value encountered in cast\n",
      "  v_diag = vpg_fp[\"v\"][y_diagnostic == 1].values.astype(int)\n"
     ]
    },
    {
     "name": "stdout",
     "output_type": "stream",
     "text": [
      "39_NB\n",
      "3_JF\n"
     ]
    },
    {
     "name": "stderr",
     "output_type": "stream",
     "text": [
      "/var/folders/k1/8pz3zwd53cv4xvdj2pstv1440000gn/T/ipykernel_56585/1192103018.py:31: RuntimeWarning: invalid value encountered in cast\n",
      "  v_diag = vpg_fp[\"v\"][y_diagnostic == 1].values.astype(int)\n"
     ]
    },
    {
     "name": "stdout",
     "output_type": "stream",
     "text": [
      "40_SQ\n"
     ]
    },
    {
     "name": "stderr",
     "output_type": "stream",
     "text": [
      "/var/folders/k1/8pz3zwd53cv4xvdj2pstv1440000gn/T/ipykernel_56585/1192103018.py:31: RuntimeWarning: invalid value encountered in cast\n",
      "  v_diag = vpg_fp[\"v\"][y_diagnostic == 1].values.astype(int)\n"
     ]
    },
    {
     "name": "stdout",
     "output_type": "stream",
     "text": [
      "4_MF\n"
     ]
    },
    {
     "name": "stderr",
     "output_type": "stream",
     "text": [
      "/var/folders/k1/8pz3zwd53cv4xvdj2pstv1440000gn/T/ipykernel_56585/1192103018.py:31: RuntimeWarning: invalid value encountered in cast\n",
      "  v_diag = vpg_fp[\"v\"][y_diagnostic == 1].values.astype(int)\n"
     ]
    },
    {
     "name": "stdout",
     "output_type": "stream",
     "text": [
      "5_PD\n"
     ]
    },
    {
     "name": "stderr",
     "output_type": "stream",
     "text": [
      "/var/folders/k1/8pz3zwd53cv4xvdj2pstv1440000gn/T/ipykernel_56585/1192103018.py:31: RuntimeWarning: invalid value encountered in cast\n",
      "  v_diag = vpg_fp[\"v\"][y_diagnostic == 1].values.astype(int)\n"
     ]
    },
    {
     "name": "stdout",
     "output_type": "stream",
     "text": [
      "6_SS\n"
     ]
    },
    {
     "name": "stderr",
     "output_type": "stream",
     "text": [
      "/var/folders/k1/8pz3zwd53cv4xvdj2pstv1440000gn/T/ipykernel_56585/1192103018.py:31: RuntimeWarning: invalid value encountered in cast\n",
      "  v_diag = vpg_fp[\"v\"][y_diagnostic == 1].values.astype(int)\n"
     ]
    },
    {
     "name": "stdout",
     "output_type": "stream",
     "text": [
      "7_GM\n"
     ]
    },
    {
     "name": "stderr",
     "output_type": "stream",
     "text": [
      "/var/folders/k1/8pz3zwd53cv4xvdj2pstv1440000gn/T/ipykernel_56585/1192103018.py:31: RuntimeWarning: invalid value encountered in cast\n",
      "  v_diag = vpg_fp[\"v\"][y_diagnostic == 1].values.astype(int)\n"
     ]
    },
    {
     "name": "stdout",
     "output_type": "stream",
     "text": [
      "8_MB\n"
     ]
    },
    {
     "name": "stderr",
     "output_type": "stream",
     "text": [
      "/var/folders/k1/8pz3zwd53cv4xvdj2pstv1440000gn/T/ipykernel_56585/1192103018.py:31: RuntimeWarning: invalid value encountered in cast\n",
      "  v_diag = vpg_fp[\"v\"][y_diagnostic == 1].values.astype(int)\n"
     ]
    },
    {
     "name": "stdout",
     "output_type": "stream",
     "text": [
      "9_BC\n"
     ]
    },
    {
     "name": "stderr",
     "output_type": "stream",
     "text": [
      "/var/folders/k1/8pz3zwd53cv4xvdj2pstv1440000gn/T/ipykernel_56585/1192103018.py:25: RuntimeWarning: invalid value encountered in cast\n",
      "  e_diag = apg_fp[\"e\"][y_diagnostic == 1].values.astype(int)\n",
      "/var/folders/k1/8pz3zwd53cv4xvdj2pstv1440000gn/T/ipykernel_56585/1192103018.py:26: RuntimeWarning: invalid value encountered in cast\n",
      "  a_diag = apg_fp[\"a\"][y_diagnostic == 1].values.astype(int)\n",
      "/var/folders/k1/8pz3zwd53cv4xvdj2pstv1440000gn/T/ipykernel_56585/1192103018.py:27: RuntimeWarning: invalid value encountered in cast\n",
      "  b_diag = apg_fp[\"b\"][y_diagnostic == 1].values.astype(int)\n",
      "/var/folders/k1/8pz3zwd53cv4xvdj2pstv1440000gn/T/ipykernel_56585/1192103018.py:31: RuntimeWarning: invalid value encountered in cast\n",
      "  v_diag = vpg_fp[\"v\"][y_diagnostic == 1].values.astype(int)\n"
     ]
    }
   ],
   "source": [
    "fs = 64\n",
    "for i, sub_ID in enumerate(sub_names): \n",
    "    print(sub_ID)\n",
    "    ppg_path = glob.glob(HOM_path + sub_ID + '/**/BVP.csv', recursive=True)[0]\n",
    "    acc_path = glob.glob(HOM_path + sub_ID + '/**/ACC.csv', recursive=True)[0]\n",
    "    ppg = pd.read_csv(ppg_path, header = None)[2:].to_numpy().squeeze()\n",
    "    acc = pd.read_csv(acc_path, header = None)[2:].to_numpy().squeeze()\n",
    "    y_basic = pd.read_csv(data_path + sub_ID + '/' + '/y_basic.csv', header = None).to_numpy().squeeze()\n",
    "    y_diagnostic = pd.read_csv(data_path + sub_ID + '/' + '/y_diagnostic.csv', header = None).to_numpy().squeeze()\n",
    "    I_foot = pd.read_csv(data_path + sub_ID + '/' + '/I_foot.csv', header=None).to_numpy().squeeze() - 1 # -1 because matlab is 1-indexed\n",
    "    I_peak = pd.read_csv(data_path + sub_ID + '/' + '/I_peak.csv', header=None).to_numpy().squeeze() - 1\n",
    "    if I_peak[0] < I_foot[0]:\n",
    "        I_peak = I_peak[1:]\n",
    "    if I_foot[-1] > I_peak[-1]:\n",
    "        I_foot = I_foot[:-1]\n",
    "    I_peak_diag = I_peak[:-1][y_diagnostic == 1]\n",
    "    start_diag = I_foot[:-1][y_diagnostic == 1]\n",
    "    end_diag = I_foot[1:][y_diagnostic == 1]\n",
    "    diag_pulses = np.sort(np.concatenate((start_diag, end_diag)))\n",
    "    diag_pulses[::2].shape, I_peak_diag.shape\n",
    "\n",
    "    dn = get_dicrotic_notch(ppg, 64, I_peak, list(I_foot))\n",
    "    dn_diag = np.array(dn)[y_diagnostic == 1]\n",
    "    apg_fp = get_apg_fiducials(ppg, list(I_foot), I_peak)\n",
    "    e_diag = apg_fp[\"e\"][y_diagnostic == 1].values.astype(int)\n",
    "    a_diag = apg_fp[\"a\"][y_diagnostic == 1].values.astype(int)\n",
    "    b_diag = apg_fp[\"b\"][y_diagnostic == 1].values.astype(int)\n",
    "\n",
    "    vpg_fp = get_vpg_fiducials(ppg, list(I_foot))\n",
    "    u_diag = vpg_fp[\"u\"][y_diagnostic == 1].values.astype(int)\n",
    "    v_diag = vpg_fp[\"v\"][y_diagnostic == 1].values.astype(int)\n",
    "    dp_diag = get_diastolic_peak(ppg, diag_pulses, dn_diag, e_diag)\n",
    "    fiducials_diag = pd.DataFrame({\"onset\": diag_pulses[::2], \"offset\": diag_pulses[1::2]-1, \"sp\": I_peak_diag, \"dn\": dn_diag, \"dp\": dp_diag, \"u\": u_diag, \"v\": v_diag, \"a\": a_diag, \"b\": b_diag})\n",
    "    fiducials_diag[fiducials_diag < -5000000] = np.nan\n",
    "    fiducials_diag.dropna(inplace=True)\n",
    "    fiducials_diag = fiducials_diag.astype(int)\n",
    "\n",
    "    # # plt.figure()\n",
    "    # # plt.plot(ppg)\n",
    "    # # plt.plot(fiducials_diag[\"dp\"], ppg[fiducials_diag[\"dp\"]], 'k*', markersize=6)\n",
    "    # # plt.plot(fiducials_diag[\"dn\"], ppg[fiducials_diag[\"dn\"]], 'g*', markersize=6)\n",
    "    # # for j in range(y_diagnostic.shape[0]):\n",
    "    # #     if y_diagnostic[j] == 1:\n",
    "    # #         plt.plot(np.arange(I_foot[j],I_foot[j+1]), ppg[np.arange(I_foot[j],I_foot[j+1])], 'r')\n",
    "    # # ----- Time Intervals -----\n",
    "    # # Tpi: time between the pulse onset and offset\n",
    "    # # Tsys: time between the pulse onset and dn\n",
    "    # # Tdia: time between the dn and pulse offset\n",
    "    # # Tsp: time between the pulse onset and sp\n",
    "    # # Tdp: time between the pulse onset and dp\n",
    "    # # dT: time between sp and dp\n",
    "    # Tpi = fiducials_diag[\"offset\"]/fs - fiducials_diag[\"onset\"]/fs\n",
    "    # Tsys = fiducials_diag[\"dn\"]/fs - fiducials_diag[\"onset\"]/fs\n",
    "    # Tdia = fiducials_diag[\"offset\"]/fs - fiducials_diag[\"dn\"]/fs\n",
    "    # Tsp = fiducials_diag[\"sp\"]/fs - fiducials_diag[\"onset\"]/fs\n",
    "    # Tdp = fiducials_diag[\"dp\"]/fs - fiducials_diag[\"onset\"]/fs\n",
    "    # dT = fiducials_diag[\"dp\"]/fs - fiducials_diag[\"sp\"]/fs\n",
    "\n",
    "    # # ---- Amplitudes -----\n",
    "    # # Asp: difference in amplitude between onset and sp\n",
    "    # # Adn: difference in amplitude between onset and dn\n",
    "    # # Adp: difference in amplitude between onset and dp\n",
    "    # Asp = ppg[fiducials_diag[\"sp\"]] - ppg[fiducials_diag[\"onset\"]]\n",
    "    # Adn = ppg[fiducials_diag[\"dn\"]] - ppg[fiducials_diag[\"onset\"]]\n",
    "    # Adp = ppg[fiducials_diag[\"dp\"]] - ppg[fiducials_diag[\"onset\"]]\n",
    "\n",
    "    # # ---- Areas -----\n",
    "    # # AUCpi: area under the whole pulse (between onset and offset)\n",
    "    # # AUCsys: area under pulse wave between onset and dn\n",
    "    # # AUCdia: area under pulse wave between dn and offset\n",
    "    # AUCpi = np.zeros(len(fiducials_diag))\n",
    "    # AUCsys = np.zeros(len(fiducials_diag))\n",
    "    # AUCdia = np.zeros(len(fiducials_diag))\n",
    "    # for i in range(len(fiducials_diag)):\n",
    "    #     AUCpi[i] = np.trapz(ppg[fiducials_diag[\"onset\"].iloc[i]:fiducials_diag[\"offset\"].iloc[i]])\n",
    "    #     AUCsys[i] = np.trapz(ppg[fiducials_diag[\"onset\"].iloc[i]:fiducials_diag[\"dn\"].iloc[i]])\n",
    "    #     AUCdia[i] = np.trapz(ppg[fiducials_diag[\"dn\"].iloc[i]:fiducials_diag[\"offset\"].iloc[i]])\n",
    "\n",
    "    # # ---- Ratios -----\n",
    "    # # TsysTdia: ratio between Tsys and Tdia\n",
    "    # # TspTpi: ratio between Tsp and Tpi\n",
    "    # # AdpAsp: ratio between Adp and Asp --> reflection index! \n",
    "    # # IPA: ratio of the area under diastolic curve and the area under systolic curve\n",
    "    # # TspAsp: ratio between Tsp and Asp\n",
    "    # # AspdT: ratio between Asp and dT --> Stifness index\n",
    "    # # AspTpiTsp: ratio between Asp and (Tpi - Tsp)\n",
    "    # TsysTdia = Tsys/Tdia\n",
    "    # TspTpi = Tsp/Tpi\n",
    "    # AdpAsp = Adp/Asp\n",
    "    # IPA = AUCdia/AUCsys\n",
    "    # TspAsp = Tsp/Asp\n",
    "    # AspdT = Asp/dT\n",
    "    # AspTpiTsp = Asp/(Tpi - Tsp)\n",
    "\n",
    "    # # ---- Derivatives -----\n",
    "    # # Tu: time between the pulse onset and u\n",
    "    # # Tv: time between the pulse onset and v\n",
    "    # # Ta: time between the pulse onset and a\n",
    "    # # Tb: time between the pulse onset and b\n",
    "    # Tu = fiducials_diag[\"u\"]/fs - fiducials_diag[\"onset\"]/fs\n",
    "    # Tv = fiducials_diag[\"v\"]/fs - fiducials_diag[\"onset\"]/fs\n",
    "    # Ta = fiducials_diag[\"a\"]/fs - fiducials_diag[\"onset\"]/fs\n",
    "    # Tb = fiducials_diag[\"b\"]/fs - fiducials_diag[\"onset\"]/fs\n",
    "\n",
    "    # features = pd.DataFrame({\"Tpi\": Tpi, \"Tsys\": Tsys, \"Tdia\": Tdia, \"Tsp\": Tsp, \"Tdp\": Tdp, \"dT\": dT, \"Asp\": Asp, \"Adn\": Adn, \"Adp\": Adp, \"AUCpi\": AUCpi, \"AUCsys\": AUCsys, \"AUCdia\": AUCdia, \"Tsys/Tdia\": TsysTdia, \"Tsp/Tpi\": TspTpi, \"Adp/Asp\": AdpAsp, \"IPA\": IPA, \"Tsp/Asp\": TspAsp, \"Asp/dT\": AspdT, \"Asp/(Tpi-Tsp)\": AspTpiTsp, \"Tu\": Tu, \"Tv\": Tv, \"Ta\": Ta, \"Tb\": Tb})\n",
    "    # features.to_csv(data_path + sub_ID + '/' + '/features.csv', index = False)\n",
    "    fiducials_diag.to_csv(data_path + sub_ID + '/' + '/fiducials.csv', index = False)"
   ]
  },
  {
   "cell_type": "code",
   "execution_count": 12,
   "metadata": {},
   "outputs": [
    {
     "data": {
      "text/plain": [
       "39"
      ]
     },
     "execution_count": 12,
     "metadata": {},
     "output_type": "execute_result"
    }
   ],
   "source": [
    "HOM_path = '/Users/marcellosicbaldi/Library/CloudStorage/OneDrive-AlmaMaterStudiorumUniversitàdiBologna/Acq/HOM2/'\n",
    "data_path = '/Users/marcellosicbaldi/Library/CloudStorage/OneDrive-AlmaMaterStudiorumUniversitàdiBologna/Acq/NewAnalysis2023/CinC/Data_24hPulses/followup/'\n",
    "sub_names = sorted([f for f in os.listdir(data_path) if not f.startswith('.')])\n",
    "len(sub_names)"
   ]
  },
  {
   "cell_type": "code",
   "execution_count": 13,
   "metadata": {},
   "outputs": [
    {
     "name": "stdout",
     "output_type": "stream",
     "text": [
      "10_AC\n",
      "11_EC\n",
      "12_FN\n"
     ]
    },
    {
     "name": "stderr",
     "output_type": "stream",
     "text": [
      "/var/folders/k1/8pz3zwd53cv4xvdj2pstv1440000gn/T/ipykernel_56585/1758887707.py:25: RuntimeWarning: invalid value encountered in cast\n",
      "  e_diag = apg_fp[\"e\"][y_diagnostic == 1].values.astype(int)\n",
      "/var/folders/k1/8pz3zwd53cv4xvdj2pstv1440000gn/T/ipykernel_56585/1758887707.py:26: RuntimeWarning: invalid value encountered in cast\n",
      "  a_diag = apg_fp[\"a\"][y_diagnostic == 1].values.astype(int)\n",
      "/var/folders/k1/8pz3zwd53cv4xvdj2pstv1440000gn/T/ipykernel_56585/1758887707.py:27: RuntimeWarning: invalid value encountered in cast\n",
      "  b_diag = apg_fp[\"b\"][y_diagnostic == 1].values.astype(int)\n",
      "/var/folders/k1/8pz3zwd53cv4xvdj2pstv1440000gn/T/ipykernel_56585/1758887707.py:31: RuntimeWarning: invalid value encountered in cast\n",
      "  v_diag = vpg_fp[\"v\"][y_diagnostic == 1].values.astype(int)\n"
     ]
    },
    {
     "name": "stdout",
     "output_type": "stream",
     "text": [
      "13_MS\n"
     ]
    },
    {
     "name": "stderr",
     "output_type": "stream",
     "text": [
      "/var/folders/k1/8pz3zwd53cv4xvdj2pstv1440000gn/T/ipykernel_56585/1758887707.py:31: RuntimeWarning: invalid value encountered in cast\n",
      "  v_diag = vpg_fp[\"v\"][y_diagnostic == 1].values.astype(int)\n"
     ]
    },
    {
     "name": "stdout",
     "output_type": "stream",
     "text": [
      "14_AD\n",
      "15_ER\n"
     ]
    },
    {
     "name": "stderr",
     "output_type": "stream",
     "text": [
      "/var/folders/k1/8pz3zwd53cv4xvdj2pstv1440000gn/T/ipykernel_56585/1758887707.py:31: RuntimeWarning: invalid value encountered in cast\n",
      "  v_diag = vpg_fp[\"v\"][y_diagnostic == 1].values.astype(int)\n"
     ]
    },
    {
     "name": "stdout",
     "output_type": "stream",
     "text": [
      "16_PD\n",
      "17_EG\n"
     ]
    },
    {
     "name": "stderr",
     "output_type": "stream",
     "text": [
      "/var/folders/k1/8pz3zwd53cv4xvdj2pstv1440000gn/T/ipykernel_56585/1758887707.py:31: RuntimeWarning: invalid value encountered in cast\n",
      "  v_diag = vpg_fp[\"v\"][y_diagnostic == 1].values.astype(int)\n"
     ]
    },
    {
     "name": "stdout",
     "output_type": "stream",
     "text": [
      "18_MV\n",
      "19_FI\n"
     ]
    },
    {
     "name": "stderr",
     "output_type": "stream",
     "text": [
      "/Users/marcellosicbaldi/Library/CloudStorage/OneDrive-AlmaMaterStudiorumUniversitàdiBologna/Acq/NewAnalysis2023/CinC/Code/ppg_fiducials.py:51: RuntimeWarning: divide by zero encountered in divide\n",
      "  tau=(t-t_Pmax)/(T_beat-t_Pmax)\n",
      "/Users/marcellosicbaldi/Library/CloudStorage/OneDrive-AlmaMaterStudiorumUniversitàdiBologna/Acq/NewAnalysis2023/CinC/Code/ppg_fiducials.py:51: RuntimeWarning: invalid value encountered in divide\n",
      "  tau=(t-t_Pmax)/(T_beat-t_Pmax)\n",
      "/Users/marcellosicbaldi/Library/CloudStorage/OneDrive-AlmaMaterStudiorumUniversitàdiBologna/Acq/NewAnalysis2023/CinC/Code/ppg_fiducials.py:61: RuntimeWarning: divide by zero encountered in scalar divide\n",
      "  tau_wmax=(t_w-t_Pmax)/(T_beat-t_Pmax)\n",
      "/Users/marcellosicbaldi/Library/CloudStorage/OneDrive-AlmaMaterStudiorumUniversitàdiBologna/Acq/NewAnalysis2023/CinC/Code/ppg_fiducials.py:65: RuntimeWarning: invalid value encountered in scalar subtract\n",
      "  alfa=(beta*tau_wmax-2*tau_wmax+1)/(1-tau_wmax)\n",
      "/var/folders/k1/8pz3zwd53cv4xvdj2pstv1440000gn/T/ipykernel_56585/1758887707.py:31: RuntimeWarning: invalid value encountered in cast\n",
      "  v_diag = vpg_fp[\"v\"][y_diagnostic == 1].values.astype(int)\n"
     ]
    },
    {
     "name": "stdout",
     "output_type": "stream",
     "text": [
      "1_ID\n"
     ]
    },
    {
     "name": "stderr",
     "output_type": "stream",
     "text": [
      "/var/folders/k1/8pz3zwd53cv4xvdj2pstv1440000gn/T/ipykernel_56585/1758887707.py:31: RuntimeWarning: invalid value encountered in cast\n",
      "  v_diag = vpg_fp[\"v\"][y_diagnostic == 1].values.astype(int)\n"
     ]
    },
    {
     "name": "stdout",
     "output_type": "stream",
     "text": [
      "20_AC\n"
     ]
    },
    {
     "name": "stderr",
     "output_type": "stream",
     "text": [
      "/Users/marcellosicbaldi/Library/CloudStorage/OneDrive-AlmaMaterStudiorumUniversitàdiBologna/Acq/NewAnalysis2023/CinC/Code/ppg_fiducials.py:51: RuntimeWarning: divide by zero encountered in divide\n",
      "  tau=(t-t_Pmax)/(T_beat-t_Pmax)\n",
      "/Users/marcellosicbaldi/Library/CloudStorage/OneDrive-AlmaMaterStudiorumUniversitàdiBologna/Acq/NewAnalysis2023/CinC/Code/ppg_fiducials.py:51: RuntimeWarning: invalid value encountered in divide\n",
      "  tau=(t-t_Pmax)/(T_beat-t_Pmax)\n",
      "/Users/marcellosicbaldi/Library/CloudStorage/OneDrive-AlmaMaterStudiorumUniversitàdiBologna/Acq/NewAnalysis2023/CinC/Code/ppg_fiducials.py:61: RuntimeWarning: divide by zero encountered in scalar divide\n",
      "  tau_wmax=(t_w-t_Pmax)/(T_beat-t_Pmax)\n",
      "/Users/marcellosicbaldi/Library/CloudStorage/OneDrive-AlmaMaterStudiorumUniversitàdiBologna/Acq/NewAnalysis2023/CinC/Code/ppg_fiducials.py:65: RuntimeWarning: invalid value encountered in scalar subtract\n",
      "  alfa=(beta*tau_wmax-2*tau_wmax+1)/(1-tau_wmax)\n",
      "/var/folders/k1/8pz3zwd53cv4xvdj2pstv1440000gn/T/ipykernel_56585/1758887707.py:31: RuntimeWarning: invalid value encountered in cast\n",
      "  v_diag = vpg_fp[\"v\"][y_diagnostic == 1].values.astype(int)\n"
     ]
    },
    {
     "name": "stdout",
     "output_type": "stream",
     "text": [
      "21_CK\n"
     ]
    },
    {
     "name": "stderr",
     "output_type": "stream",
     "text": [
      "/var/folders/k1/8pz3zwd53cv4xvdj2pstv1440000gn/T/ipykernel_56585/1758887707.py:31: RuntimeWarning: invalid value encountered in cast\n",
      "  v_diag = vpg_fp[\"v\"][y_diagnostic == 1].values.astype(int)\n"
     ]
    },
    {
     "name": "stdout",
     "output_type": "stream",
     "text": [
      "22_CM\n"
     ]
    },
    {
     "name": "stderr",
     "output_type": "stream",
     "text": [
      "/Users/marcellosicbaldi/Library/CloudStorage/OneDrive-AlmaMaterStudiorumUniversitàdiBologna/Acq/NewAnalysis2023/CinC/Code/ppg_fiducials.py:51: RuntimeWarning: divide by zero encountered in divide\n",
      "  tau=(t-t_Pmax)/(T_beat-t_Pmax)\n",
      "/Users/marcellosicbaldi/Library/CloudStorage/OneDrive-AlmaMaterStudiorumUniversitàdiBologna/Acq/NewAnalysis2023/CinC/Code/ppg_fiducials.py:51: RuntimeWarning: invalid value encountered in divide\n",
      "  tau=(t-t_Pmax)/(T_beat-t_Pmax)\n",
      "/Users/marcellosicbaldi/Library/CloudStorage/OneDrive-AlmaMaterStudiorumUniversitàdiBologna/Acq/NewAnalysis2023/CinC/Code/ppg_fiducials.py:61: RuntimeWarning: divide by zero encountered in scalar divide\n",
      "  tau_wmax=(t_w-t_Pmax)/(T_beat-t_Pmax)\n",
      "/Users/marcellosicbaldi/Library/CloudStorage/OneDrive-AlmaMaterStudiorumUniversitàdiBologna/Acq/NewAnalysis2023/CinC/Code/ppg_fiducials.py:65: RuntimeWarning: invalid value encountered in scalar subtract\n",
      "  alfa=(beta*tau_wmax-2*tau_wmax+1)/(1-tau_wmax)\n"
     ]
    },
    {
     "name": "stdout",
     "output_type": "stream",
     "text": [
      "23_PP\n",
      "24_SM\n"
     ]
    },
    {
     "name": "stderr",
     "output_type": "stream",
     "text": [
      "/var/folders/k1/8pz3zwd53cv4xvdj2pstv1440000gn/T/ipykernel_56585/1758887707.py:31: RuntimeWarning: invalid value encountered in cast\n",
      "  v_diag = vpg_fp[\"v\"][y_diagnostic == 1].values.astype(int)\n"
     ]
    },
    {
     "name": "stdout",
     "output_type": "stream",
     "text": [
      "25_LP\n"
     ]
    },
    {
     "name": "stderr",
     "output_type": "stream",
     "text": [
      "/var/folders/k1/8pz3zwd53cv4xvdj2pstv1440000gn/T/ipykernel_56585/1758887707.py:31: RuntimeWarning: invalid value encountered in cast\n",
      "  v_diag = vpg_fp[\"v\"][y_diagnostic == 1].values.astype(int)\n"
     ]
    },
    {
     "name": "stdout",
     "output_type": "stream",
     "text": [
      "26_CB\n"
     ]
    },
    {
     "name": "stderr",
     "output_type": "stream",
     "text": [
      "/var/folders/k1/8pz3zwd53cv4xvdj2pstv1440000gn/T/ipykernel_56585/1758887707.py:31: RuntimeWarning: invalid value encountered in cast\n",
      "  v_diag = vpg_fp[\"v\"][y_diagnostic == 1].values.astype(int)\n"
     ]
    },
    {
     "name": "stdout",
     "output_type": "stream",
     "text": [
      "27_CM\n"
     ]
    },
    {
     "name": "stderr",
     "output_type": "stream",
     "text": [
      "/var/folders/k1/8pz3zwd53cv4xvdj2pstv1440000gn/T/ipykernel_56585/1758887707.py:31: RuntimeWarning: invalid value encountered in cast\n",
      "  v_diag = vpg_fp[\"v\"][y_diagnostic == 1].values.astype(int)\n"
     ]
    },
    {
     "name": "stdout",
     "output_type": "stream",
     "text": [
      "28_GM\n"
     ]
    },
    {
     "name": "stderr",
     "output_type": "stream",
     "text": [
      "/var/folders/k1/8pz3zwd53cv4xvdj2pstv1440000gn/T/ipykernel_56585/1758887707.py:31: RuntimeWarning: invalid value encountered in cast\n",
      "  v_diag = vpg_fp[\"v\"][y_diagnostic == 1].values.astype(int)\n"
     ]
    },
    {
     "name": "stdout",
     "output_type": "stream",
     "text": [
      "29_LT\n"
     ]
    },
    {
     "name": "stderr",
     "output_type": "stream",
     "text": [
      "/var/folders/k1/8pz3zwd53cv4xvdj2pstv1440000gn/T/ipykernel_56585/1758887707.py:31: RuntimeWarning: invalid value encountered in cast\n",
      "  v_diag = vpg_fp[\"v\"][y_diagnostic == 1].values.astype(int)\n"
     ]
    },
    {
     "name": "stdout",
     "output_type": "stream",
     "text": [
      "30_LN\n",
      "31_FB\n"
     ]
    },
    {
     "name": "stderr",
     "output_type": "stream",
     "text": [
      "/var/folders/k1/8pz3zwd53cv4xvdj2pstv1440000gn/T/ipykernel_56585/1758887707.py:31: RuntimeWarning: invalid value encountered in cast\n",
      "  v_diag = vpg_fp[\"v\"][y_diagnostic == 1].values.astype(int)\n"
     ]
    },
    {
     "name": "stdout",
     "output_type": "stream",
     "text": [
      "32_CD\n"
     ]
    },
    {
     "name": "stderr",
     "output_type": "stream",
     "text": [
      "/Users/marcellosicbaldi/Library/CloudStorage/OneDrive-AlmaMaterStudiorumUniversitàdiBologna/Acq/NewAnalysis2023/CinC/Code/ppg_fiducials.py:51: RuntimeWarning: divide by zero encountered in divide\n",
      "  tau=(t-t_Pmax)/(T_beat-t_Pmax)\n",
      "/Users/marcellosicbaldi/Library/CloudStorage/OneDrive-AlmaMaterStudiorumUniversitàdiBologna/Acq/NewAnalysis2023/CinC/Code/ppg_fiducials.py:51: RuntimeWarning: invalid value encountered in divide\n",
      "  tau=(t-t_Pmax)/(T_beat-t_Pmax)\n",
      "/Users/marcellosicbaldi/Library/CloudStorage/OneDrive-AlmaMaterStudiorumUniversitàdiBologna/Acq/NewAnalysis2023/CinC/Code/ppg_fiducials.py:61: RuntimeWarning: divide by zero encountered in scalar divide\n",
      "  tau_wmax=(t_w-t_Pmax)/(T_beat-t_Pmax)\n",
      "/Users/marcellosicbaldi/Library/CloudStorage/OneDrive-AlmaMaterStudiorumUniversitàdiBologna/Acq/NewAnalysis2023/CinC/Code/ppg_fiducials.py:65: RuntimeWarning: invalid value encountered in scalar subtract\n",
      "  alfa=(beta*tau_wmax-2*tau_wmax+1)/(1-tau_wmax)\n",
      "/var/folders/k1/8pz3zwd53cv4xvdj2pstv1440000gn/T/ipykernel_56585/1758887707.py:31: RuntimeWarning: invalid value encountered in cast\n",
      "  v_diag = vpg_fp[\"v\"][y_diagnostic == 1].values.astype(int)\n"
     ]
    },
    {
     "name": "stdout",
     "output_type": "stream",
     "text": [
      "33_NM\n"
     ]
    },
    {
     "name": "stderr",
     "output_type": "stream",
     "text": [
      "/Users/marcellosicbaldi/Library/CloudStorage/OneDrive-AlmaMaterStudiorumUniversitàdiBologna/Acq/NewAnalysis2023/CinC/Code/ppg_fiducials.py:51: RuntimeWarning: divide by zero encountered in divide\n",
      "  tau=(t-t_Pmax)/(T_beat-t_Pmax)\n",
      "/Users/marcellosicbaldi/Library/CloudStorage/OneDrive-AlmaMaterStudiorumUniversitàdiBologna/Acq/NewAnalysis2023/CinC/Code/ppg_fiducials.py:51: RuntimeWarning: invalid value encountered in divide\n",
      "  tau=(t-t_Pmax)/(T_beat-t_Pmax)\n",
      "/Users/marcellosicbaldi/Library/CloudStorage/OneDrive-AlmaMaterStudiorumUniversitàdiBologna/Acq/NewAnalysis2023/CinC/Code/ppg_fiducials.py:61: RuntimeWarning: divide by zero encountered in scalar divide\n",
      "  tau_wmax=(t_w-t_Pmax)/(T_beat-t_Pmax)\n",
      "/Users/marcellosicbaldi/Library/CloudStorage/OneDrive-AlmaMaterStudiorumUniversitàdiBologna/Acq/NewAnalysis2023/CinC/Code/ppg_fiducials.py:65: RuntimeWarning: invalid value encountered in scalar subtract\n",
      "  alfa=(beta*tau_wmax-2*tau_wmax+1)/(1-tau_wmax)\n",
      "/var/folders/k1/8pz3zwd53cv4xvdj2pstv1440000gn/T/ipykernel_56585/1758887707.py:31: RuntimeWarning: invalid value encountered in cast\n",
      "  v_diag = vpg_fp[\"v\"][y_diagnostic == 1].values.astype(int)\n"
     ]
    },
    {
     "name": "stdout",
     "output_type": "stream",
     "text": [
      "34_AS\n",
      "35_AA\n"
     ]
    },
    {
     "name": "stderr",
     "output_type": "stream",
     "text": [
      "/Users/marcellosicbaldi/Library/CloudStorage/OneDrive-AlmaMaterStudiorumUniversitàdiBologna/Acq/NewAnalysis2023/CinC/Code/ppg_fiducials.py:51: RuntimeWarning: divide by zero encountered in divide\n",
      "  tau=(t-t_Pmax)/(T_beat-t_Pmax)\n",
      "/Users/marcellosicbaldi/Library/CloudStorage/OneDrive-AlmaMaterStudiorumUniversitàdiBologna/Acq/NewAnalysis2023/CinC/Code/ppg_fiducials.py:51: RuntimeWarning: invalid value encountered in divide\n",
      "  tau=(t-t_Pmax)/(T_beat-t_Pmax)\n",
      "/Users/marcellosicbaldi/Library/CloudStorage/OneDrive-AlmaMaterStudiorumUniversitàdiBologna/Acq/NewAnalysis2023/CinC/Code/ppg_fiducials.py:61: RuntimeWarning: divide by zero encountered in scalar divide\n",
      "  tau_wmax=(t_w-t_Pmax)/(T_beat-t_Pmax)\n",
      "/Users/marcellosicbaldi/Library/CloudStorage/OneDrive-AlmaMaterStudiorumUniversitàdiBologna/Acq/NewAnalysis2023/CinC/Code/ppg_fiducials.py:65: RuntimeWarning: invalid value encountered in scalar subtract\n",
      "  alfa=(beta*tau_wmax-2*tau_wmax+1)/(1-tau_wmax)\n",
      "/var/folders/k1/8pz3zwd53cv4xvdj2pstv1440000gn/T/ipykernel_56585/1758887707.py:31: RuntimeWarning: invalid value encountered in cast\n",
      "  v_diag = vpg_fp[\"v\"][y_diagnostic == 1].values.astype(int)\n"
     ]
    },
    {
     "name": "stdout",
     "output_type": "stream",
     "text": [
      "36_GS\n"
     ]
    },
    {
     "name": "stderr",
     "output_type": "stream",
     "text": [
      "/var/folders/k1/8pz3zwd53cv4xvdj2pstv1440000gn/T/ipykernel_56585/1758887707.py:31: RuntimeWarning: invalid value encountered in cast\n",
      "  v_diag = vpg_fp[\"v\"][y_diagnostic == 1].values.astype(int)\n"
     ]
    },
    {
     "name": "stdout",
     "output_type": "stream",
     "text": [
      "37_IC\n"
     ]
    },
    {
     "name": "stderr",
     "output_type": "stream",
     "text": [
      "/var/folders/k1/8pz3zwd53cv4xvdj2pstv1440000gn/T/ipykernel_56585/1758887707.py:31: RuntimeWarning: invalid value encountered in cast\n",
      "  v_diag = vpg_fp[\"v\"][y_diagnostic == 1].values.astype(int)\n"
     ]
    },
    {
     "name": "stdout",
     "output_type": "stream",
     "text": [
      "38_GC\n"
     ]
    },
    {
     "name": "stderr",
     "output_type": "stream",
     "text": [
      "/var/folders/k1/8pz3zwd53cv4xvdj2pstv1440000gn/T/ipykernel_56585/1758887707.py:31: RuntimeWarning: invalid value encountered in cast\n",
      "  v_diag = vpg_fp[\"v\"][y_diagnostic == 1].values.astype(int)\n"
     ]
    },
    {
     "name": "stdout",
     "output_type": "stream",
     "text": [
      "39_NB\n"
     ]
    },
    {
     "name": "stderr",
     "output_type": "stream",
     "text": [
      "/var/folders/k1/8pz3zwd53cv4xvdj2pstv1440000gn/T/ipykernel_56585/1758887707.py:31: RuntimeWarning: invalid value encountered in cast\n",
      "  v_diag = vpg_fp[\"v\"][y_diagnostic == 1].values.astype(int)\n"
     ]
    },
    {
     "name": "stdout",
     "output_type": "stream",
     "text": [
      "3_JF\n"
     ]
    },
    {
     "name": "stderr",
     "output_type": "stream",
     "text": [
      "/var/folders/k1/8pz3zwd53cv4xvdj2pstv1440000gn/T/ipykernel_56585/1758887707.py:31: RuntimeWarning: invalid value encountered in cast\n",
      "  v_diag = vpg_fp[\"v\"][y_diagnostic == 1].values.astype(int)\n"
     ]
    },
    {
     "name": "stdout",
     "output_type": "stream",
     "text": [
      "40_SQ\n"
     ]
    },
    {
     "name": "stderr",
     "output_type": "stream",
     "text": [
      "/Users/marcellosicbaldi/Library/CloudStorage/OneDrive-AlmaMaterStudiorumUniversitàdiBologna/Acq/NewAnalysis2023/CinC/Code/ppg_fiducials.py:51: RuntimeWarning: divide by zero encountered in divide\n",
      "  tau=(t-t_Pmax)/(T_beat-t_Pmax)\n",
      "/Users/marcellosicbaldi/Library/CloudStorage/OneDrive-AlmaMaterStudiorumUniversitàdiBologna/Acq/NewAnalysis2023/CinC/Code/ppg_fiducials.py:51: RuntimeWarning: invalid value encountered in divide\n",
      "  tau=(t-t_Pmax)/(T_beat-t_Pmax)\n",
      "/Users/marcellosicbaldi/Library/CloudStorage/OneDrive-AlmaMaterStudiorumUniversitàdiBologna/Acq/NewAnalysis2023/CinC/Code/ppg_fiducials.py:61: RuntimeWarning: divide by zero encountered in scalar divide\n",
      "  tau_wmax=(t_w-t_Pmax)/(T_beat-t_Pmax)\n",
      "/Users/marcellosicbaldi/Library/CloudStorage/OneDrive-AlmaMaterStudiorumUniversitàdiBologna/Acq/NewAnalysis2023/CinC/Code/ppg_fiducials.py:65: RuntimeWarning: invalid value encountered in scalar subtract\n",
      "  alfa=(beta*tau_wmax-2*tau_wmax+1)/(1-tau_wmax)\n",
      "/var/folders/k1/8pz3zwd53cv4xvdj2pstv1440000gn/T/ipykernel_56585/1758887707.py:31: RuntimeWarning: invalid value encountered in cast\n",
      "  v_diag = vpg_fp[\"v\"][y_diagnostic == 1].values.astype(int)\n"
     ]
    },
    {
     "name": "stdout",
     "output_type": "stream",
     "text": [
      "4_MF\n"
     ]
    },
    {
     "name": "stderr",
     "output_type": "stream",
     "text": [
      "/var/folders/k1/8pz3zwd53cv4xvdj2pstv1440000gn/T/ipykernel_56585/1758887707.py:31: RuntimeWarning: invalid value encountered in cast\n",
      "  v_diag = vpg_fp[\"v\"][y_diagnostic == 1].values.astype(int)\n"
     ]
    },
    {
     "name": "stdout",
     "output_type": "stream",
     "text": [
      "5_PD\n"
     ]
    },
    {
     "name": "stderr",
     "output_type": "stream",
     "text": [
      "/Users/marcellosicbaldi/Library/CloudStorage/OneDrive-AlmaMaterStudiorumUniversitàdiBologna/Acq/NewAnalysis2023/CinC/Code/ppg_fiducials.py:51: RuntimeWarning: divide by zero encountered in divide\n",
      "  tau=(t-t_Pmax)/(T_beat-t_Pmax)\n",
      "/Users/marcellosicbaldi/Library/CloudStorage/OneDrive-AlmaMaterStudiorumUniversitàdiBologna/Acq/NewAnalysis2023/CinC/Code/ppg_fiducials.py:51: RuntimeWarning: invalid value encountered in divide\n",
      "  tau=(t-t_Pmax)/(T_beat-t_Pmax)\n",
      "/Users/marcellosicbaldi/Library/CloudStorage/OneDrive-AlmaMaterStudiorumUniversitàdiBologna/Acq/NewAnalysis2023/CinC/Code/ppg_fiducials.py:61: RuntimeWarning: divide by zero encountered in scalar divide\n",
      "  tau_wmax=(t_w-t_Pmax)/(T_beat-t_Pmax)\n",
      "/Users/marcellosicbaldi/Library/CloudStorage/OneDrive-AlmaMaterStudiorumUniversitàdiBologna/Acq/NewAnalysis2023/CinC/Code/ppg_fiducials.py:65: RuntimeWarning: invalid value encountered in scalar subtract\n",
      "  alfa=(beta*tau_wmax-2*tau_wmax+1)/(1-tau_wmax)\n",
      "/var/folders/k1/8pz3zwd53cv4xvdj2pstv1440000gn/T/ipykernel_56585/1758887707.py:31: RuntimeWarning: invalid value encountered in cast\n",
      "  v_diag = vpg_fp[\"v\"][y_diagnostic == 1].values.astype(int)\n"
     ]
    },
    {
     "name": "stdout",
     "output_type": "stream",
     "text": [
      "6_SS\n"
     ]
    },
    {
     "name": "stderr",
     "output_type": "stream",
     "text": [
      "/var/folders/k1/8pz3zwd53cv4xvdj2pstv1440000gn/T/ipykernel_56585/1758887707.py:31: RuntimeWarning: invalid value encountered in cast\n",
      "  v_diag = vpg_fp[\"v\"][y_diagnostic == 1].values.astype(int)\n"
     ]
    },
    {
     "name": "stdout",
     "output_type": "stream",
     "text": [
      "7_GM\n"
     ]
    },
    {
     "name": "stderr",
     "output_type": "stream",
     "text": [
      "/var/folders/k1/8pz3zwd53cv4xvdj2pstv1440000gn/T/ipykernel_56585/1758887707.py:31: RuntimeWarning: invalid value encountered in cast\n",
      "  v_diag = vpg_fp[\"v\"][y_diagnostic == 1].values.astype(int)\n"
     ]
    },
    {
     "name": "stdout",
     "output_type": "stream",
     "text": [
      "8_MB\n"
     ]
    },
    {
     "name": "stderr",
     "output_type": "stream",
     "text": [
      "/var/folders/k1/8pz3zwd53cv4xvdj2pstv1440000gn/T/ipykernel_56585/1758887707.py:31: RuntimeWarning: invalid value encountered in cast\n",
      "  v_diag = vpg_fp[\"v\"][y_diagnostic == 1].values.astype(int)\n"
     ]
    },
    {
     "name": "stdout",
     "output_type": "stream",
     "text": [
      "9_BC\n"
     ]
    },
    {
     "name": "stderr",
     "output_type": "stream",
     "text": [
      "/var/folders/k1/8pz3zwd53cv4xvdj2pstv1440000gn/T/ipykernel_56585/1758887707.py:25: RuntimeWarning: invalid value encountered in cast\n",
      "  e_diag = apg_fp[\"e\"][y_diagnostic == 1].values.astype(int)\n",
      "/var/folders/k1/8pz3zwd53cv4xvdj2pstv1440000gn/T/ipykernel_56585/1758887707.py:26: RuntimeWarning: invalid value encountered in cast\n",
      "  a_diag = apg_fp[\"a\"][y_diagnostic == 1].values.astype(int)\n",
      "/var/folders/k1/8pz3zwd53cv4xvdj2pstv1440000gn/T/ipykernel_56585/1758887707.py:27: RuntimeWarning: invalid value encountered in cast\n",
      "  b_diag = apg_fp[\"b\"][y_diagnostic == 1].values.astype(int)\n",
      "/var/folders/k1/8pz3zwd53cv4xvdj2pstv1440000gn/T/ipykernel_56585/1758887707.py:31: RuntimeWarning: invalid value encountered in cast\n",
      "  v_diag = vpg_fp[\"v\"][y_diagnostic == 1].values.astype(int)\n"
     ]
    }
   ],
   "source": [
    "fs = 64\n",
    "for i, sub_ID in enumerate(sub_names): \n",
    "    print(sub_ID)\n",
    "    ppg_path = glob.glob(HOM_path + sub_ID + '/**/BVP.csv', recursive=True)[0]\n",
    "    acc_path = glob.glob(HOM_path + sub_ID + '/**/ACC.csv', recursive=True)[0]\n",
    "    ppg = pd.read_csv(ppg_path, header = None)[2:].to_numpy().squeeze()\n",
    "    acc = pd.read_csv(acc_path, header = None)[2:].to_numpy().squeeze()\n",
    "    y_basic = pd.read_csv(data_path + sub_ID + '/' + '/y_basic.csv', header = None).to_numpy().squeeze()\n",
    "    y_diagnostic = pd.read_csv(data_path + sub_ID + '/' + '/y_diagnostic.csv', header = None).to_numpy().squeeze()\n",
    "    I_foot = pd.read_csv(data_path + sub_ID + '/' + '/I_foot.csv', header=None).to_numpy().squeeze() - 1 # -1 because matlab is 1-indexed\n",
    "    I_peak = pd.read_csv(data_path + sub_ID + '/' + '/I_peak.csv', header=None).to_numpy().squeeze() - 1\n",
    "    if I_peak[0] < I_foot[0]:\n",
    "        I_peak = I_peak[1:]\n",
    "    if I_foot[-1] > I_peak[-1]:\n",
    "        I_foot = I_foot[:-1]\n",
    "    I_peak_diag = I_peak[:-1][y_diagnostic == 1]\n",
    "    start_diag = I_foot[:-1][y_diagnostic == 1]\n",
    "    end_diag = I_foot[1:][y_diagnostic == 1]\n",
    "    diag_pulses = np.sort(np.concatenate((start_diag, end_diag)))\n",
    "    diag_pulses[::2].shape, I_peak_diag.shape\n",
    "\n",
    "    dn = get_dicrotic_notch(ppg, 64, I_peak, list(I_foot))\n",
    "    dn_diag = np.array(dn)[y_diagnostic == 1]\n",
    "    apg_fp = get_apg_fiducials(ppg, list(I_foot), I_peak)\n",
    "    e_diag = apg_fp[\"e\"][y_diagnostic == 1].values.astype(int)\n",
    "    a_diag = apg_fp[\"a\"][y_diagnostic == 1].values.astype(int)\n",
    "    b_diag = apg_fp[\"b\"][y_diagnostic == 1].values.astype(int)\n",
    "\n",
    "    vpg_fp = get_vpg_fiducials(ppg, list(I_foot))\n",
    "    u_diag = vpg_fp[\"u\"][y_diagnostic == 1].values.astype(int)\n",
    "    v_diag = vpg_fp[\"v\"][y_diagnostic == 1].values.astype(int)\n",
    "    dp_diag = get_diastolic_peak(ppg, diag_pulses, dn_diag, e_diag)\n",
    "    fiducials_diag = pd.DataFrame({\"onset\": diag_pulses[::2], \"offset\": diag_pulses[1::2]-1, \"sp\": I_peak_diag, \"dn\": dn_diag, \"dp\": dp_diag, \"u\": u_diag, \"v\": v_diag, \"a\": a_diag, \"b\": b_diag})\n",
    "    fiducials_diag[fiducials_diag < -5000000] = np.nan\n",
    "    fiducials_diag.dropna(inplace=True)\n",
    "    fiducials_diag = fiducials_diag.astype(int)\n",
    "\n",
    "    # plt.figure()\n",
    "    # plt.plot(ppg)\n",
    "    # plt.plot(fiducials_diag[\"dp\"], ppg[fiducials_diag[\"dp\"]], 'k*', markersize=6)\n",
    "    # plt.plot(fiducials_diag[\"dn\"], ppg[fiducials_diag[\"dn\"]], 'g*', markersize=6)\n",
    "    # for j in range(y_diagnostic.shape[0]):\n",
    "    #     if y_diagnostic[j] == 1:\n",
    "    #         plt.plot(np.arange(I_foot[j],I_foot[j+1]), ppg[np.arange(I_foot[j],I_foot[j+1])], 'r')\n",
    "    # ----- Time Intervals -----\n",
    "    # Tpi: time between the pulse onset and offset\n",
    "    # Tsys: time between the pulse onset and dn\n",
    "    # Tdia: time between the dn and pulse offset\n",
    "    # Tsp: time between the pulse onset and sp\n",
    "    # Tdp: time between the pulse onset and dp\n",
    "    # dT: time between sp and dp\n",
    "    Tpi = fiducials_diag[\"offset\"]/fs - fiducials_diag[\"onset\"]/fs\n",
    "    Tsys = fiducials_diag[\"dn\"]/fs - fiducials_diag[\"onset\"]/fs\n",
    "    Tdia = fiducials_diag[\"offset\"]/fs - fiducials_diag[\"dn\"]/fs\n",
    "    Tsp = fiducials_diag[\"sp\"]/fs - fiducials_diag[\"onset\"]/fs\n",
    "    Tdp = fiducials_diag[\"dp\"]/fs - fiducials_diag[\"onset\"]/fs\n",
    "    dT = fiducials_diag[\"dp\"]/fs - fiducials_diag[\"sp\"]/fs\n",
    "\n",
    "    # ---- Amplitudes -----\n",
    "    # Asp: difference in amplitude between onset and sp\n",
    "    # Adn: difference in amplitude between onset and dn\n",
    "    # Adp: difference in amplitude between onset and dp\n",
    "    Asp = ppg[fiducials_diag[\"sp\"]] - ppg[fiducials_diag[\"onset\"]]\n",
    "    Adn = ppg[fiducials_diag[\"dn\"]] - ppg[fiducials_diag[\"onset\"]]\n",
    "    Adp = ppg[fiducials_diag[\"dp\"]] - ppg[fiducials_diag[\"onset\"]]\n",
    "\n",
    "    # ---- Areas -----\n",
    "    # AUCpi: area under the whole pulse (between onset and offset)\n",
    "    # AUCsys: area under pulse wave between onset and dn\n",
    "    # AUCdia: area under pulse wave between dn and offset\n",
    "    AUCpi = np.zeros(len(fiducials_diag))\n",
    "    AUCsys = np.zeros(len(fiducials_diag))\n",
    "    AUCdia = np.zeros(len(fiducials_diag))\n",
    "    for i in range(len(fiducials_diag)):\n",
    "        AUCpi[i] = np.trapz(ppg[fiducials_diag[\"onset\"].iloc[i]:fiducials_diag[\"offset\"].iloc[i]])\n",
    "        AUCsys[i] = np.trapz(ppg[fiducials_diag[\"onset\"].iloc[i]:fiducials_diag[\"dn\"].iloc[i]])\n",
    "        AUCdia[i] = np.trapz(ppg[fiducials_diag[\"dn\"].iloc[i]:fiducials_diag[\"offset\"].iloc[i]])\n",
    "\n",
    "    # ---- Ratios -----\n",
    "    # TsysTdia: ratio between Tsys and Tdia\n",
    "    # TspTpi: ratio between Tsp and Tpi\n",
    "    # AdpAsp: ratio between Adp and Asp --> reflection index! \n",
    "    # IPA: ratio of the area under diastolic curve and the area under systolic curve\n",
    "    # TspAsp: ratio between Tsp and Asp\n",
    "    # AspdT: ratio between Asp and dT --> Stifness index\n",
    "    # AspTpiTsp: ratio between Asp and (Tpi - Tsp)\n",
    "    TsysTdia = Tsys/Tdia\n",
    "    TspTpi = Tsp/Tpi\n",
    "    AdpAsp = Adp/Asp\n",
    "    IPA = AUCdia/AUCsys\n",
    "    TspAsp = Tsp/Asp\n",
    "    AspdT = Asp/dT\n",
    "    AspTpiTsp = Asp/(Tpi - Tsp)\n",
    "\n",
    "    # ---- Derivatives -----\n",
    "    # Tu: time between the pulse onset and u\n",
    "    # Tv: time between the pulse onset and v\n",
    "    # Ta: time between the pulse onset and a\n",
    "    # Tb: time between the pulse onset and b\n",
    "    Tu = fiducials_diag[\"u\"]/fs - fiducials_diag[\"onset\"]/fs\n",
    "    Tv = fiducials_diag[\"v\"]/fs - fiducials_diag[\"onset\"]/fs\n",
    "    Ta = fiducials_diag[\"a\"]/fs - fiducials_diag[\"onset\"]/fs\n",
    "    Tb = fiducials_diag[\"b\"]/fs - fiducials_diag[\"onset\"]/fs\n",
    "\n",
    "    features = pd.DataFrame({\"Tpi\": Tpi, \"Tsys\": Tsys, \"Tdia\": Tdia, \"Tsp\": Tsp, \"Tdp\": Tdp, \"dT\": dT, \"Asp\": Asp, \"Adn\": Adn, \"Adp\": Adp, \"AUCpi\": AUCpi, \"AUCsys\": AUCsys, \"AUCdia\": AUCdia, \"Tsys/Tdia\": TsysTdia, \"Tsp/Tpi\": TspTpi, \"Adp/Asp\": AdpAsp, \"IPA\": IPA, \"Tsp/Asp\": TspAsp, \"Asp/dT\": AspdT, \"Asp/(Tpi-Tsp)\": AspTpiTsp, \"Tu\": Tu, \"Tv\": Tv, \"Ta\": Ta, \"Tb\": Tb})\n",
    "    features.to_csv(data_path + sub_ID + '/' + '/features.csv', index = False)\n",
    "    fiducials_diag.to_csv(data_path + sub_ID + '/' + '/fiducials.csv', index = False)"
   ]
  },
  {
   "cell_type": "code",
   "execution_count": null,
   "metadata": {},
   "outputs": [],
   "source": [
    "plt.close(\"all\")"
   ]
  },
  {
   "cell_type": "code",
   "execution_count": 51,
   "metadata": {},
   "outputs": [],
   "source": [
    "fiducials_diag[fiducials_diag < -5000000] = np.nan\n",
    "fiducials_diag.dropna(inplace=True)"
   ]
  },
  {
   "attachments": {},
   "cell_type": "markdown",
   "metadata": {},
   "source": [
    "## Biomarkers extraction -- 24 hours DiagNew"
   ]
  },
  {
   "cell_type": "code",
   "execution_count": 5,
   "metadata": {},
   "outputs": [
    {
     "data": {
      "text/plain": [
       "39"
      ]
     },
     "execution_count": 5,
     "metadata": {},
     "output_type": "execute_result"
    }
   ],
   "source": [
    "import glob\n",
    "\n",
    "HOM_path = '/Users/marcellosicbaldi/Library/CloudStorage/OneDrive-AlmaMaterStudiorumUniversitàdiBologna/Acq/HOM_mod/'\n",
    "data_path = '/Volumes/Untitled/Hom3ostasis/CinC/Data_24hPulses/mod_newQuality/'\n",
    "sub_names = sorted([f for f in os.listdir(data_path) if not f.startswith('.')])\n",
    "len(sub_names)"
   ]
  },
  {
   "cell_type": "code",
   "execution_count": 38,
   "metadata": {},
   "outputs": [],
   "source": [
    "for i, sub_ID in enumerate(sub_names):\n",
    "    os.mkdir(data_path + sub_ID + '/output_GGIR')"
   ]
  },
  {
   "cell_type": "code",
   "execution_count": 4,
   "metadata": {},
   "outputs": [],
   "source": [
    "from load_utils import load_csv"
   ]
  },
  {
   "cell_type": "code",
   "execution_count": 8,
   "metadata": {},
   "outputs": [
    {
     "name": "stdout",
     "output_type": "stream",
     "text": [
      "7_GM\n"
     ]
    }
   ],
   "source": [
    "fs = 64\n",
    "for i, sub_ID in enumerate(sub_names): \n",
    "    sub_ID = \"7_GM\"\n",
    "    print(sub_ID)\n",
    "    # ppg_path = glob.glob(HOM_path + sub_ID + '/**/BVP.csv', recursive=True)[0]\n",
    "    acc_path = glob.glob(HOM_path + sub_ID + '/**/ACC.csv', recursive=True)[0]\n",
    "\n",
    "    # ppg = pd.read_csv(ppg_path, header = None)#[2:].to_numpy().squeeze()\n",
    "\n",
    "    acc = load_csv(acc_path, E4=True)\n",
    "\n",
    "    acc.to_csv(data_path + sub_ID + '/input_GGIR' + '/acc.csv', index_label=\"time\")\n",
    "    break\n",
    "    # acc = pd.read_csv(acc_path, header = None)[2:].to_numpy().squeeze()\n",
    "    y_basic = pd.read_csv(data_path + sub_ID + '/' + '/y_basic.csv', header = None).to_numpy().squeeze()\n",
    "    y_diagnostic = pd.read_csv(data_path + sub_ID + '/' + '/y_diagnostic.csv', header = None).to_numpy().squeeze()\n",
    "    I_foot = pd.read_csv(data_path + sub_ID + '/' + '/I_foot.csv', header=None).to_numpy().squeeze() - 1 # -1 because matlab is 1-indexed\n",
    "    I_peak = pd.read_csv(data_path + sub_ID + '/' + '/I_peak.csv', header=None).to_numpy().squeeze() - 1\n",
    "    if I_peak[0] < I_foot[0]:\n",
    "        I_peak = I_peak[1:]\n",
    "    if I_foot[-1] > I_peak[-1]:\n",
    "        I_foot = I_foot[:-1]\n",
    "\n",
    "    ppg_pulses = [ppg[I_foot[i]:I_foot[i+1]] for i in range(len(I_foot)-1)]\n",
    "\n",
    "    # Interpolate each pulse to 100 samples with cubic spline\n",
    "    ppg_pulses_interp = [np.interp(np.linspace(0, 1, 100), np.linspace(0, 1, len(pulse)), pulse) for pulse in ppg_pulses]\n",
    "\n",
    "    # Reconstruct the overall ppg using the interpolated pulses\n",
    "    I_foot = np.concatenate([[0], np.cumsum([len(pulse) for pulse in ppg_pulses_interp])])\n",
    "    I_peak = np.array([np.argmax(ppg_pulses_interp[i]) + I_foot[i] for i in range(len(ppg_pulses_interp))])\n",
    "    ppg = np.concatenate(ppg_pulses_interp)\n",
    "\n",
    "    I_peak_diag = I_peak[y_diagnostic == 2]\n",
    "    start_diag = I_foot[:-1][y_diagnostic == 2]\n",
    "    end_diag = I_foot[1:][y_diagnostic == 2]\n",
    "    diag_pulses = np.sort(np.concatenate((start_diag, end_diag)))\n",
    "    diag_pulses[::2].shape, I_peak_diag.shape\n",
    "\n",
    "    dn = get_dicrotic_notch(ppg, 64, I_peak, list(I_foot))\n",
    "    dn_diag = np.array(dn)[y_diagnostic == 2]\n",
    "    apg_fp = get_apg_fiducials(ppg, list(I_foot), I_peak)\n",
    "    e_diag = apg_fp[\"e\"][y_diagnostic == 2].values.astype(int)\n",
    "    a_diag = apg_fp[\"a\"][y_diagnostic == 2].values.astype(int)\n",
    "    b_diag = apg_fp[\"b\"][y_diagnostic == 2].values.astype(int)\n",
    "\n",
    "    vpg_fp = get_vpg_fiducials(ppg, list(I_foot))\n",
    "    u_diag = vpg_fp[\"u\"][y_diagnostic == 2].values.astype(int)\n",
    "    v_diag = vpg_fp[\"v\"][y_diagnostic == 2].values.astype(int)\n",
    "    dp_diag = get_diastolic_peak(ppg, diag_pulses, dn_diag, e_diag)\n",
    "    fiducials_diag = pd.DataFrame({\"onset\": diag_pulses[::2], \"offset\": diag_pulses[1::2]-1, \"sp\": I_peak_diag, \"dn\": dn_diag, \"dp\": dp_diag, \"u\": u_diag, \"v\": v_diag, \"a\": a_diag, \"b\": b_diag})\n",
    "    fiducials_diag[fiducials_diag < -5000000] = np.nan\n",
    "    fiducials_diag.dropna(inplace=True)\n",
    "    fiducials_diag = fiducials_diag.astype(int)\n",
    "\n",
    "    # plt.figure()\n",
    "    # plt.plot(ppg)\n",
    "    # plt.plot(fiducials_diag[\"dp\"], ppg[fiducials_diag[\"dp\"]], 'k*', markersize=6)\n",
    "    # plt.plot(fiducials_diag[\"dn\"], ppg[fiducials_diag[\"dn\"]], 'g*', markersize=6)\n",
    "    # for j in range(y_diagnostic.shape[0]):\n",
    "    #     if y_diagnostic[j] == 1:\n",
    "    #         plt.plot(np.arange(I_foot[j],I_foot[j+1]), ppg[np.arange(I_foot[j],I_foot[j+1])], 'r')\n",
    "    # ----- Time Intervals -----\n",
    "    # Tpi: time between the pulse onset and offset\n",
    "    # Tsys: time between the pulse onset and dn\n",
    "    # Tdia: time between the dn and pulse offset\n",
    "    # Tsp: time between the pulse onset and sp\n",
    "    # Tdp: time between the pulse onset and dp\n",
    "    # dT: time between sp and dp\n",
    "    Tpi = fiducials_diag[\"offset\"] - fiducials_diag[\"onset\"]\n",
    "    Tsys = fiducials_diag[\"dn\"] - fiducials_diag[\"onset\"]\n",
    "    Tdia = fiducials_diag[\"offset\"] - fiducials_diag[\"dn\"]\n",
    "    Tsp = fiducials_diag[\"sp\"] - fiducials_diag[\"onset\"]\n",
    "    Tdp = fiducials_diag[\"dp\"] - fiducials_diag[\"onset\"]\n",
    "    dT = fiducials_diag[\"dp\"] - fiducials_diag[\"sp\"]\n",
    "\n",
    "    # ---- Amplitudes -----\n",
    "    # Asp: difference in amplitude between onset and sp\n",
    "    # Adn: difference in amplitude between onset and dn\n",
    "    # Adp: difference in amplitude between onset and dp\n",
    "    Asp = ppg[fiducials_diag[\"sp\"]] - ppg[fiducials_diag[\"onset\"]]\n",
    "    Adn = ppg[fiducials_diag[\"dn\"]] - ppg[fiducials_diag[\"onset\"]]\n",
    "    Adp = ppg[fiducials_diag[\"dp\"]] - ppg[fiducials_diag[\"onset\"]]\n",
    "\n",
    "    # ---- Areas -----\n",
    "    # AUCpi: area under the whole pulse (between onset and offset)\n",
    "    # AUCsys: area under pulse wave between onset and dn\n",
    "    # AUCdia: area under pulse wave between dn and offset\n",
    "    AUCpi = np.zeros(len(fiducials_diag))\n",
    "    AUCsys = np.zeros(len(fiducials_diag))\n",
    "    AUCdia = np.zeros(len(fiducials_diag))\n",
    "    for i in range(len(fiducials_diag)):\n",
    "        AUCpi[i] = np.trapz(ppg[fiducials_diag[\"onset\"].iloc[i]:fiducials_diag[\"offset\"].iloc[i]])\n",
    "        AUCsys[i] = np.trapz(ppg[fiducials_diag[\"onset\"].iloc[i]:fiducials_diag[\"dn\"].iloc[i]])\n",
    "        AUCdia[i] = np.trapz(ppg[fiducials_diag[\"dn\"].iloc[i]:fiducials_diag[\"offset\"].iloc[i]])\n",
    "\n",
    "    # ---- Ratios -----\n",
    "    # TsysTdia: ratio between Tsys and Tdia\n",
    "    # TspTpi: ratio between Tsp and Tpi\n",
    "    # AdpAsp: ratio between Adp and Asp --> reflection index! \n",
    "    # IPA: ratio of the area under diastolic curve and the area under systolic curve\n",
    "    # TspAsp: ratio between Tsp and Asp\n",
    "    # AspdT: ratio between Asp and dT --> Stifness index\n",
    "    # AspTpiTsp: ratio between Asp and (Tpi - Tsp)\n",
    "    TsysTdia = Tsys/Tdia\n",
    "    TspTpi = Tsp/Tpi\n",
    "    AdpAsp = Adp/Asp\n",
    "    IPA = AUCdia/AUCsys\n",
    "    TspAsp = Tsp/Asp\n",
    "    AspdT = Asp/dT\n",
    "    AspTpiTsp = Asp/(Tpi - Tsp)\n",
    "    Rslope = Asp/Tsys\n",
    "\n",
    "    # ---- Derivatives -----\n",
    "    # Tu: time between the pulse onset and u\n",
    "    # Tv: time between the pulse onset and v\n",
    "    # Ta: time between the pulse onset and a\n",
    "    # Tb: time between the pulse onset and b\n",
    "    Tu = fiducials_diag[\"u\"] - fiducials_diag[\"onset\"]\n",
    "    Tv = fiducials_diag[\"v\"] - fiducials_diag[\"onset\"]\n",
    "    Ta = fiducials_diag[\"a\"] - fiducials_diag[\"onset\"]\n",
    "    Tb = fiducials_diag[\"b\"] - fiducials_diag[\"onset\"]\n",
    "\n",
    "    features = pd.DataFrame({\"Tpi\": Tpi, \"Tsys\": Tsys, \"Tdia\": Tdia, \"Tsp\": Tsp, \"Tdp\": Tdp, \"dT\": dT, \"Asp\": Asp, \"Adn\": Adn, \"Adp\": Adp, \"AUCpi\": AUCpi, \"AUCsys\": AUCsys, \"AUCdia\": AUCdia, \"Tsys/Tdia\": TsysTdia, \"Tsp/Tpi\": TspTpi, \"Adp/Asp\": AdpAsp, \"IPA\": IPA, \"Tsp/Asp\": TspAsp, \"Asp/dT\": AspdT, \"Asp/(Tpi-Tsp)\": AspTpiTsp, \"Rslope\": Rslope, \"Tu\": Tu, \"Tv\": Tv, \"Ta\": Ta, \"Tb\": Tb})\n",
    "    features.to_csv(data_path + sub_ID + '/' + '/features.csv', index = False)\n",
    "    fiducials_diag.to_csv(data_path + sub_ID + '/' + '/fiducials.csv', index = False)"
   ]
  },
  {
   "attachments": {},
   "cell_type": "markdown",
   "metadata": {},
   "source": [
    "## Biomarkers extraction -- 24 Hours Diag Old Yes Int"
   ]
  },
  {
   "cell_type": "code",
   "execution_count": 12,
   "metadata": {},
   "outputs": [],
   "source": [
    "import glob"
   ]
  },
  {
   "cell_type": "code",
   "execution_count": 13,
   "metadata": {},
   "outputs": [
    {
     "data": {
      "text/plain": [
       "39"
      ]
     },
     "execution_count": 13,
     "metadata": {},
     "output_type": "execute_result"
    }
   ],
   "source": [
    "HOM_path = '/Users/marcellosicbaldi/Library/CloudStorage/OneDrive-AlmaMaterStudiorumUniversitàdiBologna/Acq/HOM_mod/'\n",
    "data_path = '/Volumes/Untitled/Hom3ostasis/CinC/Data_24hPulses/mod_oldQuality/'\n",
    "sub_names = sorted([f for f in os.listdir(HOM_path) if not f.startswith('.')])\n",
    "len(sub_names)"
   ]
  },
  {
   "cell_type": "code",
   "execution_count": 14,
   "metadata": {},
   "outputs": [
    {
     "name": "stdout",
     "output_type": "stream",
     "text": [
      "12_FN\n"
     ]
    }
   ],
   "source": [
    "fs = 64\n",
    "for i, sub_ID in enumerate(sub_names): \n",
    "    sub_ID = \"12_FN\"\n",
    "    print(sub_ID)\n",
    "    ppg_path = glob.glob(HOM_path + sub_ID + '/**/BVP.csv', recursive=True)[0]\n",
    "    # acc_path = glob.glob(HOM_path + sub_ID + '/**/ACC.csv', recursive=True)[0]\n",
    "    ppg_data = pd.read_csv(ppg_path, header = None)#[2:].to_numpy().squeeze()\n",
    "    break\n",
    "    # acc = pd.read_csv(acc_path, header = None)[2:].to_numpy().squeeze()\n",
    "    y_basic = pd.read_csv(data_path + sub_ID + '/' + '/y_basic.csv', header = None).to_numpy().squeeze()\n",
    "    y_diagnostic = pd.read_csv(data_path + sub_ID + '/' + '/y_diagnostic.csv', header = None).to_numpy().squeeze()\n",
    "    I_foot = pd.read_csv(data_path + sub_ID + '/' + '/I_foot.csv', header=None).to_numpy().squeeze() - 1 # -1 because matlab is 1-indexed\n",
    "    I_peak = pd.read_csv(data_path + sub_ID + '/' + '/I_peak.csv', header=None).to_numpy().squeeze() - 1\n",
    "    if I_peak[0] < I_foot[0]:\n",
    "        I_peak = I_peak[1:]\n",
    "    if I_foot[-1] > I_peak[-1]:\n",
    "        I_foot = I_foot[:-1]\n",
    "\n",
    "    ppg_pulses = [ppg[I_foot[i]:I_foot[i+1]] for i in range(len(I_foot)-1)]\n",
    "\n",
    "    # Interpolate each pulse to 100 samples with cubic spline\n",
    "    ppg_pulses_interp = [np.interp(np.linspace(0, 1, 100), np.linspace(0, 1, len(pulse)), pulse) for pulse in ppg_pulses]\n",
    "\n",
    "    # Reconstruct the overall ppg using the interpolated pulses\n",
    "    I_foot = np.concatenate([[0], np.cumsum([len(pulse) for pulse in ppg_pulses_interp])])\n",
    "    I_peak = np.array([np.argmax(ppg_pulses_interp[i]) + I_foot[i] for i in range(len(ppg_pulses_interp))])\n",
    "    ppg = np.concatenate(ppg_pulses_interp)\n",
    "\n",
    "    I_peak_diag = I_peak[y_diagnostic == 1]\n",
    "    start_diag = I_foot[:-1][y_diagnostic == 1]\n",
    "    end_diag = I_foot[1:][y_diagnostic == 1]\n",
    "    diag_pulses = np.sort(np.concatenate((start_diag, end_diag)))\n",
    "    diag_pulses[::2].shape, I_peak_diag.shape\n",
    "\n",
    "    dn = get_dicrotic_notch(ppg, 64, I_peak, list(I_foot))\n",
    "    dn_diag = np.array(dn)[y_diagnostic == 1]\n",
    "    apg_fp = get_apg_fiducials(ppg, list(I_foot), I_peak)\n",
    "    e_diag = apg_fp[\"e\"][y_diagnostic == 1].values.astype(int)\n",
    "    a_diag = apg_fp[\"a\"][y_diagnostic == 1].values.astype(int)\n",
    "    b_diag = apg_fp[\"b\"][y_diagnostic == 1].values.astype(int)\n",
    "\n",
    "    vpg_fp = get_vpg_fiducials(ppg, list(I_foot))\n",
    "    u_diag = vpg_fp[\"u\"][y_diagnostic == 1].values.astype(int)\n",
    "    v_diag = vpg_fp[\"v\"][y_diagnostic == 1].values.astype(int)\n",
    "    dp_diag = get_diastolic_peak(ppg, diag_pulses, dn_diag, e_diag)\n",
    "    fiducials_diag = pd.DataFrame({\"onset\": diag_pulses[::2], \"offset\": diag_pulses[1::2]-1, \"sp\": I_peak_diag, \"dn\": dn_diag, \"dp\": dp_diag, \"u\": u_diag, \"v\": v_diag, \"a\": a_diag, \"b\": b_diag})\n",
    "    fiducials_diag[fiducials_diag < -5000000] = np.nan\n",
    "    fiducials_diag.dropna(inplace=True)\n",
    "    fiducials_diag = fiducials_diag.astype(int)\n",
    "\n",
    "    # plt.figure()\n",
    "    # plt.plot(ppg)\n",
    "    # plt.plot(fiducials_diag[\"dp\"], ppg[fiducials_diag[\"dp\"]], 'k*', markersize=6)\n",
    "    # plt.plot(fiducials_diag[\"dn\"], ppg[fiducials_diag[\"dn\"]], 'g*', markersize=6)\n",
    "    # for j in range(y_diagnostic.shape[0]):\n",
    "    #     if y_diagnostic[j] == 1:\n",
    "    #         plt.plot(np.arange(I_foot[j],I_foot[j+1]), ppg[np.arange(I_foot[j],I_foot[j+1])], 'r')\n",
    "    # ----- Time Intervals -----\n",
    "    # Tpi: time between the pulse onset and offset\n",
    "    # Tsys: time between the pulse onset and dn\n",
    "    # Tdia: time between the dn and pulse offset\n",
    "    # Tsp: time between the pulse onset and sp\n",
    "    # Tdp: time between the pulse onset and dp\n",
    "    # dT: time between sp and dp\n",
    "    Tpi = fiducials_diag[\"offset\"] - fiducials_diag[\"onset\"]\n",
    "    Tsys = fiducials_diag[\"dn\"] - fiducials_diag[\"onset\"]\n",
    "    Tdia = fiducials_diag[\"offset\"] - fiducials_diag[\"dn\"]\n",
    "    Tsp = fiducials_diag[\"sp\"] - fiducials_diag[\"onset\"]\n",
    "    Tdp = fiducials_diag[\"dp\"] - fiducials_diag[\"onset\"]\n",
    "    dT = fiducials_diag[\"dp\"] - fiducials_diag[\"sp\"]\n",
    "\n",
    "    # ---- Amplitudes -----\n",
    "    # Asp: difference in amplitude between onset and sp\n",
    "    # Adn: difference in amplitude between onset and dn\n",
    "    # Adp: difference in amplitude between onset and dp\n",
    "    Asp = ppg[fiducials_diag[\"sp\"]] - ppg[fiducials_diag[\"onset\"]]\n",
    "    Adn = ppg[fiducials_diag[\"dn\"]] - ppg[fiducials_diag[\"onset\"]]\n",
    "    Adp = ppg[fiducials_diag[\"dp\"]] - ppg[fiducials_diag[\"onset\"]]\n",
    "\n",
    "    # ---- Areas -----\n",
    "    # AUCpi: area under the whole pulse (between onset and offset)\n",
    "    # AUCsys: area under pulse wave between onset and dn\n",
    "    # AUCdia: area under pulse wave between dn and offset\n",
    "    AUCpi = np.zeros(len(fiducials_diag))\n",
    "    AUCsys = np.zeros(len(fiducials_diag))\n",
    "    AUCdia = np.zeros(len(fiducials_diag))\n",
    "    for i in range(len(fiducials_diag)):\n",
    "        AUCpi[i] = np.trapz(ppg[fiducials_diag[\"onset\"].iloc[i]:fiducials_diag[\"offset\"].iloc[i]])\n",
    "        AUCsys[i] = np.trapz(ppg[fiducials_diag[\"onset\"].iloc[i]:fiducials_diag[\"dn\"].iloc[i]])\n",
    "        AUCdia[i] = np.trapz(ppg[fiducials_diag[\"dn\"].iloc[i]:fiducials_diag[\"offset\"].iloc[i]])\n",
    "\n",
    "    # ---- Ratios -----\n",
    "    # TsysTdia: ratio between Tsys and Tdia\n",
    "    # TspTpi: ratio between Tsp and Tpi\n",
    "    # AdpAsp: ratio between Adp and Asp --> reflection index! \n",
    "    # IPA: ratio of the area under diastolic curve and the area under systolic curve\n",
    "    # TspAsp: ratio between Tsp and Asp\n",
    "    # AspdT: ratio between Asp and dT --> Stifness index\n",
    "    # AspTpiTsp: ratio between Asp and (Tpi - Tsp)\n",
    "    TsysTdia = Tsys/Tdia\n",
    "    TspTpi = Tsp/Tpi\n",
    "    AdpAsp = Adp/Asp\n",
    "    IPA = AUCdia/AUCsys\n",
    "    TspAsp = Tsp/Asp\n",
    "    AspdT = Asp/dT\n",
    "    AspTpiTsp = Asp/(Tpi - Tsp)\n",
    "    Rslope = Asp/Tsys\n",
    "\n",
    "    # ---- Derivatives -----\n",
    "    # Tu: time between the pulse onset and u\n",
    "    # Tv: time between the pulse onset and v\n",
    "    # Ta: time between the pulse onset and a\n",
    "    # Tb: time between the pulse onset and b\n",
    "    Tu = fiducials_diag[\"u\"] - fiducials_diag[\"onset\"]\n",
    "    Tv = fiducials_diag[\"v\"] - fiducials_diag[\"onset\"]\n",
    "    Ta = fiducials_diag[\"a\"] - fiducials_diag[\"onset\"]\n",
    "    Tb = fiducials_diag[\"b\"] - fiducials_diag[\"onset\"]\n",
    "\n",
    "    features = pd.DataFrame({\"Tpi\": Tpi, \"Tsys\": Tsys, \"Tdia\": Tdia, \"Tsp\": Tsp, \"Tdp\": Tdp, \"dT\": dT, \"Asp\": Asp, \"Adn\": Adn, \"Adp\": Adp, \"AUCpi\": AUCpi, \"AUCsys\": AUCsys, \"AUCdia\": AUCdia, \"Tsys/Tdia\": TsysTdia, \"Tsp/Tpi\": TspTpi, \"Adp/Asp\": AdpAsp, \"IPA\": IPA, \"Tsp/Asp\": TspAsp, \"Asp/dT\": AspdT, \"Asp/(Tpi-Tsp)\": AspTpiTsp, \"Rslope\": Rslope, \"Tu\": Tu, \"Tv\": Tv, \"Ta\": Ta, \"Tb\": Tb})\n",
    "    features.to_csv(data_path + sub_ID + '/' + '/features.csv', index = False)\n",
    "    fiducials_diag.to_csv(data_path + sub_ID + '/' + '/fiducials.csv', index = False)"
   ]
  },
  {
   "cell_type": "code",
   "execution_count": 12,
   "metadata": {},
   "outputs": [
    {
     "data": {
      "text/plain": [
       "0   2019-11-27 09:27:00\n",
       "Name: 0, dtype: datetime64[ns]"
      ]
     },
     "execution_count": 12,
     "metadata": {},
     "output_type": "execute_result"
    }
   ],
   "source": [
    "pd.to_datetime(ppg.iloc[0], unit='s')"
   ]
  },
  {
   "attachments": {},
   "cell_type": "markdown",
   "metadata": {},
   "source": [
    "## Biomarkers extraction -- Baseline"
   ]
  },
  {
   "cell_type": "code",
   "execution_count": 3,
   "metadata": {},
   "outputs": [],
   "source": [
    "import glob\n",
    "import os"
   ]
  },
  {
   "cell_type": "code",
   "execution_count": 20,
   "metadata": {},
   "outputs": [
    {
     "data": {
      "text/plain": [
       "39"
      ]
     },
     "execution_count": 20,
     "metadata": {},
     "output_type": "execute_result"
    }
   ],
   "source": [
    "HOM_path = \"/Users/marcellosicbaldi/Library/CloudStorage/OneDrive-AlmaMaterStudiorumUniversitàdiBologna/Acq/NewAnalysis2023/Data/baselineExcept1st5/\"\n",
    "data_path = '/Users/marcellosicbaldi/Library/CloudStorage/OneDrive-AlmaMaterStudiorumUniversitàdiBologna/Acq/NewAnalysis2023/CinC/Data_24hPulses/baseline/'\n",
    "sub_names = sorted([f for f in os.listdir(HOM_path) if not f.startswith('.')])\n",
    "len(sub_names)"
   ]
  },
  {
   "cell_type": "code",
   "execution_count": 15,
   "metadata": {},
   "outputs": [
    {
     "data": {
      "text/plain": [
       "[<matplotlib.lines.Line2D at 0x7fe7bb4c9990>]"
      ]
     },
     "execution_count": 15,
     "metadata": {},
     "output_type": "execute_result"
    }
   ],
   "source": [
    "plt.figure()\n",
    "plt.plot(ppg)"
   ]
  },
  {
   "cell_type": "code",
   "execution_count": 15,
   "metadata": {},
   "outputs": [],
   "source": [
    "output_path = \"/Volumes/Untitled/Hom3ostasis/CinC/Data_lab/baseline/\""
   ]
  },
  {
   "cell_type": "code",
   "execution_count": 24,
   "metadata": {},
   "outputs": [
    {
     "data": {
      "text/plain": [
       "0    1.573819e+09\n",
       "Name: 1, dtype: float64"
      ]
     },
     "execution_count": 24,
     "metadata": {},
     "output_type": "execute_result"
    }
   ],
   "source": []
  },
  {
   "cell_type": "code",
   "execution_count": 25,
   "metadata": {},
   "outputs": [
    {
     "name": "stdout",
     "output_type": "stream",
     "text": [
      "10_AC\n",
      "0   2019-11-19 10:21:43.059999943\n",
      "Name: 1, dtype: datetime64[ns]\n",
      "11_EC\n",
      "0   2019-11-21 10:23:07.529999970\n",
      "Name: 1, dtype: datetime64[ns]\n",
      "12_FN\n",
      "0   2019-11-27 09:27:54.920000076\n",
      "Name: 1, dtype: datetime64[ns]\n",
      "13_MS\n",
      "0   2019-11-28 10:13:23.109999895\n",
      "Name: 1, dtype: datetime64[ns]\n",
      "14_AD\n",
      "0   2019-12-06 09:23:03.900000095\n",
      "Name: 1, dtype: datetime64[ns]\n",
      "15_ER\n",
      "0   2019-12-06 10:19:40.829999924\n",
      "Name: 1, dtype: datetime64[ns]\n",
      "16_PD\n",
      "0   2019-12-11 11:45:56.299999952\n",
      "Name: 1, dtype: datetime64[ns]\n",
      "17_EG\n",
      "0   2019-12-12 10:14:21.410000086\n",
      "Name: 1, dtype: datetime64[ns]\n",
      "18_MV\n",
      "0   2019-12-12 11:16:52.049999952\n",
      "Name: 1, dtype: datetime64[ns]\n",
      "19_FI\n",
      "0   2019-12-18 11:18:23.900000095\n",
      "Name: 1, dtype: datetime64[ns]\n",
      "1_ID\n",
      "0   2021-09-30 07:35:28.220000029\n",
      "Name: 1, dtype: datetime64[ns]\n",
      "20_AC\n",
      "0   2019-12-19 11:24:13.650000095\n",
      "Name: 1, dtype: datetime64[ns]\n",
      "21_CK\n",
      "0   2020-07-23 09:25:56.859999895\n",
      "Name: 1, dtype: datetime64[ns]\n",
      "22_CM\n",
      "0   2020-08-05 09:03:49.950000048\n",
      "Name: 1, dtype: datetime64[ns]\n",
      "23_PP\n",
      "0   2020-10-02 07:33:48.809999943\n",
      "Name: 1, dtype: datetime64[ns]\n",
      "24_SM\n",
      "0   2020-10-06 07:37:41.609999895\n",
      "Name: 1, dtype: datetime64[ns]\n",
      "25_LP\n",
      "0   2020-10-06 08:53:39.950000048\n",
      "Name: 1, dtype: datetime64[ns]\n",
      "26_CB\n",
      "0   2020-10-07 11:39:06.089999914\n",
      "Name: 1, dtype: datetime64[ns]\n",
      "27_CM\n",
      "0   2020-10-08 10:19:15.799999952\n",
      "Name: 1, dtype: datetime64[ns]\n",
      "28_GM\n",
      "0   2020-10-09 08:28:09.329999924\n",
      "Name: 1, dtype: datetime64[ns]\n",
      "29_LT\n",
      "0   2020-11-05 10:12:54.380000114\n",
      "Name: 1, dtype: datetime64[ns]\n",
      "30_LN\n",
      "0   2021-03-11 10:18:59.640000105\n",
      "Name: 1, dtype: datetime64[ns]\n",
      "31_FB\n",
      "0   2021-08-04 06:35:57.309999943\n",
      "Name: 1, dtype: datetime64[ns]\n",
      "32_CD\n",
      "0   2021-08-05 07:50:02.049999952\n",
      "Name: 1, dtype: datetime64[ns]\n",
      "33_NM\n",
      "0   2021-08-06 06:57:43.769999981\n",
      "Name: 1, dtype: datetime64[ns]\n",
      "34_AS\n",
      "0   2021-10-07 12:07:07.769999981\n",
      "Name: 1, dtype: datetime64[ns]\n",
      "35_AA\n",
      "0   2021-10-07 13:38:31.170000076\n",
      "Name: 1, dtype: datetime64[ns]\n",
      "36_GS\n",
      "0   2021-10-08 13:09:44.660000086\n",
      "Name: 1, dtype: datetime64[ns]\n",
      "37_IC\n",
      "0   2021-10-21 07:22:29.730000019\n",
      "Name: 1, dtype: datetime64[ns]\n",
      "38_GC\n",
      "0   2021-10-25 08:01:23.279999971\n",
      "Name: 1, dtype: datetime64[ns]\n",
      "39_NB\n",
      "0   2021-10-25 08:52:01.750\n",
      "Name: 1, dtype: datetime64[ns]\n",
      "3_JF\n",
      "0   2021-10-14 12:52:07.190000057\n",
      "Name: 1, dtype: datetime64[ns]\n",
      "40_SQ\n",
      "0   2021-10-26 13:49:17.109999895\n",
      "Name: 1, dtype: datetime64[ns]\n",
      "4_MF\n",
      "0   2021-01-25 11:48:34.730000019\n",
      "Name: 1, dtype: datetime64[ns]\n",
      "5_PD\n",
      "0   2021-01-15 12:57:33.920000076\n",
      "Name: 1, dtype: datetime64[ns]\n",
      "6_SS\n",
      "0   2019-10-01 09:28:18.119999886\n",
      "Name: 1, dtype: datetime64[ns]\n",
      "7_GM\n",
      "0   2019-11-13 07:46:57.200000048\n",
      "Name: 1, dtype: datetime64[ns]\n",
      "8_MB\n",
      "0   2019-11-14 10:44:25.160000086\n",
      "Name: 1, dtype: datetime64[ns]\n",
      "9_BC\n",
      "0   2019-11-15 11:58:35.599999905\n",
      "Name: 1, dtype: datetime64[ns]\n"
     ]
    }
   ],
   "source": [
    "fs = 64\n",
    "for i, sub_ID in enumerate(sub_names): \n",
    "    print(sub_ID)\n",
    "    ppg_path = HOM_path + sub_ID + \"/Standard/ppg_data.csv\"\n",
    "    # acc_path = glob.glob(HOM_path + sub_ID + '/**/ACC.csv', recursive=True)[0]\n",
    "    ppg = pd.read_csv(ppg_path, header = None)#[2:].to_numpy().squeeze()\n",
    "\n",
    "    # acc = pd.read_csv(acc_path, header = None)[2:].to_numpy().squeeze()\n",
    "    y_basic = pd.read_csv(HOM_path + sub_ID + \"/Standard/y_basic.csv\", header = None).to_numpy().squeeze()\n",
    "    y_diagnostic = pd.read_csv(HOM_path + sub_ID + \"/Standard/y_diagnostic.csv\", header = None).to_numpy().squeeze()\n",
    "    I_foot = pd.read_csv(HOM_path + sub_ID + \"/Standard/I_foot.csv\", header=None).to_numpy().squeeze() - 1 # -1 because matlab is 1-indexed\n",
    "    I_peak = pd.read_csv(HOM_path + sub_ID + \"/Standard/I_peak.csv\", header=None).to_numpy().squeeze() - 1\n",
    "\n",
    "    if I_peak[0] < I_foot[0]:\n",
    "        I_peak = I_peak[1:]\n",
    "    if I_foot[-1] > I_peak[-1]:\n",
    "        I_foot = I_foot[:-1]\n",
    "\n",
    "    ppg_pulses = [ppg[I_foot[i]:I_foot[i+1]] for i in range(len(I_foot)-1)]\n",
    "\n",
    "    # Interpolate each pulse to 100 samples with cubic spline\n",
    "    ppg_pulses_interp = [np.interp(np.linspace(0, 1, 100), np.linspace(0, 1, len(pulse)), pulse) for pulse in ppg_pulses]\n",
    "\n",
    "    # Reconstruct the overall ppg using the interpolated pulses\n",
    "    I_foot = np.concatenate([[0], np.cumsum([len(pulse) for pulse in ppg_pulses_interp])])\n",
    "    I_peak = np.array([np.argmax(ppg_pulses_interp[i]) + I_foot[i] for i in range(len(ppg_pulses_interp))])\n",
    "    ppg = np.concatenate(ppg_pulses_interp)\n",
    "\n",
    "    I_peak_diag = I_peak[y_basic == 1]\n",
    "    start_diag = I_foot[:-1][y_basic == 1]\n",
    "    end_diag = I_foot[1:][y_basic == 1]\n",
    "    diag_pulses = np.sort(np.concatenate((start_diag, end_diag)))\n",
    "    diag_pulses[::2].shape, I_peak_diag.shape\n",
    "\n",
    "    dn = get_dicrotic_notch(ppg, 64, I_peak, list(I_foot))\n",
    "    dn_diag = np.array(dn)[y_basic == 1]\n",
    "    apg_fp = get_apg_fiducials(ppg, list(I_foot), I_peak)\n",
    "    e_diag = apg_fp[\"e\"][y_basic == 1].values.astype(int)\n",
    "    a_diag = apg_fp[\"a\"][y_basic == 1].values.astype(int)\n",
    "    b_diag = apg_fp[\"b\"][y_basic == 1].values.astype(int)\n",
    "\n",
    "    vpg_fp = get_vpg_fiducials(ppg, list(I_foot))\n",
    "    u_diag = vpg_fp[\"u\"][y_basic == 1].values.astype(int)\n",
    "    v_diag = vpg_fp[\"v\"][y_basic == 1].values.astype(int)\n",
    "    dp_diag = get_diastolic_peak(ppg, diag_pulses, dn_diag, e_diag)\n",
    "    fiducials_diag = pd.DataFrame({\"onset\": diag_pulses[::2], \"offset\": diag_pulses[1::2]-1, \"sp\": I_peak_diag, \"dn\": dn_diag, \"dp\": dp_diag, \"u\": u_diag, \"v\": v_diag, \"a\": a_diag, \"b\": b_diag})\n",
    "    fiducials_diag[fiducials_diag < -5000000] = np.nan\n",
    "    fiducials_diag.dropna(inplace=True)\n",
    "    fiducials_diag = fiducials_diag.astype(int)\n",
    "\n",
    "    # plt.figure()\n",
    "    # plt.plot(ppg)\n",
    "    # plt.plot(fiducials_diag[\"dp\"], ppg[fiducials_diag[\"dp\"]], 'k*', markersize=6)\n",
    "    # plt.plot(fiducials_diag[\"dn\"], ppg[fiducials_diag[\"dn\"]], 'g*', markersize=6)\n",
    "    # for j in range(y_basic.shape[0]):\n",
    "    #     if y_basic[j] == 1:\n",
    "    #         plt.plot(np.arange(I_foot[j],I_foot[j+1]), ppg[np.arange(I_foot[j],I_foot[j+1])], 'r')\n",
    "\n",
    "    # break\n",
    "    # ----- Time Intervals -----\n",
    "    # Tpi: time between the pulse onset and offset\n",
    "    # Tsys: time between the pulse onset and dn\n",
    "    # Tdia: time between the dn and pulse offset\n",
    "    # Tsp: time between the pulse onset and sp\n",
    "    # Tdp: time between the pulse onset and dp\n",
    "    # dT: time between sp and dp\n",
    "    Tpi = fiducials_diag[\"offset\"] - fiducials_diag[\"onset\"]\n",
    "    Tsys = fiducials_diag[\"dn\"] - fiducials_diag[\"onset\"]\n",
    "    Tdia = fiducials_diag[\"offset\"] - fiducials_diag[\"dn\"]\n",
    "    Tsp = fiducials_diag[\"sp\"] - fiducials_diag[\"onset\"]\n",
    "    Tdp = fiducials_diag[\"dp\"] - fiducials_diag[\"onset\"]\n",
    "    dT = fiducials_diag[\"dp\"] - fiducials_diag[\"sp\"]\n",
    "\n",
    "    # ---- Amplitudes -----\n",
    "    # Asp: difference in amplitude between onset and sp\n",
    "    # Adn: difference in amplitude between onset and dn\n",
    "    # Adp: difference in amplitude between onset and dp\n",
    "    Asp = ppg[fiducials_diag[\"sp\"]] - ppg[fiducials_diag[\"onset\"]]\n",
    "    Adn = ppg[fiducials_diag[\"dn\"]] - ppg[fiducials_diag[\"onset\"]]\n",
    "    Adp = ppg[fiducials_diag[\"dp\"]] - ppg[fiducials_diag[\"onset\"]]\n",
    "\n",
    "    # ---- Areas -----\n",
    "    # AUCpi: area under the whole pulse (between onset and offset)\n",
    "    # AUCsys: area under pulse wave between onset and dn\n",
    "    # AUCdia: area under pulse wave between dn and offset\n",
    "    AUCpi = np.zeros(len(fiducials_diag))\n",
    "    AUCsys = np.zeros(len(fiducials_diag))\n",
    "    AUCdia = np.zeros(len(fiducials_diag))\n",
    "    for i in range(len(fiducials_diag)):\n",
    "        AUCpi[i] = np.trapz(ppg[fiducials_diag[\"onset\"].iloc[i]:fiducials_diag[\"offset\"].iloc[i]])\n",
    "        AUCsys[i] = np.trapz(ppg[fiducials_diag[\"onset\"].iloc[i]:fiducials_diag[\"dn\"].iloc[i]])\n",
    "        AUCdia[i] = np.trapz(ppg[fiducials_diag[\"dn\"].iloc[i]:fiducials_diag[\"offset\"].iloc[i]])\n",
    "\n",
    "    # ---- Ratios -----\n",
    "    # TsysTdia: ratio between Tsys and Tdia\n",
    "    # TspTpi: ratio between Tsp and Tpi\n",
    "    # AdpAsp: ratio between Adp and Asp --> reflection index! \n",
    "    # IPA: ratio of the area under diastolic curve and the area under systolic curve\n",
    "    # TspAsp: ratio between Tsp and Asp\n",
    "    # AspdT: ratio between Asp and dT --> Stiffness index\n",
    "    # AspTpiTsp: ratio between Asp and (Tpi - Tsp)\n",
    "    # Rslope: ratio between Asp and Tsys\n",
    "    TsysTdia = Tsys/Tdia\n",
    "    TspTpi = Tsp/Tpi\n",
    "    AdpAsp = Adp/Asp\n",
    "    IPA = AUCdia/AUCsys\n",
    "    TspAsp = Tsp/Asp\n",
    "    AspdT = Asp/dT\n",
    "    AspTpiTsp = Asp/(Tpi - Tsp)\n",
    "    Rslope = Asp/Tsys\n",
    "\n",
    "    # ---- Derivatives -----\n",
    "    # Tu: time between the pulse onset and u\n",
    "    # Tv: time between the pulse onset and v\n",
    "    # Ta: time between the pulse onset and a\n",
    "    # Tb: time between the pulse onset and b\n",
    "    Tu = fiducials_diag[\"u\"] - fiducials_diag[\"onset\"]\n",
    "    Tv = fiducials_diag[\"v\"] - fiducials_diag[\"onset\"]\n",
    "    Ta = fiducials_diag[\"a\"] - fiducials_diag[\"onset\"]\n",
    "    Tb = fiducials_diag[\"b\"] - fiducials_diag[\"onset\"]\n",
    "\n",
    "    features = pd.DataFrame({\"Tpi\": Tpi, \"Tsys\": Tsys, \"Tdia\": Tdia, \"Tsp\": Tsp, \"Tdp\": Tdp, \"dT\": dT, \"Asp\": Asp, \"Adn\": Adn, \"Adp\": Adp, \"AUCpi\": AUCpi, \"AUCsys\": AUCsys, \"AUCdia\": AUCdia, \"Tsys/Tdia\": TsysTdia, \"Tsp/Tpi\": TspTpi, \"Adp/Asp\": AdpAsp, \"IPA\": IPA, \"Tsp/Asp\": TspAsp, \"Asp/dT\": AspdT, \"Asp/(Tpi-Tsp)\": AspTpiTsp, \"Rslope\": Rslope, \"Tu\": Tu, \"Tv\": Tv, \"Ta\": Ta, \"Tb\": Tb})\n",
    "    features.to_csv(output_path + sub_ID + '/' + '/features_norm.csv', index = False)\n",
    "    fiducials_diag.to_csv(output_path + sub_ID + '/' + '/fiducials_norm.csv', index = False)"
   ]
  },
  {
   "cell_type": "code",
   "execution_count": 8,
   "metadata": {},
   "outputs": [
    {
     "data": {
      "text/plain": [
       "((215,), (216,), (215,))"
      ]
     },
     "execution_count": 8,
     "metadata": {},
     "output_type": "execute_result"
    }
   ],
   "source": [
    "I_peak.shape, I_foot.shape, y_basic.shape"
   ]
  },
  {
   "cell_type": "code",
   "execution_count": null,
   "metadata": {},
   "outputs": [
    {
     "data": {
      "text/plain": [
       "39"
      ]
     },
     "metadata": {},
     "output_type": "display_data"
    }
   ],
   "source": [
    "HOM_path = '/Users/marcellosicbaldi/Library/CloudStorage/OneDrive-AlmaMaterStudiorumUniversitàdiBologna/Acq/HOM2/'\n",
    "data_path = '/Users/marcellosicbaldi/Library/CloudStorage/OneDrive-AlmaMaterStudiorumUniversitàdiBologna/Acq/NewAnalysis2023/CinC/Data_24hPulses/followup/'\n",
    "sub_names = sorted([f for f in os.listdir(data_path) if not f.startswith('.')])\n",
    "len(sub_names)"
   ]
  },
  {
   "cell_type": "code",
   "execution_count": null,
   "metadata": {},
   "outputs": [
    {
     "name": "stdout",
     "output_type": "stream",
     "text": [
      "10_AC\n",
      "11_EC\n",
      "12_FN\n"
     ]
    },
    {
     "name": "stderr",
     "output_type": "stream",
     "text": [
      "/var/folders/k1/8pz3zwd53cv4xvdj2pstv1440000gn/T/ipykernel_56585/1758887707.py:25: RuntimeWarning: invalid value encountered in cast\n",
      "  e_diag = apg_fp[\"e\"][y_diagnostic == 1].values.astype(int)\n",
      "/var/folders/k1/8pz3zwd53cv4xvdj2pstv1440000gn/T/ipykernel_56585/1758887707.py:26: RuntimeWarning: invalid value encountered in cast\n",
      "  a_diag = apg_fp[\"a\"][y_diagnostic == 1].values.astype(int)\n",
      "/var/folders/k1/8pz3zwd53cv4xvdj2pstv1440000gn/T/ipykernel_56585/1758887707.py:27: RuntimeWarning: invalid value encountered in cast\n",
      "  b_diag = apg_fp[\"b\"][y_diagnostic == 1].values.astype(int)\n",
      "/var/folders/k1/8pz3zwd53cv4xvdj2pstv1440000gn/T/ipykernel_56585/1758887707.py:31: RuntimeWarning: invalid value encountered in cast\n",
      "  v_diag = vpg_fp[\"v\"][y_diagnostic == 1].values.astype(int)\n"
     ]
    },
    {
     "name": "stdout",
     "output_type": "stream",
     "text": [
      "13_MS\n"
     ]
    },
    {
     "name": "stderr",
     "output_type": "stream",
     "text": [
      "/var/folders/k1/8pz3zwd53cv4xvdj2pstv1440000gn/T/ipykernel_56585/1758887707.py:31: RuntimeWarning: invalid value encountered in cast\n",
      "  v_diag = vpg_fp[\"v\"][y_diagnostic == 1].values.astype(int)\n"
     ]
    },
    {
     "name": "stdout",
     "output_type": "stream",
     "text": [
      "14_AD\n",
      "15_ER\n"
     ]
    },
    {
     "name": "stderr",
     "output_type": "stream",
     "text": [
      "/var/folders/k1/8pz3zwd53cv4xvdj2pstv1440000gn/T/ipykernel_56585/1758887707.py:31: RuntimeWarning: invalid value encountered in cast\n",
      "  v_diag = vpg_fp[\"v\"][y_diagnostic == 1].values.astype(int)\n"
     ]
    },
    {
     "name": "stdout",
     "output_type": "stream",
     "text": [
      "16_PD\n",
      "17_EG\n"
     ]
    },
    {
     "name": "stderr",
     "output_type": "stream",
     "text": [
      "/var/folders/k1/8pz3zwd53cv4xvdj2pstv1440000gn/T/ipykernel_56585/1758887707.py:31: RuntimeWarning: invalid value encountered in cast\n",
      "  v_diag = vpg_fp[\"v\"][y_diagnostic == 1].values.astype(int)\n"
     ]
    },
    {
     "name": "stdout",
     "output_type": "stream",
     "text": [
      "18_MV\n",
      "19_FI\n"
     ]
    },
    {
     "name": "stderr",
     "output_type": "stream",
     "text": [
      "/Users/marcellosicbaldi/Library/CloudStorage/OneDrive-AlmaMaterStudiorumUniversitàdiBologna/Acq/NewAnalysis2023/CinC/Code/ppg_fiducials.py:51: RuntimeWarning: divide by zero encountered in divide\n",
      "  tau=(t-t_Pmax)/(T_beat-t_Pmax)\n",
      "/Users/marcellosicbaldi/Library/CloudStorage/OneDrive-AlmaMaterStudiorumUniversitàdiBologna/Acq/NewAnalysis2023/CinC/Code/ppg_fiducials.py:51: RuntimeWarning: invalid value encountered in divide\n",
      "  tau=(t-t_Pmax)/(T_beat-t_Pmax)\n",
      "/Users/marcellosicbaldi/Library/CloudStorage/OneDrive-AlmaMaterStudiorumUniversitàdiBologna/Acq/NewAnalysis2023/CinC/Code/ppg_fiducials.py:61: RuntimeWarning: divide by zero encountered in scalar divide\n",
      "  tau_wmax=(t_w-t_Pmax)/(T_beat-t_Pmax)\n",
      "/Users/marcellosicbaldi/Library/CloudStorage/OneDrive-AlmaMaterStudiorumUniversitàdiBologna/Acq/NewAnalysis2023/CinC/Code/ppg_fiducials.py:65: RuntimeWarning: invalid value encountered in scalar subtract\n",
      "  alfa=(beta*tau_wmax-2*tau_wmax+1)/(1-tau_wmax)\n",
      "/var/folders/k1/8pz3zwd53cv4xvdj2pstv1440000gn/T/ipykernel_56585/1758887707.py:31: RuntimeWarning: invalid value encountered in cast\n",
      "  v_diag = vpg_fp[\"v\"][y_diagnostic == 1].values.astype(int)\n"
     ]
    },
    {
     "name": "stdout",
     "output_type": "stream",
     "text": [
      "1_ID\n"
     ]
    },
    {
     "name": "stderr",
     "output_type": "stream",
     "text": [
      "/var/folders/k1/8pz3zwd53cv4xvdj2pstv1440000gn/T/ipykernel_56585/1758887707.py:31: RuntimeWarning: invalid value encountered in cast\n",
      "  v_diag = vpg_fp[\"v\"][y_diagnostic == 1].values.astype(int)\n"
     ]
    },
    {
     "name": "stdout",
     "output_type": "stream",
     "text": [
      "20_AC\n"
     ]
    },
    {
     "name": "stderr",
     "output_type": "stream",
     "text": [
      "/Users/marcellosicbaldi/Library/CloudStorage/OneDrive-AlmaMaterStudiorumUniversitàdiBologna/Acq/NewAnalysis2023/CinC/Code/ppg_fiducials.py:51: RuntimeWarning: divide by zero encountered in divide\n",
      "  tau=(t-t_Pmax)/(T_beat-t_Pmax)\n",
      "/Users/marcellosicbaldi/Library/CloudStorage/OneDrive-AlmaMaterStudiorumUniversitàdiBologna/Acq/NewAnalysis2023/CinC/Code/ppg_fiducials.py:51: RuntimeWarning: invalid value encountered in divide\n",
      "  tau=(t-t_Pmax)/(T_beat-t_Pmax)\n",
      "/Users/marcellosicbaldi/Library/CloudStorage/OneDrive-AlmaMaterStudiorumUniversitàdiBologna/Acq/NewAnalysis2023/CinC/Code/ppg_fiducials.py:61: RuntimeWarning: divide by zero encountered in scalar divide\n",
      "  tau_wmax=(t_w-t_Pmax)/(T_beat-t_Pmax)\n",
      "/Users/marcellosicbaldi/Library/CloudStorage/OneDrive-AlmaMaterStudiorumUniversitàdiBologna/Acq/NewAnalysis2023/CinC/Code/ppg_fiducials.py:65: RuntimeWarning: invalid value encountered in scalar subtract\n",
      "  alfa=(beta*tau_wmax-2*tau_wmax+1)/(1-tau_wmax)\n",
      "/var/folders/k1/8pz3zwd53cv4xvdj2pstv1440000gn/T/ipykernel_56585/1758887707.py:31: RuntimeWarning: invalid value encountered in cast\n",
      "  v_diag = vpg_fp[\"v\"][y_diagnostic == 1].values.astype(int)\n"
     ]
    },
    {
     "name": "stdout",
     "output_type": "stream",
     "text": [
      "21_CK\n"
     ]
    },
    {
     "name": "stderr",
     "output_type": "stream",
     "text": [
      "/var/folders/k1/8pz3zwd53cv4xvdj2pstv1440000gn/T/ipykernel_56585/1758887707.py:31: RuntimeWarning: invalid value encountered in cast\n",
      "  v_diag = vpg_fp[\"v\"][y_diagnostic == 1].values.astype(int)\n"
     ]
    },
    {
     "name": "stdout",
     "output_type": "stream",
     "text": [
      "22_CM\n"
     ]
    },
    {
     "name": "stderr",
     "output_type": "stream",
     "text": [
      "/Users/marcellosicbaldi/Library/CloudStorage/OneDrive-AlmaMaterStudiorumUniversitàdiBologna/Acq/NewAnalysis2023/CinC/Code/ppg_fiducials.py:51: RuntimeWarning: divide by zero encountered in divide\n",
      "  tau=(t-t_Pmax)/(T_beat-t_Pmax)\n",
      "/Users/marcellosicbaldi/Library/CloudStorage/OneDrive-AlmaMaterStudiorumUniversitàdiBologna/Acq/NewAnalysis2023/CinC/Code/ppg_fiducials.py:51: RuntimeWarning: invalid value encountered in divide\n",
      "  tau=(t-t_Pmax)/(T_beat-t_Pmax)\n",
      "/Users/marcellosicbaldi/Library/CloudStorage/OneDrive-AlmaMaterStudiorumUniversitàdiBologna/Acq/NewAnalysis2023/CinC/Code/ppg_fiducials.py:61: RuntimeWarning: divide by zero encountered in scalar divide\n",
      "  tau_wmax=(t_w-t_Pmax)/(T_beat-t_Pmax)\n",
      "/Users/marcellosicbaldi/Library/CloudStorage/OneDrive-AlmaMaterStudiorumUniversitàdiBologna/Acq/NewAnalysis2023/CinC/Code/ppg_fiducials.py:65: RuntimeWarning: invalid value encountered in scalar subtract\n",
      "  alfa=(beta*tau_wmax-2*tau_wmax+1)/(1-tau_wmax)\n"
     ]
    },
    {
     "name": "stdout",
     "output_type": "stream",
     "text": [
      "23_PP\n",
      "24_SM\n"
     ]
    },
    {
     "name": "stderr",
     "output_type": "stream",
     "text": [
      "/var/folders/k1/8pz3zwd53cv4xvdj2pstv1440000gn/T/ipykernel_56585/1758887707.py:31: RuntimeWarning: invalid value encountered in cast\n",
      "  v_diag = vpg_fp[\"v\"][y_diagnostic == 1].values.astype(int)\n"
     ]
    },
    {
     "name": "stdout",
     "output_type": "stream",
     "text": [
      "25_LP\n"
     ]
    },
    {
     "name": "stderr",
     "output_type": "stream",
     "text": [
      "/var/folders/k1/8pz3zwd53cv4xvdj2pstv1440000gn/T/ipykernel_56585/1758887707.py:31: RuntimeWarning: invalid value encountered in cast\n",
      "  v_diag = vpg_fp[\"v\"][y_diagnostic == 1].values.astype(int)\n"
     ]
    },
    {
     "name": "stdout",
     "output_type": "stream",
     "text": [
      "26_CB\n"
     ]
    },
    {
     "name": "stderr",
     "output_type": "stream",
     "text": [
      "/var/folders/k1/8pz3zwd53cv4xvdj2pstv1440000gn/T/ipykernel_56585/1758887707.py:31: RuntimeWarning: invalid value encountered in cast\n",
      "  v_diag = vpg_fp[\"v\"][y_diagnostic == 1].values.astype(int)\n"
     ]
    },
    {
     "name": "stdout",
     "output_type": "stream",
     "text": [
      "27_CM\n"
     ]
    },
    {
     "name": "stderr",
     "output_type": "stream",
     "text": [
      "/var/folders/k1/8pz3zwd53cv4xvdj2pstv1440000gn/T/ipykernel_56585/1758887707.py:31: RuntimeWarning: invalid value encountered in cast\n",
      "  v_diag = vpg_fp[\"v\"][y_diagnostic == 1].values.astype(int)\n"
     ]
    },
    {
     "name": "stdout",
     "output_type": "stream",
     "text": [
      "28_GM\n"
     ]
    },
    {
     "name": "stderr",
     "output_type": "stream",
     "text": [
      "/var/folders/k1/8pz3zwd53cv4xvdj2pstv1440000gn/T/ipykernel_56585/1758887707.py:31: RuntimeWarning: invalid value encountered in cast\n",
      "  v_diag = vpg_fp[\"v\"][y_diagnostic == 1].values.astype(int)\n"
     ]
    },
    {
     "name": "stdout",
     "output_type": "stream",
     "text": [
      "29_LT\n"
     ]
    },
    {
     "name": "stderr",
     "output_type": "stream",
     "text": [
      "/var/folders/k1/8pz3zwd53cv4xvdj2pstv1440000gn/T/ipykernel_56585/1758887707.py:31: RuntimeWarning: invalid value encountered in cast\n",
      "  v_diag = vpg_fp[\"v\"][y_diagnostic == 1].values.astype(int)\n"
     ]
    },
    {
     "name": "stdout",
     "output_type": "stream",
     "text": [
      "30_LN\n",
      "31_FB\n"
     ]
    },
    {
     "name": "stderr",
     "output_type": "stream",
     "text": [
      "/var/folders/k1/8pz3zwd53cv4xvdj2pstv1440000gn/T/ipykernel_56585/1758887707.py:31: RuntimeWarning: invalid value encountered in cast\n",
      "  v_diag = vpg_fp[\"v\"][y_diagnostic == 1].values.astype(int)\n"
     ]
    },
    {
     "name": "stdout",
     "output_type": "stream",
     "text": [
      "32_CD\n"
     ]
    },
    {
     "name": "stderr",
     "output_type": "stream",
     "text": [
      "/Users/marcellosicbaldi/Library/CloudStorage/OneDrive-AlmaMaterStudiorumUniversitàdiBologna/Acq/NewAnalysis2023/CinC/Code/ppg_fiducials.py:51: RuntimeWarning: divide by zero encountered in divide\n",
      "  tau=(t-t_Pmax)/(T_beat-t_Pmax)\n",
      "/Users/marcellosicbaldi/Library/CloudStorage/OneDrive-AlmaMaterStudiorumUniversitàdiBologna/Acq/NewAnalysis2023/CinC/Code/ppg_fiducials.py:51: RuntimeWarning: invalid value encountered in divide\n",
      "  tau=(t-t_Pmax)/(T_beat-t_Pmax)\n",
      "/Users/marcellosicbaldi/Library/CloudStorage/OneDrive-AlmaMaterStudiorumUniversitàdiBologna/Acq/NewAnalysis2023/CinC/Code/ppg_fiducials.py:61: RuntimeWarning: divide by zero encountered in scalar divide\n",
      "  tau_wmax=(t_w-t_Pmax)/(T_beat-t_Pmax)\n",
      "/Users/marcellosicbaldi/Library/CloudStorage/OneDrive-AlmaMaterStudiorumUniversitàdiBologna/Acq/NewAnalysis2023/CinC/Code/ppg_fiducials.py:65: RuntimeWarning: invalid value encountered in scalar subtract\n",
      "  alfa=(beta*tau_wmax-2*tau_wmax+1)/(1-tau_wmax)\n",
      "/var/folders/k1/8pz3zwd53cv4xvdj2pstv1440000gn/T/ipykernel_56585/1758887707.py:31: RuntimeWarning: invalid value encountered in cast\n",
      "  v_diag = vpg_fp[\"v\"][y_diagnostic == 1].values.astype(int)\n"
     ]
    },
    {
     "name": "stdout",
     "output_type": "stream",
     "text": [
      "33_NM\n"
     ]
    },
    {
     "name": "stderr",
     "output_type": "stream",
     "text": [
      "/Users/marcellosicbaldi/Library/CloudStorage/OneDrive-AlmaMaterStudiorumUniversitàdiBologna/Acq/NewAnalysis2023/CinC/Code/ppg_fiducials.py:51: RuntimeWarning: divide by zero encountered in divide\n",
      "  tau=(t-t_Pmax)/(T_beat-t_Pmax)\n",
      "/Users/marcellosicbaldi/Library/CloudStorage/OneDrive-AlmaMaterStudiorumUniversitàdiBologna/Acq/NewAnalysis2023/CinC/Code/ppg_fiducials.py:51: RuntimeWarning: invalid value encountered in divide\n",
      "  tau=(t-t_Pmax)/(T_beat-t_Pmax)\n",
      "/Users/marcellosicbaldi/Library/CloudStorage/OneDrive-AlmaMaterStudiorumUniversitàdiBologna/Acq/NewAnalysis2023/CinC/Code/ppg_fiducials.py:61: RuntimeWarning: divide by zero encountered in scalar divide\n",
      "  tau_wmax=(t_w-t_Pmax)/(T_beat-t_Pmax)\n",
      "/Users/marcellosicbaldi/Library/CloudStorage/OneDrive-AlmaMaterStudiorumUniversitàdiBologna/Acq/NewAnalysis2023/CinC/Code/ppg_fiducials.py:65: RuntimeWarning: invalid value encountered in scalar subtract\n",
      "  alfa=(beta*tau_wmax-2*tau_wmax+1)/(1-tau_wmax)\n",
      "/var/folders/k1/8pz3zwd53cv4xvdj2pstv1440000gn/T/ipykernel_56585/1758887707.py:31: RuntimeWarning: invalid value encountered in cast\n",
      "  v_diag = vpg_fp[\"v\"][y_diagnostic == 1].values.astype(int)\n"
     ]
    },
    {
     "name": "stdout",
     "output_type": "stream",
     "text": [
      "34_AS\n",
      "35_AA\n"
     ]
    },
    {
     "name": "stderr",
     "output_type": "stream",
     "text": [
      "/Users/marcellosicbaldi/Library/CloudStorage/OneDrive-AlmaMaterStudiorumUniversitàdiBologna/Acq/NewAnalysis2023/CinC/Code/ppg_fiducials.py:51: RuntimeWarning: divide by zero encountered in divide\n",
      "  tau=(t-t_Pmax)/(T_beat-t_Pmax)\n",
      "/Users/marcellosicbaldi/Library/CloudStorage/OneDrive-AlmaMaterStudiorumUniversitàdiBologna/Acq/NewAnalysis2023/CinC/Code/ppg_fiducials.py:51: RuntimeWarning: invalid value encountered in divide\n",
      "  tau=(t-t_Pmax)/(T_beat-t_Pmax)\n",
      "/Users/marcellosicbaldi/Library/CloudStorage/OneDrive-AlmaMaterStudiorumUniversitàdiBologna/Acq/NewAnalysis2023/CinC/Code/ppg_fiducials.py:61: RuntimeWarning: divide by zero encountered in scalar divide\n",
      "  tau_wmax=(t_w-t_Pmax)/(T_beat-t_Pmax)\n",
      "/Users/marcellosicbaldi/Library/CloudStorage/OneDrive-AlmaMaterStudiorumUniversitàdiBologna/Acq/NewAnalysis2023/CinC/Code/ppg_fiducials.py:65: RuntimeWarning: invalid value encountered in scalar subtract\n",
      "  alfa=(beta*tau_wmax-2*tau_wmax+1)/(1-tau_wmax)\n",
      "/var/folders/k1/8pz3zwd53cv4xvdj2pstv1440000gn/T/ipykernel_56585/1758887707.py:31: RuntimeWarning: invalid value encountered in cast\n",
      "  v_diag = vpg_fp[\"v\"][y_diagnostic == 1].values.astype(int)\n"
     ]
    },
    {
     "name": "stdout",
     "output_type": "stream",
     "text": [
      "36_GS\n"
     ]
    },
    {
     "name": "stderr",
     "output_type": "stream",
     "text": [
      "/var/folders/k1/8pz3zwd53cv4xvdj2pstv1440000gn/T/ipykernel_56585/1758887707.py:31: RuntimeWarning: invalid value encountered in cast\n",
      "  v_diag = vpg_fp[\"v\"][y_diagnostic == 1].values.astype(int)\n"
     ]
    },
    {
     "name": "stdout",
     "output_type": "stream",
     "text": [
      "37_IC\n"
     ]
    },
    {
     "name": "stderr",
     "output_type": "stream",
     "text": [
      "/var/folders/k1/8pz3zwd53cv4xvdj2pstv1440000gn/T/ipykernel_56585/1758887707.py:31: RuntimeWarning: invalid value encountered in cast\n",
      "  v_diag = vpg_fp[\"v\"][y_diagnostic == 1].values.astype(int)\n"
     ]
    },
    {
     "name": "stdout",
     "output_type": "stream",
     "text": [
      "38_GC\n"
     ]
    },
    {
     "name": "stderr",
     "output_type": "stream",
     "text": [
      "/var/folders/k1/8pz3zwd53cv4xvdj2pstv1440000gn/T/ipykernel_56585/1758887707.py:31: RuntimeWarning: invalid value encountered in cast\n",
      "  v_diag = vpg_fp[\"v\"][y_diagnostic == 1].values.astype(int)\n"
     ]
    },
    {
     "name": "stdout",
     "output_type": "stream",
     "text": [
      "39_NB\n"
     ]
    },
    {
     "name": "stderr",
     "output_type": "stream",
     "text": [
      "/var/folders/k1/8pz3zwd53cv4xvdj2pstv1440000gn/T/ipykernel_56585/1758887707.py:31: RuntimeWarning: invalid value encountered in cast\n",
      "  v_diag = vpg_fp[\"v\"][y_diagnostic == 1].values.astype(int)\n"
     ]
    },
    {
     "name": "stdout",
     "output_type": "stream",
     "text": [
      "3_JF\n"
     ]
    },
    {
     "name": "stderr",
     "output_type": "stream",
     "text": [
      "/var/folders/k1/8pz3zwd53cv4xvdj2pstv1440000gn/T/ipykernel_56585/1758887707.py:31: RuntimeWarning: invalid value encountered in cast\n",
      "  v_diag = vpg_fp[\"v\"][y_diagnostic == 1].values.astype(int)\n"
     ]
    },
    {
     "name": "stdout",
     "output_type": "stream",
     "text": [
      "40_SQ\n"
     ]
    },
    {
     "name": "stderr",
     "output_type": "stream",
     "text": [
      "/Users/marcellosicbaldi/Library/CloudStorage/OneDrive-AlmaMaterStudiorumUniversitàdiBologna/Acq/NewAnalysis2023/CinC/Code/ppg_fiducials.py:51: RuntimeWarning: divide by zero encountered in divide\n",
      "  tau=(t-t_Pmax)/(T_beat-t_Pmax)\n",
      "/Users/marcellosicbaldi/Library/CloudStorage/OneDrive-AlmaMaterStudiorumUniversitàdiBologna/Acq/NewAnalysis2023/CinC/Code/ppg_fiducials.py:51: RuntimeWarning: invalid value encountered in divide\n",
      "  tau=(t-t_Pmax)/(T_beat-t_Pmax)\n",
      "/Users/marcellosicbaldi/Library/CloudStorage/OneDrive-AlmaMaterStudiorumUniversitàdiBologna/Acq/NewAnalysis2023/CinC/Code/ppg_fiducials.py:61: RuntimeWarning: divide by zero encountered in scalar divide\n",
      "  tau_wmax=(t_w-t_Pmax)/(T_beat-t_Pmax)\n",
      "/Users/marcellosicbaldi/Library/CloudStorage/OneDrive-AlmaMaterStudiorumUniversitàdiBologna/Acq/NewAnalysis2023/CinC/Code/ppg_fiducials.py:65: RuntimeWarning: invalid value encountered in scalar subtract\n",
      "  alfa=(beta*tau_wmax-2*tau_wmax+1)/(1-tau_wmax)\n",
      "/var/folders/k1/8pz3zwd53cv4xvdj2pstv1440000gn/T/ipykernel_56585/1758887707.py:31: RuntimeWarning: invalid value encountered in cast\n",
      "  v_diag = vpg_fp[\"v\"][y_diagnostic == 1].values.astype(int)\n"
     ]
    },
    {
     "name": "stdout",
     "output_type": "stream",
     "text": [
      "4_MF\n"
     ]
    },
    {
     "name": "stderr",
     "output_type": "stream",
     "text": [
      "/var/folders/k1/8pz3zwd53cv4xvdj2pstv1440000gn/T/ipykernel_56585/1758887707.py:31: RuntimeWarning: invalid value encountered in cast\n",
      "  v_diag = vpg_fp[\"v\"][y_diagnostic == 1].values.astype(int)\n"
     ]
    },
    {
     "name": "stdout",
     "output_type": "stream",
     "text": [
      "5_PD\n"
     ]
    },
    {
     "name": "stderr",
     "output_type": "stream",
     "text": [
      "/Users/marcellosicbaldi/Library/CloudStorage/OneDrive-AlmaMaterStudiorumUniversitàdiBologna/Acq/NewAnalysis2023/CinC/Code/ppg_fiducials.py:51: RuntimeWarning: divide by zero encountered in divide\n",
      "  tau=(t-t_Pmax)/(T_beat-t_Pmax)\n",
      "/Users/marcellosicbaldi/Library/CloudStorage/OneDrive-AlmaMaterStudiorumUniversitàdiBologna/Acq/NewAnalysis2023/CinC/Code/ppg_fiducials.py:51: RuntimeWarning: invalid value encountered in divide\n",
      "  tau=(t-t_Pmax)/(T_beat-t_Pmax)\n",
      "/Users/marcellosicbaldi/Library/CloudStorage/OneDrive-AlmaMaterStudiorumUniversitàdiBologna/Acq/NewAnalysis2023/CinC/Code/ppg_fiducials.py:61: RuntimeWarning: divide by zero encountered in scalar divide\n",
      "  tau_wmax=(t_w-t_Pmax)/(T_beat-t_Pmax)\n",
      "/Users/marcellosicbaldi/Library/CloudStorage/OneDrive-AlmaMaterStudiorumUniversitàdiBologna/Acq/NewAnalysis2023/CinC/Code/ppg_fiducials.py:65: RuntimeWarning: invalid value encountered in scalar subtract\n",
      "  alfa=(beta*tau_wmax-2*tau_wmax+1)/(1-tau_wmax)\n",
      "/var/folders/k1/8pz3zwd53cv4xvdj2pstv1440000gn/T/ipykernel_56585/1758887707.py:31: RuntimeWarning: invalid value encountered in cast\n",
      "  v_diag = vpg_fp[\"v\"][y_diagnostic == 1].values.astype(int)\n"
     ]
    },
    {
     "name": "stdout",
     "output_type": "stream",
     "text": [
      "6_SS\n"
     ]
    },
    {
     "name": "stderr",
     "output_type": "stream",
     "text": [
      "/var/folders/k1/8pz3zwd53cv4xvdj2pstv1440000gn/T/ipykernel_56585/1758887707.py:31: RuntimeWarning: invalid value encountered in cast\n",
      "  v_diag = vpg_fp[\"v\"][y_diagnostic == 1].values.astype(int)\n"
     ]
    },
    {
     "name": "stdout",
     "output_type": "stream",
     "text": [
      "7_GM\n"
     ]
    },
    {
     "name": "stderr",
     "output_type": "stream",
     "text": [
      "/var/folders/k1/8pz3zwd53cv4xvdj2pstv1440000gn/T/ipykernel_56585/1758887707.py:31: RuntimeWarning: invalid value encountered in cast\n",
      "  v_diag = vpg_fp[\"v\"][y_diagnostic == 1].values.astype(int)\n"
     ]
    },
    {
     "name": "stdout",
     "output_type": "stream",
     "text": [
      "8_MB\n"
     ]
    },
    {
     "name": "stderr",
     "output_type": "stream",
     "text": [
      "/var/folders/k1/8pz3zwd53cv4xvdj2pstv1440000gn/T/ipykernel_56585/1758887707.py:31: RuntimeWarning: invalid value encountered in cast\n",
      "  v_diag = vpg_fp[\"v\"][y_diagnostic == 1].values.astype(int)\n"
     ]
    },
    {
     "name": "stdout",
     "output_type": "stream",
     "text": [
      "9_BC\n"
     ]
    },
    {
     "name": "stderr",
     "output_type": "stream",
     "text": [
      "/var/folders/k1/8pz3zwd53cv4xvdj2pstv1440000gn/T/ipykernel_56585/1758887707.py:25: RuntimeWarning: invalid value encountered in cast\n",
      "  e_diag = apg_fp[\"e\"][y_diagnostic == 1].values.astype(int)\n",
      "/var/folders/k1/8pz3zwd53cv4xvdj2pstv1440000gn/T/ipykernel_56585/1758887707.py:26: RuntimeWarning: invalid value encountered in cast\n",
      "  a_diag = apg_fp[\"a\"][y_diagnostic == 1].values.astype(int)\n",
      "/var/folders/k1/8pz3zwd53cv4xvdj2pstv1440000gn/T/ipykernel_56585/1758887707.py:27: RuntimeWarning: invalid value encountered in cast\n",
      "  b_diag = apg_fp[\"b\"][y_diagnostic == 1].values.astype(int)\n",
      "/var/folders/k1/8pz3zwd53cv4xvdj2pstv1440000gn/T/ipykernel_56585/1758887707.py:31: RuntimeWarning: invalid value encountered in cast\n",
      "  v_diag = vpg_fp[\"v\"][y_diagnostic == 1].values.astype(int)\n"
     ]
    }
   ],
   "source": [
    "fs = 64\n",
    "for i, sub_ID in enumerate(sub_names): \n",
    "    print(sub_ID)\n",
    "    ppg_path = glob.glob(HOM_path + sub_ID + '/**/BVP.csv', recursive=True)[0]\n",
    "    acc_path = glob.glob(HOM_path + sub_ID + '/**/ACC.csv', recursive=True)[0]\n",
    "    ppg = pd.read_csv(ppg_path, header = None)[2:].to_numpy().squeeze()\n",
    "    acc = pd.read_csv(acc_path, header = None)[2:].to_numpy().squeeze()\n",
    "    y_basic = pd.read_csv(data_path + sub_ID + '/' + '/y_basic.csv', header = None).to_numpy().squeeze()\n",
    "    y_diagnostic = pd.read_csv(data_path + sub_ID + '/' + '/y_diagnostic.csv', header = None).to_numpy().squeeze()\n",
    "    I_foot = pd.read_csv(data_path + sub_ID + '/' + '/I_foot.csv', header=None).to_numpy().squeeze() - 1 # -1 because matlab is 1-indexed\n",
    "    I_peak = pd.read_csv(data_path + sub_ID + '/' + '/I_peak.csv', header=None).to_numpy().squeeze() - 1\n",
    "    if I_peak[0] < I_foot[0]:\n",
    "        I_peak = I_peak[1:]\n",
    "    if I_foot[-1] > I_peak[-1]:\n",
    "        I_foot = I_foot[:-1]\n",
    "    I_peak_diag = I_peak[:-1][y_diagnostic == 1]\n",
    "    start_diag = I_foot[:-1][y_diagnostic == 1]\n",
    "    end_diag = I_foot[1:][y_diagnostic == 1]\n",
    "    diag_pulses = np.sort(np.concatenate((start_diag, end_diag)))\n",
    "    diag_pulses[::2].shape, I_peak_diag.shape\n",
    "\n",
    "    dn = get_dicrotic_notch(ppg, 64, I_peak, list(I_foot))\n",
    "    dn_diag = np.array(dn)[y_diagnostic == 1]\n",
    "    apg_fp = get_apg_fiducials(ppg, list(I_foot), I_peak)\n",
    "    e_diag = apg_fp[\"e\"][y_diagnostic == 1].values.astype(int)\n",
    "    a_diag = apg_fp[\"a\"][y_diagnostic == 1].values.astype(int)\n",
    "    b_diag = apg_fp[\"b\"][y_diagnostic == 1].values.astype(int)\n",
    "\n",
    "    vpg_fp = get_vpg_fiducials(ppg, list(I_foot))\n",
    "    u_diag = vpg_fp[\"u\"][y_diagnostic == 1].values.astype(int)\n",
    "    v_diag = vpg_fp[\"v\"][y_diagnostic == 1].values.astype(int)\n",
    "    dp_diag = get_diastolic_peak(ppg, diag_pulses, dn_diag, e_diag)\n",
    "    fiducials_diag = pd.DataFrame({\"onset\": diag_pulses[::2], \"offset\": diag_pulses[1::2]-1, \"sp\": I_peak_diag, \"dn\": dn_diag, \"dp\": dp_diag, \"u\": u_diag, \"v\": v_diag, \"a\": a_diag, \"b\": b_diag})\n",
    "    fiducials_diag[fiducials_diag < -5000000] = np.nan\n",
    "    fiducials_diag.dropna(inplace=True)\n",
    "    fiducials_diag = fiducials_diag.astype(int)\n",
    "\n",
    "    # plt.figure()\n",
    "    # plt.plot(ppg)\n",
    "    # plt.plot(fiducials_diag[\"dp\"], ppg[fiducials_diag[\"dp\"]], 'k*', markersize=6)\n",
    "    # plt.plot(fiducials_diag[\"dn\"], ppg[fiducials_diag[\"dn\"]], 'g*', markersize=6)\n",
    "    # for j in range(y_diagnostic.shape[0]):\n",
    "    #     if y_diagnostic[j] == 1:\n",
    "    #         plt.plot(np.arange(I_foot[j],I_foot[j+1]), ppg[np.arange(I_foot[j],I_foot[j+1])], 'r')\n",
    "    # ----- Time Intervals -----\n",
    "    # Tpi: time between the pulse onset and offset\n",
    "    # Tsys: time between the pulse onset and dn\n",
    "    # Tdia: time between the dn and pulse offset\n",
    "    # Tsp: time between the pulse onset and sp\n",
    "    # Tdp: time between the pulse onset and dp\n",
    "    # dT: time between sp and dp\n",
    "    Tpi = fiducials_diag[\"offset\"]/fs - fiducials_diag[\"onset\"]/fs\n",
    "    Tsys = fiducials_diag[\"dn\"]/fs - fiducials_diag[\"onset\"]/fs\n",
    "    Tdia = fiducials_diag[\"offset\"]/fs - fiducials_diag[\"dn\"]/fs\n",
    "    Tsp = fiducials_diag[\"sp\"]/fs - fiducials_diag[\"onset\"]/fs\n",
    "    Tdp = fiducials_diag[\"dp\"]/fs - fiducials_diag[\"onset\"]/fs\n",
    "    dT = fiducials_diag[\"dp\"]/fs - fiducials_diag[\"sp\"]/fs\n",
    "\n",
    "    # ---- Amplitudes -----\n",
    "    # Asp: difference in amplitude between onset and sp\n",
    "    # Adn: difference in amplitude between onset and dn\n",
    "    # Adp: difference in amplitude between onset and dp\n",
    "    Asp = ppg[fiducials_diag[\"sp\"]] - ppg[fiducials_diag[\"onset\"]]\n",
    "    Adn = ppg[fiducials_diag[\"dn\"]] - ppg[fiducials_diag[\"onset\"]]\n",
    "    Adp = ppg[fiducials_diag[\"dp\"]] - ppg[fiducials_diag[\"onset\"]]\n",
    "\n",
    "    # ---- Areas -----\n",
    "    # AUCpi: area under the whole pulse (between onset and offset)\n",
    "    # AUCsys: area under pulse wave between onset and dn\n",
    "    # AUCdia: area under pulse wave between dn and offset\n",
    "    AUCpi = np.zeros(len(fiducials_diag))\n",
    "    AUCsys = np.zeros(len(fiducials_diag))\n",
    "    AUCdia = np.zeros(len(fiducials_diag))\n",
    "    for i in range(len(fiducials_diag)):\n",
    "        AUCpi[i] = np.trapz(ppg[fiducials_diag[\"onset\"].iloc[i]:fiducials_diag[\"offset\"].iloc[i]])\n",
    "        AUCsys[i] = np.trapz(ppg[fiducials_diag[\"onset\"].iloc[i]:fiducials_diag[\"dn\"].iloc[i]])\n",
    "        AUCdia[i] = np.trapz(ppg[fiducials_diag[\"dn\"].iloc[i]:fiducials_diag[\"offset\"].iloc[i]])\n",
    "\n",
    "    # ---- Ratios -----\n",
    "    # TsysTdia: ratio between Tsys and Tdia\n",
    "    # TspTpi: ratio between Tsp and Tpi\n",
    "    # AdpAsp: ratio between Adp and Asp --> reflection index! \n",
    "    # IPA: ratio of the area under diastolic curve and the area under systolic curve\n",
    "    # TspAsp: ratio between Tsp and Asp\n",
    "    # AspdT: ratio between Asp and dT --> Stifness index\n",
    "    # AspTpiTsp: ratio between Asp and (Tpi - Tsp)\n",
    "    TsysTdia = Tsys/Tdia\n",
    "    TspTpi = Tsp/Tpi\n",
    "    AdpAsp = Adp/Asp\n",
    "    IPA = AUCdia/AUCsys\n",
    "    TspAsp = Tsp/Asp\n",
    "    AspdT = Asp/dT\n",
    "    AspTpiTsp = Asp/(Tpi - Tsp)\n",
    "\n",
    "    # ---- Derivatives -----\n",
    "    # Tu: time between the pulse onset and u\n",
    "    # Tv: time between the pulse onset and v\n",
    "    # Ta: time between the pulse onset and a\n",
    "    # Tb: time between the pulse onset and b\n",
    "    Tu = fiducials_diag[\"u\"]/fs - fiducials_diag[\"onset\"]/fs\n",
    "    Tv = fiducials_diag[\"v\"]/fs - fiducials_diag[\"onset\"]/fs\n",
    "    Ta = fiducials_diag[\"a\"]/fs - fiducials_diag[\"onset\"]/fs\n",
    "    Tb = fiducials_diag[\"b\"]/fs - fiducials_diag[\"onset\"]/fs\n",
    "\n",
    "    features = pd.DataFrame({\"Tpi\": Tpi, \"Tsys\": Tsys, \"Tdia\": Tdia, \"Tsp\": Tsp, \"Tdp\": Tdp, \"dT\": dT, \"Asp\": Asp, \"Adn\": Adn, \"Adp\": Adp, \"AUCpi\": AUCpi, \"AUCsys\": AUCsys, \"AUCdia\": AUCdia, \"Tsys/Tdia\": TsysTdia, \"Tsp/Tpi\": TspTpi, \"Adp/Asp\": AdpAsp, \"IPA\": IPA, \"Tsp/Asp\": TspAsp, \"Asp/dT\": AspdT, \"Asp/(Tpi-Tsp)\": AspTpiTsp, \"Tu\": Tu, \"Tv\": Tv, \"Ta\": Ta, \"Tb\": Tb})\n",
    "    features.to_csv(data_path + sub_ID + '/' + '/features.csv', index = False)\n",
    "    fiducials_diag.to_csv(data_path + sub_ID + '/' + '/fiducials.csv', index = False)"
   ]
  },
  {
   "cell_type": "code",
   "execution_count": null,
   "metadata": {},
   "outputs": [],
   "source": [
    "plt.close(\"all\")"
   ]
  },
  {
   "cell_type": "code",
   "execution_count": null,
   "metadata": {},
   "outputs": [],
   "source": [
    "fiducials_diag[fiducials_diag < -5000000] = np.nan\n",
    "fiducials_diag.dropna(inplace=True)"
   ]
  },
  {
   "attachments": {},
   "cell_type": "markdown",
   "metadata": {},
   "source": [
    "## Extract other features in 2.30 min windows"
   ]
  },
  {
   "cell_type": "code",
   "execution_count": 5,
   "metadata": {},
   "outputs": [],
   "source": [
    "import glob"
   ]
  },
  {
   "cell_type": "code",
   "execution_count": 6,
   "metadata": {},
   "outputs": [],
   "source": [
    "HOM_path = '/Users/marcellosicbaldi/Library/CloudStorage/OneDrive-AlmaMaterStudiorumUniversitàdiBologna/Acq/HOM_mod/'"
   ]
  },
  {
   "cell_type": "code",
   "execution_count": 8,
   "metadata": {},
   "outputs": [
    {
     "name": "stdout",
     "output_type": "stream",
     "text": [
      "12_FN\n"
     ]
    }
   ],
   "source": [
    "sub_ID = \"12_FN\"\n",
    "print(sub_ID)\n",
    "ppg_path = glob.glob(HOM_path + sub_ID + '/**/BVP.csv', recursive=True)[0]\n",
    "# acc_path = glob.glob(HOM_path + sub_ID + '/**/ACC.csv', recursive=True)[0]\n",
    "ppg_data = pd.read_csv(ppg_path, header = None)#[2:].to_numpy().squeeze()\n",
    "ppg_start = pd.to_datetime(ppg_data.iloc[0], unit='s')\n",
    "ppg = ppg_data[2:].to_numpy().squeeze()\n",
    "t_ppg = pd.date_range(start=ppg_start.iloc[0], periods = len(ppg), freq = '0.015625s')"
   ]
  },
  {
   "cell_type": "code",
   "execution_count": 9,
   "metadata": {},
   "outputs": [
    {
     "data": {
      "text/plain": [
       "2019-11-27 09:27:00.000000   -0.0\n",
       "2019-11-27 09:27:00.015625   -0.0\n",
       "2019-11-27 09:27:00.031250   -0.0\n",
       "2019-11-27 09:27:00.046875   -0.0\n",
       "2019-11-27 09:27:00.062500   -0.0\n",
       "Freq: 15625us, dtype: float64"
      ]
     },
     "execution_count": 9,
     "metadata": {},
     "output_type": "execute_result"
    }
   ],
   "source": [
    "ppg_df = pd.Series(ppg, index = t_ppg)\n",
    "\n",
    "ppg_df.head()"
   ]
  },
  {
   "cell_type": "code",
   "execution_count": 11,
   "metadata": {},
   "outputs": [
    {
     "data": {
      "text/plain": [
       "[<matplotlib.lines.Line2D at 0x7ff797a83c40>]"
      ]
     },
     "execution_count": 11,
     "metadata": {},
     "output_type": "execute_result"
    }
   ],
   "source": [
    "plt.figure()\n",
    "plt.plot(ppg_df)"
   ]
  },
  {
   "cell_type": "code",
   "execution_count": 15,
   "metadata": {},
   "outputs": [
    {
     "data": {
      "text/plain": [
       "Timestamp('2019-11-15 11:57:57')"
      ]
     },
     "execution_count": 15,
     "metadata": {},
     "output_type": "execute_result"
    }
   ],
   "source": [
    "pd.to_datetime(1573819077.000000, unit = \"s\")"
   ]
  },
  {
   "cell_type": "code",
   "execution_count": 12,
   "metadata": {},
   "outputs": [],
   "source": [
    "sampling_rate = 64  # Example sampling rate in Hz\n",
    "window_duration = 150  # Window duration in seconds\n",
    "\n",
    "# Calculate the number of data points in each window\n",
    "window_size = window_duration * sampling_rate\n",
    "\n",
    "# Calculate the total number of windows possible\n",
    "total_windows = len(ppg) // window_size\n",
    "\n",
    "# List to hold each window of data\n",
    "windows = []\n",
    "\n",
    "# Extract each window of data\n",
    "for i in range(total_windows):\n",
    "    start_index = i * window_size\n",
    "    end_index = start_index + window_size\n",
    "    window = ppg[start_index:end_index]\n",
    "    windows.append(window)"
   ]
  },
  {
   "cell_type": "code",
   "execution_count": 14,
   "metadata": {},
   "outputs": [
    {
     "data": {
      "text/plain": [
       "[<matplotlib.lines.Line2D at 0x7ff764dd3d00>]"
      ]
     },
     "execution_count": 14,
     "metadata": {},
     "output_type": "execute_result"
    }
   ],
   "source": [
    "plt.plot(windows[222])"
   ]
  },
  {
   "cell_type": "code",
   "execution_count": null,
   "metadata": {},
   "outputs": [],
   "source": [
    "import glob\n",
    "HOM_path = '/Users/marcellosicbaldi/Library/CloudStorage/OneDrive-AlmaMaterStudiorumUniversitàdiBologna/Acq/HOM_mod/'\n",
    "data_path = '/Volumes/Untitled/Hom3ostasis/CinC/Data_24hPulses/mod_oldQuality/'\n",
    "sub_names = sorted([f for f in os.listdir(HOM_path) if not f.startswith('.')])\n",
    "len(sub_names)\n",
    "fs = 64\n",
    "for i, sub_ID in enumerate(sub_names): \n",
    "    sub_ID = \"12_FN\"\n",
    "    print(sub_ID)\n",
    "    ppg_path = glob.glob(HOM_path + sub_ID + '/**/BVP.csv', recursive=True)[0]\n",
    "    # acc_path = glob.glob(HOM_path + sub_ID + '/**/ACC.csv', recursive=True)[0]\n",
    "    ppg_data = pd.read_csv(ppg_path, header = None)#[2:].to_numpy().squeeze()\n",
    "    ppg_start = pd.to_datetime(ppg_data.iloc[0], unit='s')\n",
    "    t_ppg = pd.date_range(start=ppg_start, periods=ppg_data.shape[0], freq='S')\n",
    "    ppg = ppg_data[2:].to_numpy().squeeze()\n",
    "    break\n",
    "    # acc = pd.read_csv(acc_path, header = None)[2:].to_numpy().squeeze()\n",
    "    y_basic = pd.read_csv(data_path + sub_ID + '/' + '/y_basic.csv', header = None).to_numpy().squeeze()\n",
    "    y_diagnostic = pd.read_csv(data_path + sub_ID + '/' + '/y_diagnostic.csv', header = None).to_numpy().squeeze()\n",
    "    I_foot = pd.read_csv(data_path + sub_ID + '/' + '/I_foot.csv', header=None).to_numpy().squeeze() - 1 # -1 because matlab is 1-indexed\n",
    "    I_peak = pd.read_csv(data_path + sub_ID + '/' + '/I_peak.csv', header=None).to_numpy().squeeze() - 1\n",
    "    if I_peak[0] < I_foot[0]:\n",
    "        I_peak = I_peak[1:]\n",
    "    if I_foot[-1] > I_peak[-1]:\n",
    "        I_foot = I_foot[:-1]\n",
    "\n",
    "    ppg_pulses = [ppg[I_foot[i]:I_foot[i+1]] for i in range(len(I_foot)-1)]\n",
    "\n",
    "    # Interpolate each pulse to 100 samples with cubic spline\n",
    "    ppg_pulses_interp = [np.interp(np.linspace(0, 1, 100), np.linspace(0, 1, len(pulse)), pulse) for pulse in ppg_pulses]\n",
    "\n",
    "    # Reconstruct the overall ppg using the interpolated pulses\n",
    "    I_foot = np.concatenate([[0], np.cumsum([len(pulse) for pulse in ppg_pulses_interp])])\n",
    "    I_peak = np.array([np.argmax(ppg_pulses_interp[i]) + I_foot[i] for i in range(len(ppg_pulses_interp))])\n",
    "    ppg = np.concatenate(ppg_pulses_interp)\n",
    "\n",
    "    I_peak_diag = I_peak[y_diagnostic == 1]\n",
    "    start_diag = I_foot[:-1][y_diagnostic == 1]\n",
    "    end_diag = I_foot[1:][y_diagnostic == 1]\n",
    "    diag_pulses = np.sort(np.concatenate((start_diag, end_diag)))\n",
    "    diag_pulses[::2].shape, I_peak_diag.shape\n",
    "\n",
    "    dn = get_dicrotic_notch(ppg, 64, I_peak, list(I_foot))\n",
    "    dn_diag = np.array(dn)[y_diagnostic == 1]\n",
    "    apg_fp = get_apg_fiducials(ppg, list(I_foot), I_peak)\n",
    "    e_diag = apg_fp[\"e\"][y_diagnostic == 1].values.astype(int)\n",
    "    a_diag = apg_fp[\"a\"][y_diagnostic == 1].values.astype(int)\n",
    "    b_diag = apg_fp[\"b\"][y_diagnostic == 1].values.astype(int)\n",
    "\n",
    "    vpg_fp = get_vpg_fiducials(ppg, list(I_foot))\n",
    "    u_diag = vpg_fp[\"u\"][y_diagnostic == 1].values.astype(int)\n",
    "    v_diag = vpg_fp[\"v\"][y_diagnostic == 1].values.astype(int)\n",
    "    dp_diag = get_diastolic_peak(ppg, diag_pulses, dn_diag, e_diag)\n",
    "    fiducials_diag = pd.DataFrame({\"onset\": diag_pulses[::2], \"offset\": diag_pulses[1::2]-1, \"sp\": I_peak_diag, \"dn\": dn_diag, \"dp\": dp_diag, \"u\": u_diag, \"v\": v_diag, \"a\": a_diag, \"b\": b_diag})\n",
    "    fiducials_diag[fiducials_diag < -5000000] = np.nan\n",
    "    fiducials_diag.dropna(inplace=True)\n",
    "    fiducials_diag = fiducials_diag.astype(int)\n",
    "\n",
    "    # plt.figure()\n",
    "    # plt.plot(ppg)\n",
    "    # plt.plot(fiducials_diag[\"dp\"], ppg[fiducials_diag[\"dp\"]], 'k*', markersize=6)\n",
    "    # plt.plot(fiducials_diag[\"dn\"], ppg[fiducials_diag[\"dn\"]], 'g*', markersize=6)\n",
    "    # for j in range(y_diagnostic.shape[0]):\n",
    "    #     if y_diagnostic[j] == 1:\n",
    "    #         plt.plot(np.arange(I_foot[j],I_foot[j+1]), ppg[np.arange(I_foot[j],I_foot[j+1])], 'r')\n",
    "    # ----- Time Intervals -----\n",
    "    # Tpi: time between the pulse onset and offset\n",
    "    # Tsys: time between the pulse onset and dn\n",
    "    # Tdia: time between the dn and pulse offset\n",
    "    # Tsp: time between the pulse onset and sp\n",
    "    # Tdp: time between the pulse onset and dp\n",
    "    # dT: time between sp and dp\n",
    "    Tpi = fiducials_diag[\"offset\"] - fiducials_diag[\"onset\"]\n",
    "    Tsys = fiducials_diag[\"dn\"] - fiducials_diag[\"onset\"]\n",
    "    Tdia = fiducials_diag[\"offset\"] - fiducials_diag[\"dn\"]\n",
    "    Tsp = fiducials_diag[\"sp\"] - fiducials_diag[\"onset\"]\n",
    "    Tdp = fiducials_diag[\"dp\"] - fiducials_diag[\"onset\"]\n",
    "    dT = fiducials_diag[\"dp\"] - fiducials_diag[\"sp\"]\n",
    "\n",
    "    # ---- Amplitudes -----\n",
    "    # Asp: difference in amplitude between onset and sp\n",
    "    # Adn: difference in amplitude between onset and dn\n",
    "    # Adp: difference in amplitude between onset and dp\n",
    "    Asp = ppg[fiducials_diag[\"sp\"]] - ppg[fiducials_diag[\"onset\"]]\n",
    "    Adn = ppg[fiducials_diag[\"dn\"]] - ppg[fiducials_diag[\"onset\"]]\n",
    "    Adp = ppg[fiducials_diag[\"dp\"]] - ppg[fiducials_diag[\"onset\"]]\n",
    "\n",
    "    # ---- Areas -----\n",
    "    # AUCpi: area under the whole pulse (between onset and offset)\n",
    "    # AUCsys: area under pulse wave between onset and dn\n",
    "    # AUCdia: area under pulse wave between dn and offset\n",
    "    AUCpi = np.zeros(len(fiducials_diag))\n",
    "    AUCsys = np.zeros(len(fiducials_diag))\n",
    "    AUCdia = np.zeros(len(fiducials_diag))\n",
    "    for i in range(len(fiducials_diag)):\n",
    "        AUCpi[i] = np.trapz(ppg[fiducials_diag[\"onset\"].iloc[i]:fiducials_diag[\"offset\"].iloc[i]])\n",
    "        AUCsys[i] = np.trapz(ppg[fiducials_diag[\"onset\"].iloc[i]:fiducials_diag[\"dn\"].iloc[i]])\n",
    "        AUCdia[i] = np.trapz(ppg[fiducials_diag[\"dn\"].iloc[i]:fiducials_diag[\"offset\"].iloc[i]])\n",
    "\n",
    "    # ---- Ratios -----\n",
    "    # TsysTdia: ratio between Tsys and Tdia\n",
    "    # TspTpi: ratio between Tsp and Tpi\n",
    "    # AdpAsp: ratio between Adp and Asp --> reflection index! \n",
    "    # IPA: ratio of the area under diastolic curve and the area under systolic curve\n",
    "    # TspAsp: ratio between Tsp and Asp\n",
    "    # AspdT: ratio between Asp and dT --> Stifness index\n",
    "    # AspTpiTsp: ratio between Asp and (Tpi - Tsp)\n",
    "    TsysTdia = Tsys/Tdia\n",
    "    TspTpi = Tsp/Tpi\n",
    "    AdpAsp = Adp/Asp\n",
    "    IPA = AUCdia/AUCsys\n",
    "    TspAsp = Tsp/Asp\n",
    "    AspdT = Asp/dT\n",
    "    AspTpiTsp = Asp/(Tpi - Tsp)\n",
    "    Rslope = Asp/Tsys\n",
    "\n",
    "    # ---- Derivatives -----\n",
    "    # Tu: time between the pulse onset and u\n",
    "    # Tv: time between the pulse onset and v\n",
    "    # Ta: time between the pulse onset and a\n",
    "    # Tb: time between the pulse onset and b\n",
    "    Tu = fiducials_diag[\"u\"] - fiducials_diag[\"onset\"]\n",
    "    Tv = fiducials_diag[\"v\"] - fiducials_diag[\"onset\"]\n",
    "    Ta = fiducials_diag[\"a\"] - fiducials_diag[\"onset\"]\n",
    "    Tb = fiducials_diag[\"b\"] - fiducials_diag[\"onset\"]\n",
    "\n",
    "    features = pd.DataFrame({\"Tpi\": Tpi, \"Tsys\": Tsys, \"Tdia\": Tdia, \"Tsp\": Tsp, \"Tdp\": Tdp, \"dT\": dT, \"Asp\": Asp, \"Adn\": Adn, \"Adp\": Adp, \"AUCpi\": AUCpi, \"AUCsys\": AUCsys, \"AUCdia\": AUCdia, \"Tsys/Tdia\": TsysTdia, \"Tsp/Tpi\": TspTpi, \"Adp/Asp\": AdpAsp, \"IPA\": IPA, \"Tsp/Asp\": TspAsp, \"Asp/dT\": AspdT, \"Asp/(Tpi-Tsp)\": AspTpiTsp, \"Rslope\": Rslope, \"Tu\": Tu, \"Tv\": Tv, \"Ta\": Ta, \"Tb\": Tb})\n",
    "    features.to_csv(data_path + sub_ID + '/' + '/features.csv', index = False)\n",
    "    fiducials_diag.to_csv(data_path + sub_ID + '/' + '/fiducials.csv', index = False)"
   ]
  }
 ],
 "metadata": {
  "kernelspec": {
   "display_name": "ppgenv",
   "language": "python",
   "name": "python3"
  },
  "language_info": {
   "codemirror_mode": {
    "name": "ipython",
    "version": 3
   },
   "file_extension": ".py",
   "mimetype": "text/x-python",
   "name": "python",
   "nbconvert_exporter": "python",
   "pygments_lexer": "ipython3",
   "version": "3.10.13"
  },
  "orig_nbformat": 4
 },
 "nbformat": 4,
 "nbformat_minor": 2
}
